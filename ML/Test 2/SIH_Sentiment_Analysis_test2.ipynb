{
 "cells": [
  {
   "cell_type": "code",
   "execution_count": 1,
   "metadata": {
    "colab": {
     "base_uri": "https://localhost:8080/"
    },
    "id": "PeUc3K1ba-7X",
    "outputId": "1cf2ee29-368c-4a4c-bb0b-fa0d66840b51"
   },
   "outputs": [
    {
     "name": "stdout",
     "output_type": "stream",
     "text": [
      "Mounted at /content/drive/\n"
     ]
    }
   ],
   "source": [
    "from google.colab import drive\n",
    "drive.mount('/content/drive/')"
   ]
  },
  {
   "cell_type": "code",
   "execution_count": 2,
   "metadata": {
    "id": "2eoLKD1ubGXR"
   },
   "outputs": [],
   "source": [
    "# DataFrame\n",
    "import pandas as pd\n",
    "\n",
    "# Matplot\n",
    "import matplotlib.pyplot as plt\n",
    "%matplotlib inline\n",
    "\n",
    "# Scikit-learn\n",
    "from sklearn.model_selection import train_test_split\n",
    "from sklearn.preprocessing import LabelEncoder\n",
    "from sklearn.metrics import confusion_matrix, classification_report, accuracy_score\n",
    "from sklearn.manifold import TSNE\n",
    "from sklearn.feature_extraction.text import TfidfVectorizer\n",
    "\n",
    "# Keras\n",
    "from keras.preprocessing.text import Tokenizer\n",
    "from keras.utils import pad_sequences\n",
    "from keras.models import Sequential\n",
    "from keras.layers import Activation, Dense, Dropout, Embedding, Flatten, Conv1D, MaxPooling1D, LSTM\n",
    "from keras import utils\n",
    "from keras.callbacks import ReduceLROnPlateau, EarlyStopping\n",
    "\n",
    "# nltk\n",
    "import nltk\n",
    "from nltk.corpus import stopwords\n",
    "from  nltk.stem import SnowballStemmer\n",
    "\n",
    "# Word2vec\n",
    "import gensim\n",
    "\n",
    "# Utility\n",
    "import re\n",
    "import numpy as np\n",
    "import os\n",
    "from collections import Counter\n",
    "import logging\n",
    "import time\n",
    "import pickle\n",
    "import itertools\n",
    "\n",
    "# Set log\n",
    "logging.basicConfig(format='%(asctime)s : %(levelname)s : %(message)s', level=logging.INFO)"
   ]
  },
  {
   "cell_type": "code",
   "execution_count": 3,
   "metadata": {
    "colab": {
     "base_uri": "https://localhost:8080/"
    },
    "id": "0hc-ekmFbK-P",
    "outputId": "b743b7ca-5e4e-4da2-aca3-88cd617a358a"
   },
   "outputs": [
    {
     "name": "stderr",
     "output_type": "stream",
     "text": [
      "[nltk_data] Downloading package stopwords to /root/nltk_data...\n",
      "[nltk_data]   Unzipping corpora/stopwords.zip.\n"
     ]
    },
    {
     "data": {
      "text/plain": [
       "True"
      ]
     },
     "execution_count": 3,
     "metadata": {},
     "output_type": "execute_result"
    }
   ],
   "source": [
    "nltk.download('stopwords')"
   ]
  },
  {
   "cell_type": "code",
   "execution_count": 31,
   "metadata": {
    "id": "_1adwC7ybTmi"
   },
   "outputs": [],
   "source": [
    "DATASET_COLUMNS = [\"target\", \"ids\", \"date\", \"flag\", \"user\", \"text\"]\n",
    "DATASET_ENCODING = \"ISO-8859-1\"\n",
    "TRAIN_SIZE = 0.8\n",
    "\n",
    "\n",
    "TEXT_CLEANING_RE = \"@\\S+|https?:\\S+|http?:\\S|[^A-Za-z0-9]+\"\n",
    "\n",
    "\n",
    "W2V_SIZE = 300\n",
    "W2V_WINDOW = 7\n",
    "W2V_EPOCH = 32\n",
    "W2V_MIN_COUNT = 10\n",
    "\n",
    "\n",
    "SEQUENCE_LENGTH = 300\n",
    "EPOCHS = 8\n",
    "BATCH_SIZE = 1024\n",
    "\n",
    "POSITIVE = \"POSITIVE\"\n",
    "NEGATIVE = \"NEGATIVE\"\n",
    "NEUTRAL = \"NEUTRAL\"\n",
    "SENTIMENT_THRESHOLDS = (0.4, 0.7)\n",
    "\n",
    "KERAS_MODEL = \"modeltest2.h5\"\n",
    "WORD2VEC_MODEL = \"modeltest2.w2v\"\n",
    "TOKENIZER_MODEL = \"tokenizertest2.pkl\"\n",
    "ENCODER_MODEL = \"encodertest2.pkl\""
   ]
  },
  {
   "cell_type": "code",
   "execution_count": 5,
   "metadata": {
    "id": "Iw_QZ1TQbYhv"
   },
   "outputs": [],
   "source": [
    "df = pd.read_csv('/content/drive/MyDrive/Dataset/training.1600000.processed.noemoticon.csv', encoding =DATASET_ENCODING , names=DATASET_COLUMNS)"
   ]
  },
  {
   "cell_type": "code",
   "execution_count": 6,
   "metadata": {
    "colab": {
     "base_uri": "https://localhost:8080/",
     "height": 206
    },
    "id": "Uvj9VH9pbb5P",
    "outputId": "740a6240-0ff4-4a02-d915-10c5dd30ae83"
   },
   "outputs": [
    {
     "data": {
      "text/html": [
       "\n",
       "  <div id=\"df-5770a80b-7ea0-43a6-a6df-8aab8aba6bfa\" class=\"colab-df-container\">\n",
       "    <div>\n",
       "<style scoped>\n",
       "    .dataframe tbody tr th:only-of-type {\n",
       "        vertical-align: middle;\n",
       "    }\n",
       "\n",
       "    .dataframe tbody tr th {\n",
       "        vertical-align: top;\n",
       "    }\n",
       "\n",
       "    .dataframe thead th {\n",
       "        text-align: right;\n",
       "    }\n",
       "</style>\n",
       "<table border=\"1\" class=\"dataframe\">\n",
       "  <thead>\n",
       "    <tr style=\"text-align: right;\">\n",
       "      <th></th>\n",
       "      <th>target</th>\n",
       "      <th>ids</th>\n",
       "      <th>date</th>\n",
       "      <th>flag</th>\n",
       "      <th>user</th>\n",
       "      <th>text</th>\n",
       "    </tr>\n",
       "  </thead>\n",
       "  <tbody>\n",
       "    <tr>\n",
       "      <th>0</th>\n",
       "      <td>0</td>\n",
       "      <td>1467810369</td>\n",
       "      <td>Mon Apr 06 22:19:45 PDT 2009</td>\n",
       "      <td>NO_QUERY</td>\n",
       "      <td>_TheSpecialOne_</td>\n",
       "      <td>@switchfoot http://twitpic.com/2y1zl - Awww, t...</td>\n",
       "    </tr>\n",
       "    <tr>\n",
       "      <th>1</th>\n",
       "      <td>0</td>\n",
       "      <td>1467810672</td>\n",
       "      <td>Mon Apr 06 22:19:49 PDT 2009</td>\n",
       "      <td>NO_QUERY</td>\n",
       "      <td>scotthamilton</td>\n",
       "      <td>is upset that he can't update his Facebook by ...</td>\n",
       "    </tr>\n",
       "    <tr>\n",
       "      <th>2</th>\n",
       "      <td>0</td>\n",
       "      <td>1467810917</td>\n",
       "      <td>Mon Apr 06 22:19:53 PDT 2009</td>\n",
       "      <td>NO_QUERY</td>\n",
       "      <td>mattycus</td>\n",
       "      <td>@Kenichan I dived many times for the ball. Man...</td>\n",
       "    </tr>\n",
       "    <tr>\n",
       "      <th>3</th>\n",
       "      <td>0</td>\n",
       "      <td>1467811184</td>\n",
       "      <td>Mon Apr 06 22:19:57 PDT 2009</td>\n",
       "      <td>NO_QUERY</td>\n",
       "      <td>ElleCTF</td>\n",
       "      <td>my whole body feels itchy and like its on fire</td>\n",
       "    </tr>\n",
       "    <tr>\n",
       "      <th>4</th>\n",
       "      <td>0</td>\n",
       "      <td>1467811193</td>\n",
       "      <td>Mon Apr 06 22:19:57 PDT 2009</td>\n",
       "      <td>NO_QUERY</td>\n",
       "      <td>Karoli</td>\n",
       "      <td>@nationwideclass no, it's not behaving at all....</td>\n",
       "    </tr>\n",
       "  </tbody>\n",
       "</table>\n",
       "</div>\n",
       "    <div class=\"colab-df-buttons\">\n",
       "\n",
       "  <div class=\"colab-df-container\">\n",
       "    <button class=\"colab-df-convert\" onclick=\"convertToInteractive('df-5770a80b-7ea0-43a6-a6df-8aab8aba6bfa')\"\n",
       "            title=\"Convert this dataframe to an interactive table.\"\n",
       "            style=\"display:none;\">\n",
       "\n",
       "  <svg xmlns=\"http://www.w3.org/2000/svg\" height=\"24px\" viewBox=\"0 -960 960 960\">\n",
       "    <path d=\"M120-120v-720h720v720H120Zm60-500h600v-160H180v160Zm220 220h160v-160H400v160Zm0 220h160v-160H400v160ZM180-400h160v-160H180v160Zm440 0h160v-160H620v160ZM180-180h160v-160H180v160Zm440 0h160v-160H620v160Z\"/>\n",
       "  </svg>\n",
       "    </button>\n",
       "\n",
       "  <style>\n",
       "    .colab-df-container {\n",
       "      display:flex;\n",
       "      gap: 12px;\n",
       "    }\n",
       "\n",
       "    .colab-df-convert {\n",
       "      background-color: #E8F0FE;\n",
       "      border: none;\n",
       "      border-radius: 50%;\n",
       "      cursor: pointer;\n",
       "      display: none;\n",
       "      fill: #1967D2;\n",
       "      height: 32px;\n",
       "      padding: 0 0 0 0;\n",
       "      width: 32px;\n",
       "    }\n",
       "\n",
       "    .colab-df-convert:hover {\n",
       "      background-color: #E2EBFA;\n",
       "      box-shadow: 0px 1px 2px rgba(60, 64, 67, 0.3), 0px 1px 3px 1px rgba(60, 64, 67, 0.15);\n",
       "      fill: #174EA6;\n",
       "    }\n",
       "\n",
       "    .colab-df-buttons div {\n",
       "      margin-bottom: 4px;\n",
       "    }\n",
       "\n",
       "    [theme=dark] .colab-df-convert {\n",
       "      background-color: #3B4455;\n",
       "      fill: #D2E3FC;\n",
       "    }\n",
       "\n",
       "    [theme=dark] .colab-df-convert:hover {\n",
       "      background-color: #434B5C;\n",
       "      box-shadow: 0px 1px 3px 1px rgba(0, 0, 0, 0.15);\n",
       "      filter: drop-shadow(0px 1px 2px rgba(0, 0, 0, 0.3));\n",
       "      fill: #FFFFFF;\n",
       "    }\n",
       "  </style>\n",
       "\n",
       "    <script>\n",
       "      const buttonEl =\n",
       "        document.querySelector('#df-5770a80b-7ea0-43a6-a6df-8aab8aba6bfa button.colab-df-convert');\n",
       "      buttonEl.style.display =\n",
       "        google.colab.kernel.accessAllowed ? 'block' : 'none';\n",
       "\n",
       "      async function convertToInteractive(key) {\n",
       "        const element = document.querySelector('#df-5770a80b-7ea0-43a6-a6df-8aab8aba6bfa');\n",
       "        const dataTable =\n",
       "          await google.colab.kernel.invokeFunction('convertToInteractive',\n",
       "                                                    [key], {});\n",
       "        if (!dataTable) return;\n",
       "\n",
       "        const docLinkHtml = 'Like what you see? Visit the ' +\n",
       "          '<a target=\"_blank\" href=https://colab.research.google.com/notebooks/data_table.ipynb>data table notebook</a>'\n",
       "          + ' to learn more about interactive tables.';\n",
       "        element.innerHTML = '';\n",
       "        dataTable['output_type'] = 'display_data';\n",
       "        await google.colab.output.renderOutput(dataTable, element);\n",
       "        const docLink = document.createElement('div');\n",
       "        docLink.innerHTML = docLinkHtml;\n",
       "        element.appendChild(docLink);\n",
       "      }\n",
       "    </script>\n",
       "  </div>\n",
       "\n",
       "\n",
       "<div id=\"df-279d68cd-4dec-4488-a9df-a6368a4abda7\">\n",
       "  <button class=\"colab-df-quickchart\" onclick=\"quickchart('df-279d68cd-4dec-4488-a9df-a6368a4abda7')\"\n",
       "            title=\"Suggest charts.\"\n",
       "            style=\"display:none;\">\n",
       "\n",
       "<svg xmlns=\"http://www.w3.org/2000/svg\" height=\"24px\"viewBox=\"0 0 24 24\"\n",
       "     width=\"24px\">\n",
       "    <g>\n",
       "        <path d=\"M19 3H5c-1.1 0-2 .9-2 2v14c0 1.1.9 2 2 2h14c1.1 0 2-.9 2-2V5c0-1.1-.9-2-2-2zM9 17H7v-7h2v7zm4 0h-2V7h2v10zm4 0h-2v-4h2v4z\"/>\n",
       "    </g>\n",
       "</svg>\n",
       "  </button>\n",
       "\n",
       "<style>\n",
       "  .colab-df-quickchart {\n",
       "      --bg-color: #E8F0FE;\n",
       "      --fill-color: #1967D2;\n",
       "      --hover-bg-color: #E2EBFA;\n",
       "      --hover-fill-color: #174EA6;\n",
       "      --disabled-fill-color: #AAA;\n",
       "      --disabled-bg-color: #DDD;\n",
       "  }\n",
       "\n",
       "  [theme=dark] .colab-df-quickchart {\n",
       "      --bg-color: #3B4455;\n",
       "      --fill-color: #D2E3FC;\n",
       "      --hover-bg-color: #434B5C;\n",
       "      --hover-fill-color: #FFFFFF;\n",
       "      --disabled-bg-color: #3B4455;\n",
       "      --disabled-fill-color: #666;\n",
       "  }\n",
       "\n",
       "  .colab-df-quickchart {\n",
       "    background-color: var(--bg-color);\n",
       "    border: none;\n",
       "    border-radius: 50%;\n",
       "    cursor: pointer;\n",
       "    display: none;\n",
       "    fill: var(--fill-color);\n",
       "    height: 32px;\n",
       "    padding: 0;\n",
       "    width: 32px;\n",
       "  }\n",
       "\n",
       "  .colab-df-quickchart:hover {\n",
       "    background-color: var(--hover-bg-color);\n",
       "    box-shadow: 0 1px 2px rgba(60, 64, 67, 0.3), 0 1px 3px 1px rgba(60, 64, 67, 0.15);\n",
       "    fill: var(--button-hover-fill-color);\n",
       "  }\n",
       "\n",
       "  .colab-df-quickchart-complete:disabled,\n",
       "  .colab-df-quickchart-complete:disabled:hover {\n",
       "    background-color: var(--disabled-bg-color);\n",
       "    fill: var(--disabled-fill-color);\n",
       "    box-shadow: none;\n",
       "  }\n",
       "\n",
       "  .colab-df-spinner {\n",
       "    border: 2px solid var(--fill-color);\n",
       "    border-color: transparent;\n",
       "    border-bottom-color: var(--fill-color);\n",
       "    animation:\n",
       "      spin 1s steps(1) infinite;\n",
       "  }\n",
       "\n",
       "  @keyframes spin {\n",
       "    0% {\n",
       "      border-color: transparent;\n",
       "      border-bottom-color: var(--fill-color);\n",
       "      border-left-color: var(--fill-color);\n",
       "    }\n",
       "    20% {\n",
       "      border-color: transparent;\n",
       "      border-left-color: var(--fill-color);\n",
       "      border-top-color: var(--fill-color);\n",
       "    }\n",
       "    30% {\n",
       "      border-color: transparent;\n",
       "      border-left-color: var(--fill-color);\n",
       "      border-top-color: var(--fill-color);\n",
       "      border-right-color: var(--fill-color);\n",
       "    }\n",
       "    40% {\n",
       "      border-color: transparent;\n",
       "      border-right-color: var(--fill-color);\n",
       "      border-top-color: var(--fill-color);\n",
       "    }\n",
       "    60% {\n",
       "      border-color: transparent;\n",
       "      border-right-color: var(--fill-color);\n",
       "    }\n",
       "    80% {\n",
       "      border-color: transparent;\n",
       "      border-right-color: var(--fill-color);\n",
       "      border-bottom-color: var(--fill-color);\n",
       "    }\n",
       "    90% {\n",
       "      border-color: transparent;\n",
       "      border-bottom-color: var(--fill-color);\n",
       "    }\n",
       "  }\n",
       "</style>\n",
       "\n",
       "  <script>\n",
       "    async function quickchart(key) {\n",
       "      const quickchartButtonEl =\n",
       "        document.querySelector('#' + key + ' button');\n",
       "      quickchartButtonEl.disabled = true;  // To prevent multiple clicks.\n",
       "      quickchartButtonEl.classList.add('colab-df-spinner');\n",
       "      try {\n",
       "        const charts = await google.colab.kernel.invokeFunction(\n",
       "            'suggestCharts', [key], {});\n",
       "      } catch (error) {\n",
       "        console.error('Error during call to suggestCharts:', error);\n",
       "      }\n",
       "      quickchartButtonEl.classList.remove('colab-df-spinner');\n",
       "      quickchartButtonEl.classList.add('colab-df-quickchart-complete');\n",
       "    }\n",
       "    (() => {\n",
       "      let quickchartButtonEl =\n",
       "        document.querySelector('#df-279d68cd-4dec-4488-a9df-a6368a4abda7 button');\n",
       "      quickchartButtonEl.style.display =\n",
       "        google.colab.kernel.accessAllowed ? 'block' : 'none';\n",
       "    })();\n",
       "  </script>\n",
       "</div>\n",
       "    </div>\n",
       "  </div>\n"
      ],
      "text/plain": [
       "   target         ids                          date      flag  \\\n",
       "0       0  1467810369  Mon Apr 06 22:19:45 PDT 2009  NO_QUERY   \n",
       "1       0  1467810672  Mon Apr 06 22:19:49 PDT 2009  NO_QUERY   \n",
       "2       0  1467810917  Mon Apr 06 22:19:53 PDT 2009  NO_QUERY   \n",
       "3       0  1467811184  Mon Apr 06 22:19:57 PDT 2009  NO_QUERY   \n",
       "4       0  1467811193  Mon Apr 06 22:19:57 PDT 2009  NO_QUERY   \n",
       "\n",
       "              user                                               text  \n",
       "0  _TheSpecialOne_  @switchfoot http://twitpic.com/2y1zl - Awww, t...  \n",
       "1    scotthamilton  is upset that he can't update his Facebook by ...  \n",
       "2         mattycus  @Kenichan I dived many times for the ball. Man...  \n",
       "3          ElleCTF    my whole body feels itchy and like its on fire   \n",
       "4           Karoli  @nationwideclass no, it's not behaving at all....  "
      ]
     },
     "execution_count": 6,
     "metadata": {},
     "output_type": "execute_result"
    }
   ],
   "source": [
    "df.head()"
   ]
  },
  {
   "cell_type": "code",
   "execution_count": 7,
   "metadata": {
    "id": "UxJMyChTbpnr"
   },
   "outputs": [],
   "source": [
    "df = df.sample(frac=1)"
   ]
  },
  {
   "cell_type": "code",
   "execution_count": 8,
   "metadata": {
    "colab": {
     "base_uri": "https://localhost:8080/",
     "height": 1000
    },
    "id": "jTzBe3MUbqLk",
    "outputId": "3216b661-53ea-49ea-c993-1df927e32d25"
   },
   "outputs": [
    {
     "data": {
      "text/html": [
       "\n",
       "  <div id=\"df-1f60b1ae-aeb0-4b2a-974d-3e46452d5e58\" class=\"colab-df-container\">\n",
       "    <div>\n",
       "<style scoped>\n",
       "    .dataframe tbody tr th:only-of-type {\n",
       "        vertical-align: middle;\n",
       "    }\n",
       "\n",
       "    .dataframe tbody tr th {\n",
       "        vertical-align: top;\n",
       "    }\n",
       "\n",
       "    .dataframe thead th {\n",
       "        text-align: right;\n",
       "    }\n",
       "</style>\n",
       "<table border=\"1\" class=\"dataframe\">\n",
       "  <thead>\n",
       "    <tr style=\"text-align: right;\">\n",
       "      <th></th>\n",
       "      <th>target</th>\n",
       "      <th>ids</th>\n",
       "      <th>date</th>\n",
       "      <th>flag</th>\n",
       "      <th>user</th>\n",
       "      <th>text</th>\n",
       "    </tr>\n",
       "  </thead>\n",
       "  <tbody>\n",
       "    <tr>\n",
       "      <th>71876</th>\n",
       "      <td>0</td>\n",
       "      <td>1694078928</td>\n",
       "      <td>Mon May 04 00:59:40 PDT 2009</td>\n",
       "      <td>NO_QUERY</td>\n",
       "      <td>mangomara13</td>\n",
       "      <td>i didn't know u cud actually Lose Sleep over s...</td>\n",
       "    </tr>\n",
       "    <tr>\n",
       "      <th>865423</th>\n",
       "      <td>4</td>\n",
       "      <td>1677459253</td>\n",
       "      <td>Sat May 02 02:11:09 PDT 2009</td>\n",
       "      <td>NO_QUERY</td>\n",
       "      <td>SoSweetTT</td>\n",
       "      <td>Can't sleep... Watching episodes of House on H...</td>\n",
       "    </tr>\n",
       "    <tr>\n",
       "      <th>223874</th>\n",
       "      <td>0</td>\n",
       "      <td>1977295612</td>\n",
       "      <td>Sat May 30 20:37:13 PDT 2009</td>\n",
       "      <td>NO_QUERY</td>\n",
       "      <td>mrs_mcsupergirl</td>\n",
       "      <td>Sometime my twitter friends make me wish I was...</td>\n",
       "    </tr>\n",
       "    <tr>\n",
       "      <th>413971</th>\n",
       "      <td>0</td>\n",
       "      <td>2060714438</td>\n",
       "      <td>Sat Jun 06 19:26:10 PDT 2009</td>\n",
       "      <td>NO_QUERY</td>\n",
       "      <td>iAlex94</td>\n",
       "      <td>gotten halfway, configuring my xchat menu, now...</td>\n",
       "    </tr>\n",
       "    <tr>\n",
       "      <th>1386898</th>\n",
       "      <td>4</td>\n",
       "      <td>2052883103</td>\n",
       "      <td>Sat Jun 06 02:24:00 PDT 2009</td>\n",
       "      <td>NO_QUERY</td>\n",
       "      <td>raffyfrancisco</td>\n",
       "      <td>Dinner in Pasadena with High School friends......</td>\n",
       "    </tr>\n",
       "    <tr>\n",
       "      <th>1323129</th>\n",
       "      <td>4</td>\n",
       "      <td>2014867321</td>\n",
       "      <td>Wed Jun 03 02:57:05 PDT 2009</td>\n",
       "      <td>NO_QUERY</td>\n",
       "      <td>Rosalyne</td>\n",
       "      <td>@Jamiebower: ...dear Sir, I do do love your ba...</td>\n",
       "    </tr>\n",
       "    <tr>\n",
       "      <th>200391</th>\n",
       "      <td>0</td>\n",
       "      <td>1971656902</td>\n",
       "      <td>Sat May 30 07:36:11 PDT 2009</td>\n",
       "      <td>NO_QUERY</td>\n",
       "      <td>perthtones</td>\n",
       "      <td>@miss_peetie  I can't skype from the studio un...</td>\n",
       "    </tr>\n",
       "    <tr>\n",
       "      <th>732722</th>\n",
       "      <td>0</td>\n",
       "      <td>2264132996</td>\n",
       "      <td>Sun Jun 21 02:53:32 PDT 2009</td>\n",
       "      <td>NO_QUERY</td>\n",
       "      <td>godannygo</td>\n",
       "      <td>So sickkk! Why is no medicine working!? I ain'...</td>\n",
       "    </tr>\n",
       "    <tr>\n",
       "      <th>500846</th>\n",
       "      <td>0</td>\n",
       "      <td>2186985874</td>\n",
       "      <td>Mon Jun 15 19:37:24 PDT 2009</td>\n",
       "      <td>NO_QUERY</td>\n",
       "      <td>BillRuffner</td>\n",
       "      <td>i miss home and living in columbus</td>\n",
       "    </tr>\n",
       "    <tr>\n",
       "      <th>130693</th>\n",
       "      <td>0</td>\n",
       "      <td>1835359892</td>\n",
       "      <td>Mon May 18 05:48:37 PDT 2009</td>\n",
       "      <td>NO_QUERY</td>\n",
       "      <td>SuzanaMarie</td>\n",
       "      <td>this is inpossible!!</td>\n",
       "    </tr>\n",
       "    <tr>\n",
       "      <th>1469884</th>\n",
       "      <td>4</td>\n",
       "      <td>2064956242</td>\n",
       "      <td>Sun Jun 07 07:34:06 PDT 2009</td>\n",
       "      <td>NO_QUERY</td>\n",
       "      <td>berlykate</td>\n",
       "      <td>oooh. i changed my mind. haha. banana it is !</td>\n",
       "    </tr>\n",
       "    <tr>\n",
       "      <th>1132320</th>\n",
       "      <td>4</td>\n",
       "      <td>1975999143</td>\n",
       "      <td>Sat May 30 16:22:03 PDT 2009</td>\n",
       "      <td>NO_QUERY</td>\n",
       "      <td>MiaCucina</td>\n",
       "      <td>@joesonthenose U may want to follow @coffeegro...</td>\n",
       "    </tr>\n",
       "    <tr>\n",
       "      <th>1426917</th>\n",
       "      <td>4</td>\n",
       "      <td>2059300048</td>\n",
       "      <td>Sat Jun 06 16:39:13 PDT 2009</td>\n",
       "      <td>NO_QUERY</td>\n",
       "      <td>kamscottxxx</td>\n",
       "      <td>In line for the simpsons ride. More cute forei...</td>\n",
       "    </tr>\n",
       "    <tr>\n",
       "      <th>1418349</th>\n",
       "      <td>4</td>\n",
       "      <td>2057765828</td>\n",
       "      <td>Sat Jun 06 13:37:13 PDT 2009</td>\n",
       "      <td>NO_QUERY</td>\n",
       "      <td>dreamerGURL143</td>\n",
       "      <td>kfest tomorrow....78 and sunny  CANT WAIT!</td>\n",
       "    </tr>\n",
       "    <tr>\n",
       "      <th>727005</th>\n",
       "      <td>0</td>\n",
       "      <td>2262717298</td>\n",
       "      <td>Sat Jun 20 23:05:05 PDT 2009</td>\n",
       "      <td>NO_QUERY</td>\n",
       "      <td>tammywarmate</td>\n",
       "      <td>i really need this vacation</td>\n",
       "    </tr>\n",
       "    <tr>\n",
       "      <th>752828</th>\n",
       "      <td>0</td>\n",
       "      <td>2286672351</td>\n",
       "      <td>Mon Jun 22 16:46:00 PDT 2009</td>\n",
       "      <td>NO_QUERY</td>\n",
       "      <td>Really_Trace</td>\n",
       "      <td>@Really_Brit where is Mario? Awww mr. BRC hasn...</td>\n",
       "    </tr>\n",
       "    <tr>\n",
       "      <th>440643</th>\n",
       "      <td>0</td>\n",
       "      <td>2066791335</td>\n",
       "      <td>Sun Jun 07 11:10:40 PDT 2009</td>\n",
       "      <td>NO_QUERY</td>\n",
       "      <td>adamrabel</td>\n",
       "      <td>Quiznos sandwiches are pretty tasty!  Now laun...</td>\n",
       "    </tr>\n",
       "    <tr>\n",
       "      <th>1029155</th>\n",
       "      <td>4</td>\n",
       "      <td>1932730727</td>\n",
       "      <td>Tue May 26 22:05:25 PDT 2009</td>\n",
       "      <td>NO_QUERY</td>\n",
       "      <td>goodlaura</td>\n",
       "      <td>@mactavish I'm still working my way around Cal...</td>\n",
       "    </tr>\n",
       "    <tr>\n",
       "      <th>1459842</th>\n",
       "      <td>4</td>\n",
       "      <td>2063788312</td>\n",
       "      <td>Sun Jun 07 04:04:40 PDT 2009</td>\n",
       "      <td>NO_QUERY</td>\n",
       "      <td>Knitcave1</td>\n",
       "      <td>@carlysmum they work well.  Mine are really pr...</td>\n",
       "    </tr>\n",
       "    <tr>\n",
       "      <th>1177947</th>\n",
       "      <td>4</td>\n",
       "      <td>1981502798</td>\n",
       "      <td>Sun May 31 09:17:20 PDT 2009</td>\n",
       "      <td>NO_QUERY</td>\n",
       "      <td>SabrinaKC</td>\n",
       "      <td>Excited to go to lunch with The Reid's!  final...</td>\n",
       "    </tr>\n",
       "    <tr>\n",
       "      <th>390598</th>\n",
       "      <td>0</td>\n",
       "      <td>2054721616</td>\n",
       "      <td>Sat Jun 06 07:57:21 PDT 2009</td>\n",
       "      <td>NO_QUERY</td>\n",
       "      <td>raineeday</td>\n",
       "      <td>@sarahvip wtf do you mean, we have paparazzi l...</td>\n",
       "    </tr>\n",
       "    <tr>\n",
       "      <th>1553310</th>\n",
       "      <td>4</td>\n",
       "      <td>2184602170</td>\n",
       "      <td>Mon Jun 15 16:08:54 PDT 2009</td>\n",
       "      <td>NO_QUERY</td>\n",
       "      <td>BMP87</td>\n",
       "      <td>I think Andrew is my good luck charm -- entere...</td>\n",
       "    </tr>\n",
       "    <tr>\n",
       "      <th>809294</th>\n",
       "      <td>4</td>\n",
       "      <td>1469447218</td>\n",
       "      <td>Tue Apr 07 06:24:38 PDT 2009</td>\n",
       "      <td>NO_QUERY</td>\n",
       "      <td>photonstorm</td>\n",
       "      <td>@JamFactory and such a beautiful (if typically...</td>\n",
       "    </tr>\n",
       "    <tr>\n",
       "      <th>1483235</th>\n",
       "      <td>4</td>\n",
       "      <td>2067432948</td>\n",
       "      <td>Sun Jun 07 12:20:04 PDT 2009</td>\n",
       "      <td>NO_QUERY</td>\n",
       "      <td>Drusyc</td>\n",
       "      <td>@Ifoughtpirhanas No... fuck ikea. I ordered it...</td>\n",
       "    </tr>\n",
       "    <tr>\n",
       "      <th>138559</th>\n",
       "      <td>0</td>\n",
       "      <td>1880588289</td>\n",
       "      <td>Fri May 22 01:46:42 PDT 2009</td>\n",
       "      <td>NO_QUERY</td>\n",
       "      <td>JoanneMcAdams</td>\n",
       "      <td>Rubbish, I'm not off today like the rest of th...</td>\n",
       "    </tr>\n",
       "    <tr>\n",
       "      <th>346494</th>\n",
       "      <td>0</td>\n",
       "      <td>2016174727</td>\n",
       "      <td>Wed Jun 03 06:18:29 PDT 2009</td>\n",
       "      <td>NO_QUERY</td>\n",
       "      <td>cityraintunes</td>\n",
       "      <td>Headache  http://yfrog.com/7gowmjj</td>\n",
       "    </tr>\n",
       "    <tr>\n",
       "      <th>489185</th>\n",
       "      <td>0</td>\n",
       "      <td>2182887983</td>\n",
       "      <td>Mon Jun 15 13:46:02 PDT 2009</td>\n",
       "      <td>NO_QUERY</td>\n",
       "      <td>lifeonrewind</td>\n",
       "      <td>my iPod is fucking frozen!</td>\n",
       "    </tr>\n",
       "    <tr>\n",
       "      <th>701690</th>\n",
       "      <td>0</td>\n",
       "      <td>2255163965</td>\n",
       "      <td>Sat Jun 20 10:51:16 PDT 2009</td>\n",
       "      <td>NO_QUERY</td>\n",
       "      <td>dannyatticus</td>\n",
       "      <td>@jeffgrant I'm on t-mobile. But you have to wo...</td>\n",
       "    </tr>\n",
       "    <tr>\n",
       "      <th>1161829</th>\n",
       "      <td>4</td>\n",
       "      <td>1979538351</td>\n",
       "      <td>Sun May 31 03:28:50 PDT 2009</td>\n",
       "      <td>NO_QUERY</td>\n",
       "      <td>tessawinkle</td>\n",
       "      <td>i am going to watch to kill a moocking bird to...</td>\n",
       "    </tr>\n",
       "    <tr>\n",
       "      <th>843110</th>\n",
       "      <td>4</td>\n",
       "      <td>1563812577</td>\n",
       "      <td>Mon Apr 20 00:22:55 PDT 2009</td>\n",
       "      <td>NO_QUERY</td>\n",
       "      <td>THEgDolla</td>\n",
       "      <td>this would lookk good on my wall         http:...</td>\n",
       "    </tr>\n",
       "    <tr>\n",
       "      <th>230027</th>\n",
       "      <td>0</td>\n",
       "      <td>1978641437</td>\n",
       "      <td>Sat May 30 23:59:54 PDT 2009</td>\n",
       "      <td>NO_QUERY</td>\n",
       "      <td>Knuddelzombie</td>\n",
       "      <td>I'm such a bad cook.</td>\n",
       "    </tr>\n",
       "    <tr>\n",
       "      <th>1200048</th>\n",
       "      <td>4</td>\n",
       "      <td>1985421193</td>\n",
       "      <td>Sun May 31 17:04:14 PDT 2009</td>\n",
       "      <td>NO_QUERY</td>\n",
       "      <td>mjtam</td>\n",
       "      <td>@FindingAmanda  lol...funny!  No one can repla...</td>\n",
       "    </tr>\n",
       "    <tr>\n",
       "      <th>1402534</th>\n",
       "      <td>4</td>\n",
       "      <td>2054732829</td>\n",
       "      <td>Sat Jun 06 07:58:44 PDT 2009</td>\n",
       "      <td>NO_QUERY</td>\n",
       "      <td>_Almost_</td>\n",
       "      <td>@Calindria Completely agree. With my dad, if i...</td>\n",
       "    </tr>\n",
       "    <tr>\n",
       "      <th>140882</th>\n",
       "      <td>0</td>\n",
       "      <td>1881136080</td>\n",
       "      <td>Fri May 22 03:43:18 PDT 2009</td>\n",
       "      <td>NO_QUERY</td>\n",
       "      <td>simonmac_co_uk</td>\n",
       "      <td>Woo Hoo! Passed my ITIL V2 - V3 Bridge, just! ...</td>\n",
       "    </tr>\n",
       "    <tr>\n",
       "      <th>825034</th>\n",
       "      <td>4</td>\n",
       "      <td>1556382481</td>\n",
       "      <td>Sat Apr 18 22:37:25 PDT 2009</td>\n",
       "      <td>NO_QUERY</td>\n",
       "      <td>Chelsicka</td>\n",
       "      <td>Watching the end of Harry Potter on ABC. They ...</td>\n",
       "    </tr>\n",
       "    <tr>\n",
       "      <th>1104058</th>\n",
       "      <td>4</td>\n",
       "      <td>1971111674</td>\n",
       "      <td>Sat May 30 06:14:53 PDT 2009</td>\n",
       "      <td>NO_QUERY</td>\n",
       "      <td>jakehoney</td>\n",
       "      <td>had nose periced doesnt hurt anymore  the ring...</td>\n",
       "    </tr>\n",
       "    <tr>\n",
       "      <th>1010352</th>\n",
       "      <td>4</td>\n",
       "      <td>1880991951</td>\n",
       "      <td>Fri May 22 03:13:24 PDT 2009</td>\n",
       "      <td>NO_QUERY</td>\n",
       "      <td>firewalker06</td>\n",
       "      <td>didn't installed Microsoft Office in his lapto...</td>\n",
       "    </tr>\n",
       "    <tr>\n",
       "      <th>36543</th>\n",
       "      <td>0</td>\n",
       "      <td>1565756906</td>\n",
       "      <td>Mon Apr 20 07:29:15 PDT 2009</td>\n",
       "      <td>NO_QUERY</td>\n",
       "      <td>amberalert123</td>\n",
       "      <td>@TeapotTia i dont have a password  im gettin m...</td>\n",
       "    </tr>\n",
       "    <tr>\n",
       "      <th>1384850</th>\n",
       "      <td>4</td>\n",
       "      <td>2052694576</td>\n",
       "      <td>Sat Jun 06 01:39:44 PDT 2009</td>\n",
       "      <td>NO_QUERY</td>\n",
       "      <td>jdvladi</td>\n",
       "      <td>@human3rror face recognition</td>\n",
       "    </tr>\n",
       "    <tr>\n",
       "      <th>1229176</th>\n",
       "      <td>4</td>\n",
       "      <td>1991313869</td>\n",
       "      <td>Mon Jun 01 06:48:42 PDT 2009</td>\n",
       "      <td>NO_QUERY</td>\n",
       "      <td>JustERR</td>\n",
       "      <td>@nomoretears nowai!</td>\n",
       "    </tr>\n",
       "    <tr>\n",
       "      <th>1506510</th>\n",
       "      <td>4</td>\n",
       "      <td>2169499617</td>\n",
       "      <td>Sun Jun 14 14:36:17 PDT 2009</td>\n",
       "      <td>NO_QUERY</td>\n",
       "      <td>golddiggger</td>\n",
       "      <td>wow. you know you're cool when.......</td>\n",
       "    </tr>\n",
       "    <tr>\n",
       "      <th>795283</th>\n",
       "      <td>0</td>\n",
       "      <td>2327301387</td>\n",
       "      <td>Thu Jun 25 08:10:27 PDT 2009</td>\n",
       "      <td>NO_QUERY</td>\n",
       "      <td>thearthurclan</td>\n",
       "      <td>@LeslieRoark We have a terrible virus going on...</td>\n",
       "    </tr>\n",
       "    <tr>\n",
       "      <th>78639</th>\n",
       "      <td>0</td>\n",
       "      <td>1751460090</td>\n",
       "      <td>Sat May 09 19:30:10 PDT 2009</td>\n",
       "      <td>NO_QUERY</td>\n",
       "      <td>hum_diggity</td>\n",
       "      <td>@song_of_adam you are not very nice!!! i'm ser...</td>\n",
       "    </tr>\n",
       "    <tr>\n",
       "      <th>1086309</th>\n",
       "      <td>4</td>\n",
       "      <td>1969290666</td>\n",
       "      <td>Fri May 29 23:34:43 PDT 2009</td>\n",
       "      <td>NO_QUERY</td>\n",
       "      <td>Mrs_NickJ07</td>\n",
       "      <td>@SunshineeMe okay.. cuz I would think it'd be ...</td>\n",
       "    </tr>\n",
       "    <tr>\n",
       "      <th>1281197</th>\n",
       "      <td>4</td>\n",
       "      <td>2001712430</td>\n",
       "      <td>Tue Jun 02 01:48:52 PDT 2009</td>\n",
       "      <td>NO_QUERY</td>\n",
       "      <td>kimbeezy</td>\n",
       "      <td>@geeethangg ohhh! Have fun! Drink up for me to...</td>\n",
       "    </tr>\n",
       "    <tr>\n",
       "      <th>372867</th>\n",
       "      <td>0</td>\n",
       "      <td>2050868957</td>\n",
       "      <td>Fri Jun 05 19:26:21 PDT 2009</td>\n",
       "      <td>NO_QUERY</td>\n",
       "      <td>arrrrrcel</td>\n",
       "      <td>we broke up.</td>\n",
       "    </tr>\n",
       "    <tr>\n",
       "      <th>56788</th>\n",
       "      <td>0</td>\n",
       "      <td>1685498933</td>\n",
       "      <td>Sun May 03 00:39:44 PDT 2009</td>\n",
       "      <td>NO_QUERY</td>\n",
       "      <td>RMdesignsHI</td>\n",
       "      <td>blossom: in salt lake with my jayce face...roy...</td>\n",
       "    </tr>\n",
       "    <tr>\n",
       "      <th>1535351</th>\n",
       "      <td>4</td>\n",
       "      <td>2179007040</td>\n",
       "      <td>Mon Jun 15 08:30:51 PDT 2009</td>\n",
       "      <td>NO_QUERY</td>\n",
       "      <td>wabashcanonball</td>\n",
       "      <td>@imadethat Hm...that means I need to FIND it n...</td>\n",
       "    </tr>\n",
       "    <tr>\n",
       "      <th>706959</th>\n",
       "      <td>0</td>\n",
       "      <td>2256848378</td>\n",
       "      <td>Sat Jun 20 13:23:57 PDT 2009</td>\n",
       "      <td>NO_QUERY</td>\n",
       "      <td>arielleshante</td>\n",
       "      <td>i need a phone</td>\n",
       "    </tr>\n",
       "    <tr>\n",
       "      <th>1433493</th>\n",
       "      <td>4</td>\n",
       "      <td>2060455570</td>\n",
       "      <td>Sat Jun 06 18:56:23 PDT 2009</td>\n",
       "      <td>NO_QUERY</td>\n",
       "      <td>IAMRADIATOR</td>\n",
       "      <td>is having fun singing to i am a unicorn</td>\n",
       "    </tr>\n",
       "  </tbody>\n",
       "</table>\n",
       "</div>\n",
       "    <div class=\"colab-df-buttons\">\n",
       "\n",
       "  <div class=\"colab-df-container\">\n",
       "    <button class=\"colab-df-convert\" onclick=\"convertToInteractive('df-1f60b1ae-aeb0-4b2a-974d-3e46452d5e58')\"\n",
       "            title=\"Convert this dataframe to an interactive table.\"\n",
       "            style=\"display:none;\">\n",
       "\n",
       "  <svg xmlns=\"http://www.w3.org/2000/svg\" height=\"24px\" viewBox=\"0 -960 960 960\">\n",
       "    <path d=\"M120-120v-720h720v720H120Zm60-500h600v-160H180v160Zm220 220h160v-160H400v160Zm0 220h160v-160H400v160ZM180-400h160v-160H180v160Zm440 0h160v-160H620v160ZM180-180h160v-160H180v160Zm440 0h160v-160H620v160Z\"/>\n",
       "  </svg>\n",
       "    </button>\n",
       "\n",
       "  <style>\n",
       "    .colab-df-container {\n",
       "      display:flex;\n",
       "      gap: 12px;\n",
       "    }\n",
       "\n",
       "    .colab-df-convert {\n",
       "      background-color: #E8F0FE;\n",
       "      border: none;\n",
       "      border-radius: 50%;\n",
       "      cursor: pointer;\n",
       "      display: none;\n",
       "      fill: #1967D2;\n",
       "      height: 32px;\n",
       "      padding: 0 0 0 0;\n",
       "      width: 32px;\n",
       "    }\n",
       "\n",
       "    .colab-df-convert:hover {\n",
       "      background-color: #E2EBFA;\n",
       "      box-shadow: 0px 1px 2px rgba(60, 64, 67, 0.3), 0px 1px 3px 1px rgba(60, 64, 67, 0.15);\n",
       "      fill: #174EA6;\n",
       "    }\n",
       "\n",
       "    .colab-df-buttons div {\n",
       "      margin-bottom: 4px;\n",
       "    }\n",
       "\n",
       "    [theme=dark] .colab-df-convert {\n",
       "      background-color: #3B4455;\n",
       "      fill: #D2E3FC;\n",
       "    }\n",
       "\n",
       "    [theme=dark] .colab-df-convert:hover {\n",
       "      background-color: #434B5C;\n",
       "      box-shadow: 0px 1px 3px 1px rgba(0, 0, 0, 0.15);\n",
       "      filter: drop-shadow(0px 1px 2px rgba(0, 0, 0, 0.3));\n",
       "      fill: #FFFFFF;\n",
       "    }\n",
       "  </style>\n",
       "\n",
       "    <script>\n",
       "      const buttonEl =\n",
       "        document.querySelector('#df-1f60b1ae-aeb0-4b2a-974d-3e46452d5e58 button.colab-df-convert');\n",
       "      buttonEl.style.display =\n",
       "        google.colab.kernel.accessAllowed ? 'block' : 'none';\n",
       "\n",
       "      async function convertToInteractive(key) {\n",
       "        const element = document.querySelector('#df-1f60b1ae-aeb0-4b2a-974d-3e46452d5e58');\n",
       "        const dataTable =\n",
       "          await google.colab.kernel.invokeFunction('convertToInteractive',\n",
       "                                                    [key], {});\n",
       "        if (!dataTable) return;\n",
       "\n",
       "        const docLinkHtml = 'Like what you see? Visit the ' +\n",
       "          '<a target=\"_blank\" href=https://colab.research.google.com/notebooks/data_table.ipynb>data table notebook</a>'\n",
       "          + ' to learn more about interactive tables.';\n",
       "        element.innerHTML = '';\n",
       "        dataTable['output_type'] = 'display_data';\n",
       "        await google.colab.output.renderOutput(dataTable, element);\n",
       "        const docLink = document.createElement('div');\n",
       "        docLink.innerHTML = docLinkHtml;\n",
       "        element.appendChild(docLink);\n",
       "      }\n",
       "    </script>\n",
       "  </div>\n",
       "\n",
       "\n",
       "<div id=\"df-0e9620ba-68aa-450f-aac5-e7b142c3ad36\">\n",
       "  <button class=\"colab-df-quickchart\" onclick=\"quickchart('df-0e9620ba-68aa-450f-aac5-e7b142c3ad36')\"\n",
       "            title=\"Suggest charts.\"\n",
       "            style=\"display:none;\">\n",
       "\n",
       "<svg xmlns=\"http://www.w3.org/2000/svg\" height=\"24px\"viewBox=\"0 0 24 24\"\n",
       "     width=\"24px\">\n",
       "    <g>\n",
       "        <path d=\"M19 3H5c-1.1 0-2 .9-2 2v14c0 1.1.9 2 2 2h14c1.1 0 2-.9 2-2V5c0-1.1-.9-2-2-2zM9 17H7v-7h2v7zm4 0h-2V7h2v10zm4 0h-2v-4h2v4z\"/>\n",
       "    </g>\n",
       "</svg>\n",
       "  </button>\n",
       "\n",
       "<style>\n",
       "  .colab-df-quickchart {\n",
       "      --bg-color: #E8F0FE;\n",
       "      --fill-color: #1967D2;\n",
       "      --hover-bg-color: #E2EBFA;\n",
       "      --hover-fill-color: #174EA6;\n",
       "      --disabled-fill-color: #AAA;\n",
       "      --disabled-bg-color: #DDD;\n",
       "  }\n",
       "\n",
       "  [theme=dark] .colab-df-quickchart {\n",
       "      --bg-color: #3B4455;\n",
       "      --fill-color: #D2E3FC;\n",
       "      --hover-bg-color: #434B5C;\n",
       "      --hover-fill-color: #FFFFFF;\n",
       "      --disabled-bg-color: #3B4455;\n",
       "      --disabled-fill-color: #666;\n",
       "  }\n",
       "\n",
       "  .colab-df-quickchart {\n",
       "    background-color: var(--bg-color);\n",
       "    border: none;\n",
       "    border-radius: 50%;\n",
       "    cursor: pointer;\n",
       "    display: none;\n",
       "    fill: var(--fill-color);\n",
       "    height: 32px;\n",
       "    padding: 0;\n",
       "    width: 32px;\n",
       "  }\n",
       "\n",
       "  .colab-df-quickchart:hover {\n",
       "    background-color: var(--hover-bg-color);\n",
       "    box-shadow: 0 1px 2px rgba(60, 64, 67, 0.3), 0 1px 3px 1px rgba(60, 64, 67, 0.15);\n",
       "    fill: var(--button-hover-fill-color);\n",
       "  }\n",
       "\n",
       "  .colab-df-quickchart-complete:disabled,\n",
       "  .colab-df-quickchart-complete:disabled:hover {\n",
       "    background-color: var(--disabled-bg-color);\n",
       "    fill: var(--disabled-fill-color);\n",
       "    box-shadow: none;\n",
       "  }\n",
       "\n",
       "  .colab-df-spinner {\n",
       "    border: 2px solid var(--fill-color);\n",
       "    border-color: transparent;\n",
       "    border-bottom-color: var(--fill-color);\n",
       "    animation:\n",
       "      spin 1s steps(1) infinite;\n",
       "  }\n",
       "\n",
       "  @keyframes spin {\n",
       "    0% {\n",
       "      border-color: transparent;\n",
       "      border-bottom-color: var(--fill-color);\n",
       "      border-left-color: var(--fill-color);\n",
       "    }\n",
       "    20% {\n",
       "      border-color: transparent;\n",
       "      border-left-color: var(--fill-color);\n",
       "      border-top-color: var(--fill-color);\n",
       "    }\n",
       "    30% {\n",
       "      border-color: transparent;\n",
       "      border-left-color: var(--fill-color);\n",
       "      border-top-color: var(--fill-color);\n",
       "      border-right-color: var(--fill-color);\n",
       "    }\n",
       "    40% {\n",
       "      border-color: transparent;\n",
       "      border-right-color: var(--fill-color);\n",
       "      border-top-color: var(--fill-color);\n",
       "    }\n",
       "    60% {\n",
       "      border-color: transparent;\n",
       "      border-right-color: var(--fill-color);\n",
       "    }\n",
       "    80% {\n",
       "      border-color: transparent;\n",
       "      border-right-color: var(--fill-color);\n",
       "      border-bottom-color: var(--fill-color);\n",
       "    }\n",
       "    90% {\n",
       "      border-color: transparent;\n",
       "      border-bottom-color: var(--fill-color);\n",
       "    }\n",
       "  }\n",
       "</style>\n",
       "\n",
       "  <script>\n",
       "    async function quickchart(key) {\n",
       "      const quickchartButtonEl =\n",
       "        document.querySelector('#' + key + ' button');\n",
       "      quickchartButtonEl.disabled = true;  // To prevent multiple clicks.\n",
       "      quickchartButtonEl.classList.add('colab-df-spinner');\n",
       "      try {\n",
       "        const charts = await google.colab.kernel.invokeFunction(\n",
       "            'suggestCharts', [key], {});\n",
       "      } catch (error) {\n",
       "        console.error('Error during call to suggestCharts:', error);\n",
       "      }\n",
       "      quickchartButtonEl.classList.remove('colab-df-spinner');\n",
       "      quickchartButtonEl.classList.add('colab-df-quickchart-complete');\n",
       "    }\n",
       "    (() => {\n",
       "      let quickchartButtonEl =\n",
       "        document.querySelector('#df-0e9620ba-68aa-450f-aac5-e7b142c3ad36 button');\n",
       "      quickchartButtonEl.style.display =\n",
       "        google.colab.kernel.accessAllowed ? 'block' : 'none';\n",
       "    })();\n",
       "  </script>\n",
       "</div>\n",
       "    </div>\n",
       "  </div>\n"
      ],
      "text/plain": [
       "         target         ids                          date      flag  \\\n",
       "71876         0  1694078928  Mon May 04 00:59:40 PDT 2009  NO_QUERY   \n",
       "865423        4  1677459253  Sat May 02 02:11:09 PDT 2009  NO_QUERY   \n",
       "223874        0  1977295612  Sat May 30 20:37:13 PDT 2009  NO_QUERY   \n",
       "413971        0  2060714438  Sat Jun 06 19:26:10 PDT 2009  NO_QUERY   \n",
       "1386898       4  2052883103  Sat Jun 06 02:24:00 PDT 2009  NO_QUERY   \n",
       "1323129       4  2014867321  Wed Jun 03 02:57:05 PDT 2009  NO_QUERY   \n",
       "200391        0  1971656902  Sat May 30 07:36:11 PDT 2009  NO_QUERY   \n",
       "732722        0  2264132996  Sun Jun 21 02:53:32 PDT 2009  NO_QUERY   \n",
       "500846        0  2186985874  Mon Jun 15 19:37:24 PDT 2009  NO_QUERY   \n",
       "130693        0  1835359892  Mon May 18 05:48:37 PDT 2009  NO_QUERY   \n",
       "1469884       4  2064956242  Sun Jun 07 07:34:06 PDT 2009  NO_QUERY   \n",
       "1132320       4  1975999143  Sat May 30 16:22:03 PDT 2009  NO_QUERY   \n",
       "1426917       4  2059300048  Sat Jun 06 16:39:13 PDT 2009  NO_QUERY   \n",
       "1418349       4  2057765828  Sat Jun 06 13:37:13 PDT 2009  NO_QUERY   \n",
       "727005        0  2262717298  Sat Jun 20 23:05:05 PDT 2009  NO_QUERY   \n",
       "752828        0  2286672351  Mon Jun 22 16:46:00 PDT 2009  NO_QUERY   \n",
       "440643        0  2066791335  Sun Jun 07 11:10:40 PDT 2009  NO_QUERY   \n",
       "1029155       4  1932730727  Tue May 26 22:05:25 PDT 2009  NO_QUERY   \n",
       "1459842       4  2063788312  Sun Jun 07 04:04:40 PDT 2009  NO_QUERY   \n",
       "1177947       4  1981502798  Sun May 31 09:17:20 PDT 2009  NO_QUERY   \n",
       "390598        0  2054721616  Sat Jun 06 07:57:21 PDT 2009  NO_QUERY   \n",
       "1553310       4  2184602170  Mon Jun 15 16:08:54 PDT 2009  NO_QUERY   \n",
       "809294        4  1469447218  Tue Apr 07 06:24:38 PDT 2009  NO_QUERY   \n",
       "1483235       4  2067432948  Sun Jun 07 12:20:04 PDT 2009  NO_QUERY   \n",
       "138559        0  1880588289  Fri May 22 01:46:42 PDT 2009  NO_QUERY   \n",
       "346494        0  2016174727  Wed Jun 03 06:18:29 PDT 2009  NO_QUERY   \n",
       "489185        0  2182887983  Mon Jun 15 13:46:02 PDT 2009  NO_QUERY   \n",
       "701690        0  2255163965  Sat Jun 20 10:51:16 PDT 2009  NO_QUERY   \n",
       "1161829       4  1979538351  Sun May 31 03:28:50 PDT 2009  NO_QUERY   \n",
       "843110        4  1563812577  Mon Apr 20 00:22:55 PDT 2009  NO_QUERY   \n",
       "230027        0  1978641437  Sat May 30 23:59:54 PDT 2009  NO_QUERY   \n",
       "1200048       4  1985421193  Sun May 31 17:04:14 PDT 2009  NO_QUERY   \n",
       "1402534       4  2054732829  Sat Jun 06 07:58:44 PDT 2009  NO_QUERY   \n",
       "140882        0  1881136080  Fri May 22 03:43:18 PDT 2009  NO_QUERY   \n",
       "825034        4  1556382481  Sat Apr 18 22:37:25 PDT 2009  NO_QUERY   \n",
       "1104058       4  1971111674  Sat May 30 06:14:53 PDT 2009  NO_QUERY   \n",
       "1010352       4  1880991951  Fri May 22 03:13:24 PDT 2009  NO_QUERY   \n",
       "36543         0  1565756906  Mon Apr 20 07:29:15 PDT 2009  NO_QUERY   \n",
       "1384850       4  2052694576  Sat Jun 06 01:39:44 PDT 2009  NO_QUERY   \n",
       "1229176       4  1991313869  Mon Jun 01 06:48:42 PDT 2009  NO_QUERY   \n",
       "1506510       4  2169499617  Sun Jun 14 14:36:17 PDT 2009  NO_QUERY   \n",
       "795283        0  2327301387  Thu Jun 25 08:10:27 PDT 2009  NO_QUERY   \n",
       "78639         0  1751460090  Sat May 09 19:30:10 PDT 2009  NO_QUERY   \n",
       "1086309       4  1969290666  Fri May 29 23:34:43 PDT 2009  NO_QUERY   \n",
       "1281197       4  2001712430  Tue Jun 02 01:48:52 PDT 2009  NO_QUERY   \n",
       "372867        0  2050868957  Fri Jun 05 19:26:21 PDT 2009  NO_QUERY   \n",
       "56788         0  1685498933  Sun May 03 00:39:44 PDT 2009  NO_QUERY   \n",
       "1535351       4  2179007040  Mon Jun 15 08:30:51 PDT 2009  NO_QUERY   \n",
       "706959        0  2256848378  Sat Jun 20 13:23:57 PDT 2009  NO_QUERY   \n",
       "1433493       4  2060455570  Sat Jun 06 18:56:23 PDT 2009  NO_QUERY   \n",
       "\n",
       "                    user                                               text  \n",
       "71876        mangomara13  i didn't know u cud actually Lose Sleep over s...  \n",
       "865423         SoSweetTT  Can't sleep... Watching episodes of House on H...  \n",
       "223874   mrs_mcsupergirl  Sometime my twitter friends make me wish I was...  \n",
       "413971           iAlex94  gotten halfway, configuring my xchat menu, now...  \n",
       "1386898   raffyfrancisco  Dinner in Pasadena with High School friends......  \n",
       "1323129         Rosalyne  @Jamiebower: ...dear Sir, I do do love your ba...  \n",
       "200391        perthtones  @miss_peetie  I can't skype from the studio un...  \n",
       "732722         godannygo  So sickkk! Why is no medicine working!? I ain'...  \n",
       "500846       BillRuffner                i miss home and living in columbus   \n",
       "130693       SuzanaMarie                              this is inpossible!!   \n",
       "1469884        berlykate     oooh. i changed my mind. haha. banana it is !   \n",
       "1132320        MiaCucina  @joesonthenose U may want to follow @coffeegro...  \n",
       "1426917      kamscottxxx  In line for the simpsons ride. More cute forei...  \n",
       "1418349   dreamerGURL143         kfest tomorrow....78 and sunny  CANT WAIT!  \n",
       "727005      tammywarmate                       i really need this vacation   \n",
       "752828      Really_Trace  @Really_Brit where is Mario? Awww mr. BRC hasn...  \n",
       "440643         adamrabel  Quiznos sandwiches are pretty tasty!  Now laun...  \n",
       "1029155        goodlaura  @mactavish I'm still working my way around Cal...  \n",
       "1459842        Knitcave1  @carlysmum they work well.  Mine are really pr...  \n",
       "1177947        SabrinaKC  Excited to go to lunch with The Reid's!  final...  \n",
       "390598         raineeday  @sarahvip wtf do you mean, we have paparazzi l...  \n",
       "1553310            BMP87  I think Andrew is my good luck charm -- entere...  \n",
       "809294       photonstorm  @JamFactory and such a beautiful (if typically...  \n",
       "1483235           Drusyc  @Ifoughtpirhanas No... fuck ikea. I ordered it...  \n",
       "138559     JoanneMcAdams  Rubbish, I'm not off today like the rest of th...  \n",
       "346494     cityraintunes                 Headache  http://yfrog.com/7gowmjj  \n",
       "489185      lifeonrewind                        my iPod is fucking frozen!   \n",
       "701690      dannyatticus  @jeffgrant I'm on t-mobile. But you have to wo...  \n",
       "1161829      tessawinkle  i am going to watch to kill a moocking bird to...  \n",
       "843110         THEgDolla  this would lookk good on my wall         http:...  \n",
       "230027     Knuddelzombie                              I'm such a bad cook.   \n",
       "1200048            mjtam  @FindingAmanda  lol...funny!  No one can repla...  \n",
       "1402534         _Almost_  @Calindria Completely agree. With my dad, if i...  \n",
       "140882    simonmac_co_uk  Woo Hoo! Passed my ITIL V2 - V3 Bridge, just! ...  \n",
       "825034         Chelsicka  Watching the end of Harry Potter on ABC. They ...  \n",
       "1104058        jakehoney  had nose periced doesnt hurt anymore  the ring...  \n",
       "1010352     firewalker06  didn't installed Microsoft Office in his lapto...  \n",
       "36543      amberalert123  @TeapotTia i dont have a password  im gettin m...  \n",
       "1384850          jdvladi                      @human3rror face recognition   \n",
       "1229176          JustERR                               @nomoretears nowai!   \n",
       "1506510      golddiggger             wow. you know you're cool when.......   \n",
       "795283     thearthurclan  @LeslieRoark We have a terrible virus going on...  \n",
       "78639        hum_diggity  @song_of_adam you are not very nice!!! i'm ser...  \n",
       "1086309      Mrs_NickJ07  @SunshineeMe okay.. cuz I would think it'd be ...  \n",
       "1281197         kimbeezy  @geeethangg ohhh! Have fun! Drink up for me to...  \n",
       "372867         arrrrrcel                                      we broke up.   \n",
       "56788        RMdesignsHI  blossom: in salt lake with my jayce face...roy...  \n",
       "1535351  wabashcanonball  @imadethat Hm...that means I need to FIND it n...  \n",
       "706959     arielleshante                                    i need a phone   \n",
       "1433493      IAMRADIATOR           is having fun singing to i am a unicorn   "
      ]
     },
     "execution_count": 8,
     "metadata": {},
     "output_type": "execute_result"
    }
   ],
   "source": [
    "df.head(50)"
   ]
  },
  {
   "cell_type": "code",
   "execution_count": 9,
   "metadata": {
    "colab": {
     "base_uri": "https://localhost:8080/"
    },
    "id": "eq7KDzrrbsQp",
    "outputId": "7a0632d6-c8cf-4df2-f492-660842fa062e"
   },
   "outputs": [
    {
     "name": "stdout",
     "output_type": "stream",
     "text": [
      "Dataset size: 1600000\n"
     ]
    }
   ],
   "source": [
    "print(\"Dataset size:\", len(df))"
   ]
  },
  {
   "cell_type": "code",
   "execution_count": 10,
   "metadata": {
    "id": "mrM3_5FqbuzU"
   },
   "outputs": [],
   "source": [
    "decode_map = {0: \"NEGATIVE\", 2: \"NEUTRAL\", 4: \"POSITIVE\"}\n",
    "def decode_sentiment(label):\n",
    "    return decode_map[int(label)]"
   ]
  },
  {
   "cell_type": "code",
   "execution_count": 11,
   "metadata": {
    "colab": {
     "base_uri": "https://localhost:8080/"
    },
    "id": "oKAU9_JibxC9",
    "outputId": "06ecf2b3-8e13-48f3-beee-7316302dc5d5"
   },
   "outputs": [
    {
     "name": "stdout",
     "output_type": "stream",
     "text": [
      "CPU times: user 378 ms, sys: 9.02 ms, total: 387 ms\n",
      "Wall time: 394 ms\n"
     ]
    }
   ],
   "source": [
    "%%time\n",
    "df.target = df.target.apply(lambda x: decode_sentiment(x))"
   ]
  },
  {
   "cell_type": "code",
   "execution_count": 12,
   "metadata": {
    "colab": {
     "base_uri": "https://localhost:8080/",
     "height": 609
    },
    "id": "Kuazvb3LbzAX",
    "outputId": "507ed8f7-fe5c-48f6-9212-3cca3bcd3090"
   },
   "outputs": [
    {
     "data": {
      "text/plain": [
       "Text(0.5, 1.0, 'Dataset labels distribuition')"
      ]
     },
     "execution_count": 12,
     "metadata": {},
     "output_type": "execute_result"
    },
    {
     "data": {
      "image/png": "[encoded data removed]",
      "text/plain": [
       "<Figure size 1600x800 with 1 Axes>"
      ]
     },
     "metadata": {},
     "output_type": "display_data"
    }
   ],
   "source": [
    "target_cnt = Counter(df.target)\n",
    "\n",
    "plt.figure(figsize=(16,8))\n",
    "plt.bar(target_cnt.keys(), target_cnt.values())\n",
    "plt.title(\"Dataset labels distribuition\")"
   ]
  },
  {
   "cell_type": "code",
   "execution_count": 13,
   "metadata": {
    "id": "wQWc_1XMb1JP"
   },
   "outputs": [],
   "source": [
    "stop_words = stopwords.words(\"english\")\n",
    "stemmer = SnowballStemmer(\"english\")"
   ]
  },
  {
   "cell_type": "code",
   "execution_count": 14,
   "metadata": {
    "id": "o3gFbfT4b3K_"
   },
   "outputs": [],
   "source": [
    "def preprocess(text, stem=False):\n",
    "    # Remove link,user and special characters\n",
    "    text = re.sub(TEXT_CLEANING_RE, ' ', str(text).lower()).strip()\n",
    "    tokens = []\n",
    "    for token in text.split():\n",
    "        if token not in stop_words:\n",
    "            if stem:\n",
    "                tokens.append(stemmer.stem(token))\n",
    "            else:\n",
    "                tokens.append(token)\n",
    "    return \" \".join(tokens)"
   ]
  },
  {
   "cell_type": "code",
   "execution_count": 15,
   "metadata": {
    "colab": {
     "base_uri": "https://localhost:8080/"
    },
    "id": "Fzau4rk1b5j0",
    "outputId": "dbf2c7c8-9df0-471d-b5d6-3a39fc8ceea8"
   },
   "outputs": [
    {
     "name": "stdout",
     "output_type": "stream",
     "text": [
      "CPU times: user 53.1 s, sys: 209 ms, total: 53.3 s\n",
      "Wall time: 53.6 s\n"
     ]
    }
   ],
   "source": [
    "%%time\n",
    "df.text = df.text.apply(lambda x: preprocess(x))"
   ]
  },
  {
   "cell_type": "code",
   "execution_count": 16,
   "metadata": {
    "colab": {
     "base_uri": "https://localhost:8080/"
    },
    "id": "bNJD2snPb7hr",
    "outputId": "9723c5c5-23a4-402e-91c5-35527ff78f36"
   },
   "outputs": [
    {
     "name": "stdout",
     "output_type": "stream",
     "text": [
      "TRAIN size: 1280000\n",
      "TEST size: 320000\n"
     ]
    }
   ],
   "source": [
    "df_train, df_test = train_test_split(df, test_size=1-TRAIN_SIZE, random_state=42)\n",
    "print(\"TRAIN size:\", len(df_train))\n",
    "print(\"TEST size:\", len(df_test))"
   ]
  },
  {
   "cell_type": "code",
   "execution_count": 17,
   "metadata": {
    "colab": {
     "base_uri": "https://localhost:8080/"
    },
    "id": "CHea2Z1ZcFy_",
    "outputId": "5c67abf1-7ef6-4676-b4da-947eb37e8cc5"
   },
   "outputs": [
    {
     "name": "stdout",
     "output_type": "stream",
     "text": [
      "CPU times: user 3.3 s, sys: 293 ms, total: 3.6 s\n",
      "Wall time: 3.6 s\n"
     ]
    }
   ],
   "source": [
    "%%time\n",
    "documents = [_text.split() for _text in df_train.text]"
   ]
  },
  {
   "cell_type": "code",
   "execution_count": 18,
   "metadata": {
    "id": "PQryer0ucIdG"
   },
   "outputs": [],
   "source": [
    "w2v_model = gensim.models.word2vec.Word2Vec(vector_size=W2V_SIZE,\n",
    "                                            window=W2V_WINDOW,\n",
    "                                            min_count=W2V_MIN_COUNT,\n",
    "                                            workers=8)"
   ]
  },
  {
   "cell_type": "code",
   "execution_count": 19,
   "metadata": {
    "id": "jaXe3ZLacNVg"
   },
   "outputs": [],
   "source": [
    "w2v_model.build_vocab(documents)"
   ]
  },
  {
   "cell_type": "code",
   "execution_count": 20,
   "metadata": {
    "colab": {
     "base_uri": "https://localhost:8080/"
    },
    "id": "cyjfxYBocPvW",
    "outputId": "76728c59-d096-4277-cbf3-b8288fe8ecd8"
   },
   "outputs": [
    {
     "name": "stdout",
     "output_type": "stream",
     "text": [
      "Total words 290616\n",
      "CPU times: user 16.3 s, sys: 95 ms, total: 16.4 s\n",
      "Wall time: 18.3 s\n"
     ]
    }
   ],
   "source": [
    "%%time\n",
    "tokenizer = Tokenizer()\n",
    "tokenizer.fit_on_texts(df_train.text)\n",
    "\n",
    "vocab_size = len(tokenizer.word_index) + 1\n",
    "print(\"Total words\", vocab_size)"
   ]
  },
  {
   "cell_type": "code",
   "execution_count": 21,
   "metadata": {
    "colab": {
     "base_uri": "https://localhost:8080/"
    },
    "id": "Ifh0n8rIcSse",
    "outputId": "dabb997f-6234-4837-fff2-d16f9555d33a"
   },
   "outputs": [
    {
     "name": "stdout",
     "output_type": "stream",
     "text": [
      "CPU times: user 23.8 s, sys: 510 ms, total: 24.4 s\n",
      "Wall time: 25.7 s\n"
     ]
    }
   ],
   "source": [
    "%%time\n",
    "x_train = pad_sequences(tokenizer.texts_to_sequences(df_train.text), maxlen=SEQUENCE_LENGTH)\n",
    "x_test = pad_sequences(tokenizer.texts_to_sequences(df_test.text), maxlen=SEQUENCE_LENGTH)"
   ]
  },
  {
   "cell_type": "code",
   "execution_count": 22,
   "metadata": {
    "colab": {
     "base_uri": "https://localhost:8080/"
    },
    "id": "Ol8IDDRPcVDL",
    "outputId": "3ed26fef-3b0a-4756-e895-26bb084bf64d"
   },
   "outputs": [
    {
     "data": {
      "text/plain": [
       "['NEGATIVE', 'POSITIVE', 'NEUTRAL']"
      ]
     },
     "execution_count": 22,
     "metadata": {},
     "output_type": "execute_result"
    }
   ],
   "source": [
    "labels = df_train.target.unique().tolist()\n",
    "labels.append(NEUTRAL)\n",
    "labels"
   ]
  },
  {
   "cell_type": "code",
   "execution_count": 23,
   "metadata": {
    "colab": {
     "base_uri": "https://localhost:8080/"
    },
    "id": "7GkeW51ZcX36",
    "outputId": "68a79f9a-deec-4feb-fff5-dcb8b68e2256"
   },
   "outputs": [
    {
     "name": "stdout",
     "output_type": "stream",
     "text": [
      "y_train (1280000, 1)\n",
      "y_test (320000, 1)\n"
     ]
    }
   ],
   "source": [
    "encoder = LabelEncoder()\n",
    "encoder.fit(df_train.target.tolist())\n",
    "\n",
    "y_train = encoder.transform(df_train.target.tolist())\n",
    "y_test = encoder.transform(df_test.target.tolist())\n",
    "\n",
    "y_train = y_train.reshape(-1,1)\n",
    "y_test = y_test.reshape(-1,1)\n",
    "\n",
    "print(\"y_train\",y_train.shape)\n",
    "print(\"y_test\",y_test.shape)"
   ]
  },
  {
   "cell_type": "code",
   "execution_count": 24,
   "metadata": {
    "colab": {
     "base_uri": "https://localhost:8080/"
    },
    "id": "wLZUGEkscagB",
    "outputId": "897e3c30-4d81-43bc-93be-bf85bab2069b"
   },
   "outputs": [
    {
     "name": "stdout",
     "output_type": "stream",
     "text": [
      "x_train (1280000, 300)\n",
      "y_train (1280000, 1)\n",
      "\n",
      "x_test (320000, 300)\n",
      "y_test (320000, 1)\n"
     ]
    }
   ],
   "source": [
    "print(\"x_train\", x_train.shape)\n",
    "print(\"y_train\", y_train.shape)\n",
    "print()\n",
    "print(\"x_test\", x_test.shape)\n",
    "print(\"y_test\", y_test.shape)"
   ]
  },
  {
   "cell_type": "code",
   "execution_count": 25,
   "metadata": {
    "colab": {
     "base_uri": "https://localhost:8080/"
    },
    "id": "sgDZ7RhkccqE",
    "outputId": "c9bf9b9a-a3f1-4cbb-a9d6-08bfbc651b87"
   },
   "outputs": [
    {
     "data": {
      "text/plain": [
       "array([[0],\n",
       "       [0],\n",
       "       [0],\n",
       "       [1],\n",
       "       [0],\n",
       "       [0],\n",
       "       [1],\n",
       "       [1],\n",
       "       [0],\n",
       "       [1]])"
      ]
     },
     "execution_count": 25,
     "metadata": {},
     "output_type": "execute_result"
    }
   ],
   "source": [
    "y_train[:10]"
   ]
  },
  {
   "cell_type": "code",
   "execution_count": 26,
   "metadata": {
    "colab": {
     "base_uri": "https://localhost:8080/"
    },
    "id": "uxeuPMCJcfOZ",
    "outputId": "b511c55d-7fe8-4098-ca71-c85dd716520b"
   },
   "outputs": [
    {
     "name": "stdout",
     "output_type": "stream",
     "text": [
      "(290616, 300)\n"
     ]
    }
   ],
   "source": [
    "embedding_matrix = np.zeros((vocab_size, W2V_SIZE))\n",
    "for word, i in tokenizer.word_index.items():\n",
    "  if word in w2v_model.wv:\n",
    "    embedding_matrix[i] = w2v_model.wv[word]\n",
    "print(embedding_matrix.shape)"
   ]
  },
  {
   "cell_type": "code",
   "execution_count": 27,
   "metadata": {
    "id": "AAxurpw9ciwK"
   },
   "outputs": [],
   "source": [
    "embedding_layer = Embedding(vocab_size, W2V_SIZE, weights=[embedding_matrix], input_length=SEQUENCE_LENGTH, trainable=False)"
   ]
  },
  {
   "cell_type": "code",
   "execution_count": 28,
   "metadata": {
    "colab": {
     "base_uri": "https://localhost:8080/"
    },
    "id": "Py6H36S5cqSv",
    "outputId": "abbb535f-b4ef-48c6-db0f-a5a549d5266a"
   },
   "outputs": [
    {
     "name": "stdout",
     "output_type": "stream",
     "text": [
      "Model: \"sequential\"\n",
      "_________________________________________________________________\n",
      " Layer (type)                Output Shape              Param #   \n",
      "=================================================================\n",
      " embedding_1 (Embedding)     (None, 300, 2)            581232    \n",
      "                                                                 \n",
      " simple_rnn (SimpleRNN)      (None, 32)                1120      \n",
      "                                                                 \n",
      " dense (Dense)               (None, 1)                 33        \n",
      "                                                                 \n",
      "=================================================================\n",
      "Total params: 582,385\n",
      "Trainable params: 582,385\n",
      "Non-trainable params: 0\n",
      "_________________________________________________________________\n"
     ]
    }
   ],
   "source": [
    "from keras.layers import SimpleRNN\n",
    "\n",
    "model = Sequential()\n",
    "model.add(Embedding(vocab_size, 2, input_length=SEQUENCE_LENGTH))\n",
    "model.add(SimpleRNN(32,return_sequences=False))\n",
    "model.add(Dense(1, activation='sigmoid'))\n",
    "\n",
    "model.summary()"
   ]
  },
  {
   "cell_type": "code",
   "execution_count": 29,
   "metadata": {
    "id": "MPXDaCNIdWGu"
   },
   "outputs": [],
   "source": [
    "model.compile(loss='binary_crossentropy',\n",
    "              optimizer=\"adam\",\n",
    "              metrics=['accuracy'])"
   ]
  },
  {
   "cell_type": "code",
   "execution_count": 30,
   "metadata": {
    "colab": {
     "base_uri": "https://localhost:8080/"
    },
    "id": "10vmv2b8dQl2",
    "outputId": "3b8e35ef-9486-4cb3-c4c1-374c333bbeaa"
   },
   "outputs": [
    {
     "name": "stdout",
     "output_type": "stream",
     "text": [
      "Epoch 1/6\n",
      "8000/8000 [==============================] - 2055s 256ms/step - loss: 0.4925 - accuracy: 0.7607 - val_loss: 0.4692 - val_accuracy: 0.7792\n",
      "Epoch 2/6\n",
      "8000/8000 [==============================] - 2068s 258ms/step - loss: 0.4581 - accuracy: 0.7865 - val_loss: 0.4890 - val_accuracy: 0.7648\n",
      "Epoch 3/6\n",
      "8000/8000 [==============================] - 2081s 260ms/step - loss: 0.4464 - accuracy: 0.7944 - val_loss: 0.4790 - val_accuracy: 0.7746\n",
      "Epoch 4/6\n",
      "8000/8000 [==============================] - 2085s 261ms/step - loss: 0.4245 - accuracy: 0.8079 - val_loss: 0.4793 - val_accuracy: 0.7751\n",
      "Epoch 5/6\n",
      "8000/8000 [==============================] - 2118s 265ms/step - loss: 0.4095 - accuracy: 0.8162 - val_loss: 0.4872 - val_accuracy: 0.7668\n",
      "Epoch 6/6\n",
      "8000/8000 [==============================] - 2088s 261ms/step - loss: 0.4005 - accuracy: 0.8202 - val_loss: 0.5069 - val_accuracy: 0.7671\n"
     ]
    }
   ],
   "source": [
    "history = model.fit(x_train, y_train, batch_size=128, epochs=6, verbose=1, validation_split=0.2)"
   ]
  },
  {
   "cell_type": "code",
   "execution_count": 32,
   "metadata": {
    "colab": {
     "base_uri": "https://localhost:8080/"
    },
    "id": "J67v5bFBB26X",
    "outputId": "279c7eed-5677-4828-ba7f-1e6f7b5ac498"
   },
   "outputs": [
    {
     "name": "stdout",
     "output_type": "stream",
     "text": [
      "313/313 [==============================] - 9s 30ms/step - loss: 0.5073 - accuracy: 0.7682\n",
      "\n",
      "ACCURACY: 0.7681937217712402\n",
      "LOSS: 0.5072503685951233\n",
      "CPU times: user 9.44 s, sys: 301 ms, total: 9.74 s\n",
      "Wall time: 10.7 s\n"
     ]
    }
   ],
   "source": [
    "%%time\n",
    "score = model.evaluate(x_test, y_test, batch_size=BATCH_SIZE)\n",
    "print()\n",
    "print(\"ACCURACY:\",score[1])\n",
    "print(\"LOSS:\",score[0])"
   ]
  },
  {
   "cell_type": "code",
   "execution_count": 33,
   "metadata": {
    "id": "TeHXwYDXB7C_"
   },
   "outputs": [],
   "source": [
    "def plot_acc_loss(history):\n",
    "\n",
    "    acc = history.history['accuracy']\n",
    "    val_acc = history.history['val_accuracy']\n",
    "    loss = history.history['loss']\n",
    "    val_loss = history.history['val_loss']\n",
    "    epochs = range(1, len(acc) + 1)\n",
    "\n",
    "    plt.plot(epochs, acc, 'bo', label = 'Training Accuracy')\n",
    "    plt.plot(epochs, val_acc, 'r', label = 'Validation Accuracy')\n",
    "    plt.title('Training and Validation Accuracy')\n",
    "    plt.xlabel('Epochs')\n",
    "    plt.ylabel('Loss')\n",
    "    plt.legend()\n",
    "\n",
    "    plt.figure()\n",
    "    plt.plot(epochs, loss, 'bo', label = 'Training Loss')\n",
    "    plt.plot(epochs, val_loss, 'r', label = 'Validation Loss')\n",
    "    plt.title('Training and Validation Loss')\n",
    "    plt.xlabel('Epochs')\n",
    "    plt.ylabel('Loss')\n",
    "    plt.legend()\n",
    "    plt.show()"
   ]
  },
  {
   "cell_type": "code",
   "execution_count": 34,
   "metadata": {
    "colab": {
     "base_uri": "https://localhost:8080/",
     "height": 887
    },
    "id": "nctj5aNwB-MH",
    "outputId": "18eaade3-7c73-40bb-a1aa-27df7957a738"
   },
   "outputs": [
    {
     "data": {
      "image/png": "[encoded data removed]",
      "text/plain": [
       "<Figure size 640x480 with 1 Axes>"
      ]
     },
     "metadata": {},
     "output_type": "display_data"
    },
    {
     "data": {
      "image/png": "[encoded data removed]",
      "text/plain": [
       "<Figure size 640x480 with 1 Axes>"
      ]
     },
     "metadata": {},
     "output_type": "display_data"
    }
   ],
   "source": [
    "acc = history.history['accuracy']\n",
    "val_acc = history.history['val_accuracy']\n",
    "loss = history.history['loss']\n",
    "val_loss = history.history['val_loss']\n",
    "\n",
    "epochs = range(len(acc))\n",
    "\n",
    "plt.plot(epochs, acc, 'b', label='Training acc')\n",
    "plt.plot(epochs, val_acc, 'r', label='Validation acc')\n",
    "plt.title('Training and validation accuracy')\n",
    "plt.legend()\n",
    "\n",
    "plt.figure()\n",
    "\n",
    "plt.plot(epochs, loss, 'b', label='Training loss')\n",
    "plt.plot(epochs, val_loss, 'r', label='Validation loss')\n",
    "plt.title('Training and validation loss')\n",
    "plt.legend()\n",
    "\n",
    "plt.show()"
   ]
  },
  {
   "cell_type": "code",
   "execution_count": 35,
   "metadata": {
    "id": "cr_h1cyUCBoo"
   },
   "outputs": [],
   "source": [
    "def decode_sentiment(score, include_neutral=True):\n",
    "    if include_neutral:\n",
    "        label = NEUTRAL\n",
    "        if score <= SENTIMENT_THRESHOLDS[0]:\n",
    "            label = NEGATIVE\n",
    "        elif score >= SENTIMENT_THRESHOLDS[1]:\n",
    "            label = POSITIVE\n",
    "\n",
    "        return label\n",
    "    else:\n",
    "        return NEGATIVE if score < 0.5 else POSITIVE"
   ]
  },
  {
   "cell_type": "code",
   "execution_count": 36,
   "metadata": {
    "id": "TWRTBh21CE70"
   },
   "outputs": [],
   "source": [
    "def predict(text, include_neutral=True):\n",
    "    start_at = time.time()\n",
    "    # Tokenize text\n",
    "    x_test = pad_sequences(tokenizer.texts_to_sequences([text]), maxlen=SEQUENCE_LENGTH)\n",
    "    # Predict\n",
    "    score = model.predict([x_test])[0]\n",
    "    # Decode sentiment\n",
    "    label = decode_sentiment(score, include_neutral=include_neutral)\n",
    "\n",
    "    return {\"label\": label, \"score\": float(score),\n",
    "       \"elapsed_time\": time.time()-start_at}"
   ]
  },
  {
   "cell_type": "code",
   "execution_count": 37,
   "metadata": {
    "colab": {
     "base_uri": "https://localhost:8080/"
    },
    "id": "HImKqcLKCIEo",
    "outputId": "9e8cdc1b-f076-43c9-fdf7-1875216bd88e"
   },
   "outputs": [
    {
     "name": "stdout",
     "output_type": "stream",
     "text": [
      "1/1 [==============================] - 0s 171ms/step\n"
     ]
    },
    {
     "data": {
      "text/plain": [
       "{'label': 'NEGATIVE',\n",
       " 'score': 0.3375582695007324,\n",
       " 'elapsed_time': 0.21554136276245117}"
      ]
     },
     "execution_count": 37,
     "metadata": {},
     "output_type": "execute_result"
    }
   ],
   "source": [
    "predict(\"Shit happens today\")"
   ]
  },
  {
   "cell_type": "code",
   "execution_count": 38,
   "metadata": {
    "colab": {
     "base_uri": "https://localhost:8080/"
    },
    "id": "Hb_UvWIkCKx5",
    "outputId": "8c0db28e-fd60-424a-f125-02da44f582a7"
   },
   "outputs": [
    {
     "name": "stdout",
     "output_type": "stream",
     "text": [
      "1/1 [==============================] - 0s 139ms/step\n"
     ]
    },
    {
     "data": {
      "text/plain": [
       "{'label': 'POSITIVE',\n",
       " 'score': 0.9870448708534241,\n",
       " 'elapsed_time': 0.21779179573059082}"
      ]
     },
     "execution_count": 38,
     "metadata": {},
     "output_type": "execute_result"
    }
   ],
   "source": [
    "predict(\"Today was my marriage aniversery and I proposed her again\")"
   ]
  },
  {
   "cell_type": "code",
   "execution_count": 39,
   "metadata": {
    "colab": {
     "base_uri": "https://localhost:8080/"
    },
    "id": "xfYzrUwZCOSF",
    "outputId": "178ed474-9db5-4b0a-e692-c454a2027b8d"
   },
   "outputs": [
    {
     "name": "stdout",
     "output_type": "stream",
     "text": [
      "1/1 [==============================] - 0s 43ms/step\n"
     ]
    },
    {
     "data": {
      "text/plain": [
       "{'label': 'NEGATIVE',\n",
       " 'score': 0.04854927957057953,\n",
       " 'elapsed_time': 0.07855057716369629}"
      ]
     },
     "execution_count": 39,
     "metadata": {},
     "output_type": "execute_result"
    }
   ],
   "source": [
    "predict(\"I was kicked by the hotel manager because I made other guest unhappy\")"
   ]
  },
  {
   "cell_type": "code",
   "execution_count": 40,
   "metadata": {
    "colab": {
     "base_uri": "https://localhost:8080/"
    },
    "id": "qV38XFoyOxP_",
    "outputId": "ab6d0404-d207-4446-c5a7-4cacc065264e"
   },
   "outputs": [
    {
     "name": "stdout",
     "output_type": "stream",
     "text": [
      "1/1 [==============================] - 0s 39ms/step\n"
     ]
    },
    {
     "data": {
      "text/plain": [
       "{'label': 'NEGATIVE',\n",
       " 'score': 0.10528918355703354,\n",
       " 'elapsed_time': 0.08156108856201172}"
      ]
     },
     "execution_count": 40,
     "metadata": {},
     "output_type": "execute_result"
    }
   ],
   "source": [
    "predict(\"She got pregnent because it was my fault . I dont want to be a father at this early age\")"
   ]
  },
  {
   "cell_type": "code",
   "execution_count": 41,
   "metadata": {
    "colab": {
     "base_uri": "https://localhost:8080/"
    },
    "id": "22cFr14oO_5f",
    "outputId": "eeea647d-4cfb-496b-ad3d-e85bff72b591"
   },
   "outputs": [
    {
     "name": "stdout",
     "output_type": "stream",
     "text": [
      "1/1 [==============================] - 0s 121ms/step\n"
     ]
    },
    {
     "data": {
      "text/plain": [
       "{'label': 'POSITIVE',\n",
       " 'score': 0.8843143582344055,\n",
       " 'elapsed_time': 0.2693033218383789}"
      ]
     },
     "execution_count": 41,
     "metadata": {},
     "output_type": "execute_result"
    }
   ],
   "source": [
    "predict(\"Got luckey to get a family like mine to be supportive arround me always\")"
   ]
  },
  {
   "cell_type": "code",
   "execution_count": 42,
   "metadata": {
    "colab": {
     "base_uri": "https://localhost:8080/"
    },
    "id": "sdj6kiK2PMLO",
    "outputId": "62932ff1-b68e-419d-efde-5b3f212d509d"
   },
   "outputs": [
    {
     "name": "stdout",
     "output_type": "stream",
     "text": [
      "1/1 [==============================] - 0s 61ms/step\n"
     ]
    },
    {
     "data": {
      "text/plain": [
       "{'label': 'POSITIVE',\n",
       " 'score': 0.7906350493431091,\n",
       " 'elapsed_time': 0.10763287544250488}"
      ]
     },
     "execution_count": 42,
     "metadata": {},
     "output_type": "execute_result"
    }
   ],
   "source": [
    "predict(\"She said YES \")"
   ]
  },
  {
   "cell_type": "code",
   "execution_count": 43,
   "metadata": {
    "colab": {
     "base_uri": "https://localhost:8080/"
    },
    "id": "6fei283mPmER",
    "outputId": "ee8249aa-1909-406f-ea2a-c7885b0a37c9"
   },
   "outputs": [
    {
     "name": "stdout",
     "output_type": "stream",
     "text": [
      "1/1 [==============================] - 0s 131ms/step\n"
     ]
    },
    {
     "data": {
      "text/plain": [
       "{'label': 'NEGATIVE',\n",
       " 'score': 0.16254423558712006,\n",
       " 'elapsed_time': 0.27535176277160645}"
      ]
     },
     "execution_count": 43,
     "metadata": {},
     "output_type": "execute_result"
    }
   ],
   "source": [
    "predict(\"PUBG is now banned in India\")"
   ]
  },
  {
   "cell_type": "code",
   "execution_count": 44,
   "metadata": {
    "colab": {
     "base_uri": "https://localhost:8080/"
    },
    "id": "1yPOFN69CR2H",
    "outputId": "9d082ffa-49bf-40d3-c2e2-14b7734c929c"
   },
   "outputs": [
    {
     "name": "stdout",
     "output_type": "stream",
     "text": [
      "40/40 [==============================] - 1s 29ms/step\n",
      "CPU times: user 2.09 s, sys: 330 ms, total: 2.42 s\n",
      "Wall time: 2.32 s\n"
     ]
    }
   ],
   "source": [
    "%%time\n",
    "y_pred_1d = []\n",
    "y_test_1d = list(df_test.target)\n",
    "scores = model.predict(x_test, verbose=1, batch_size=8000)\n",
    "y_pred_1d = [decode_sentiment(score, include_neutral=False) for score in scores]"
   ]
  },
  {
   "cell_type": "code",
   "execution_count": 45,
   "metadata": {
    "id": "TNQea8glCVSv"
   },
   "outputs": [],
   "source": [
    "def plot_confusion_matrix(cm, classes,\n",
    "                          title='Confusion matrix',\n",
    "                          cmap=plt.cm.Blues):\n",
    "    \"\"\"\n",
    "    This function prints and plots the confusion matrix.\n",
    "    Normalization can be applied by setting `normalize=True`.\n",
    "    \"\"\"\n",
    "\n",
    "    cm = cm.astype('float') / cm.sum(axis=1)[:, np.newaxis]\n",
    "\n",
    "    plt.imshow(cm, interpolation='nearest', cmap=cmap)\n",
    "    plt.title(title, fontsize=30)\n",
    "    plt.colorbar()\n",
    "    tick_marks = np.arange(len(classes))\n",
    "    plt.xticks(tick_marks, classes, rotation=90, fontsize=22)\n",
    "    plt.yticks(tick_marks, classes, fontsize=22)\n",
    "\n",
    "    fmt = '.2f'\n",
    "    thresh = cm.max() / 2.\n",
    "    for i, j in itertools.product(range(cm.shape[0]), range(cm.shape[1])):\n",
    "        plt.text(j, i, format(cm[i, j], fmt),\n",
    "                 horizontalalignment=\"center\",\n",
    "                 color=\"white\" if cm[i, j] > thresh else \"black\")\n",
    "\n",
    "    plt.ylabel('True label', fontsize=25)\n",
    "    plt.xlabel('Predicted label', fontsize=25)"
   ]
  },
  {
   "cell_type": "code",
   "execution_count": 46,
   "metadata": {
    "colab": {
     "base_uri": "https://localhost:8080/",
     "height": 1000
    },
    "id": "hnYvtJGHCYKw",
    "outputId": "4fef5880-a793-4d06-91e7-db99ec1493a4"
   },
   "outputs": [
    {
     "data": {
      "image/png": "[encoded data removed]",
      "text/plain": [
       "<Figure size 1200x1200 with 2 Axes>"
      ]
     },
     "metadata": {},
     "output_type": "display_data"
    },
    {
     "name": "stdout",
     "output_type": "stream",
     "text": [
      "CPU times: user 1.99 s, sys: 289 ms, total: 2.28 s\n",
      "Wall time: 2.06 s\n"
     ]
    }
   ],
   "source": [
    "%%time\n",
    "\n",
    "cnf_matrix = confusion_matrix(y_test_1d, y_pred_1d)\n",
    "plt.figure(figsize=(12,12))\n",
    "plot_confusion_matrix(cnf_matrix, classes=df_train.target.unique(), title=\"Confusion matrix\")\n",
    "plt.show()"
   ]
  },
  {
   "cell_type": "code",
   "execution_count": 47,
   "metadata": {
    "colab": {
     "base_uri": "https://localhost:8080/"
    },
    "id": "tdH_aJiZCbsP",
    "outputId": "2daea9da-09ea-4b15-bed8-dcbd460a8613"
   },
   "outputs": [
    {
     "name": "stdout",
     "output_type": "stream",
     "text": [
      "              precision    recall  f1-score   support\n",
      "\n",
      "    NEGATIVE       0.80      0.71      0.75    159994\n",
      "    POSITIVE       0.74      0.82      0.78    160006\n",
      "\n",
      "    accuracy                           0.77    320000\n",
      "   macro avg       0.77      0.77      0.77    320000\n",
      "weighted avg       0.77      0.77      0.77    320000\n",
      "\n"
     ]
    }
   ],
   "source": [
    "print(classification_report(y_test_1d, y_pred_1d))"
   ]
  },
  {
   "cell_type": "code",
   "execution_count": 48,
   "metadata": {
    "colab": {
     "base_uri": "https://localhost:8080/"
    },
    "id": "90UWJzkLCgR3",
    "outputId": "266e75e2-1287-401e-aeec-c90c24be8b24"
   },
   "outputs": [
    {
     "data": {
      "text/plain": [
       "0.76819375"
      ]
     },
     "execution_count": 48,
     "metadata": {},
     "output_type": "execute_result"
    }
   ],
   "source": [
    "accuracy_score(y_test_1d, y_pred_1d)"
   ]
  },
  {
   "cell_type": "code",
   "execution_count": 49,
   "metadata": {
    "id": "_oL_XbbGCjNl"
   },
   "outputs": [],
   "source": [
    "model.save(KERAS_MODEL)\n",
    "w2v_model.save(WORD2VEC_MODEL)\n",
    "pickle.dump(tokenizer, open(TOKENIZER_MODEL, \"wb\"), protocol=0)\n",
    "pickle.dump(encoder, open(ENCODER_MODEL, \"wb\"), protocol=0)"
   ]
  },
  {
   "cell_type": "code",
   "execution_count": null,
   "metadata": {
    "id": "fgzDBEyUP4pZ"
   },
   "outputs": [],
   "source": []
  }
 ],
 "metadata": {
  "accelerator": "GPU",
  "colab": {
   "gpuType": "T4",
   "provenance": []
  },
  "kernelspec": {
   "display_name": "Python 3 (ipykernel)",
   "language": "python",
   "name": "python3"
  },
  "language_info": {
   "codemirror_mode": {
    "name": "ipython",
    "version": 3
   },
   "file_extension": ".py",
   "mimetype": "text/x-python",
   "name": "python",
   "nbconvert_exporter": "python",
   "pygments_lexer": "ipython3",
   "version": "3.9.13"
  }
 },
 "nbformat": 4,
 "nbformat_minor": 1
}
