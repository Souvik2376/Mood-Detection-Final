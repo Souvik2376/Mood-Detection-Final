{
 "cells": [
  {
   "cell_type": "code",
   "execution_count": null,
   "metadata": {
    "colab": {
     "base_uri": "https://localhost:8080/"
    },
    "id": "PeUc3K1ba-7X",
    "outputId": "7727fdbe-8437-4674-c1f6-bf17cc423410"
   },
   "outputs": [
    {
     "name": "stdout",
     "output_type": "stream",
     "text": [
      "Mounted at /content/drive/\n"
     ]
    }
   ],
   "source": [
    "from google.colab import drive\n",
    "drive.mount('/content/drive/')"
   ]
  },
  {
   "cell_type": "code",
   "execution_count": null,
   "metadata": {
    "id": "2eoLKD1ubGXR"
   },
   "outputs": [],
   "source": [
    "# DataFrame\n",
    "import pandas as pd\n",
    "\n",
    "# Matplot\n",
    "import matplotlib.pyplot as plt\n",
    "%matplotlib inline\n",
    "\n",
    "# Scikit-learn\n",
    "from sklearn.model_selection import train_test_split\n",
    "from sklearn.preprocessing import LabelEncoder\n",
    "from sklearn.metrics import confusion_matrix, classification_report, accuracy_score\n",
    "from sklearn.manifold import TSNE\n",
    "from sklearn.feature_extraction.text import TfidfVectorizer\n",
    "\n",
    "# Keras\n",
    "from keras.preprocessing.text import Tokenizer\n",
    "from keras.utils import pad_sequences\n",
    "from keras.models import Sequential\n",
    "from keras.layers import Activation, Dense, Dropout, Embedding, Flatten, Conv1D, MaxPooling1D, LSTM\n",
    "from keras import utils\n",
    "from keras.callbacks import ReduceLROnPlateau, EarlyStopping\n",
    "\n",
    "# nltk\n",
    "import nltk\n",
    "from nltk.corpus import stopwords\n",
    "from  nltk.stem import SnowballStemmer\n",
    "\n",
    "# Word2vec\n",
    "import gensim\n",
    "\n",
    "# Utility\n",
    "import re\n",
    "import numpy as np\n",
    "import os\n",
    "from collections import Counter\n",
    "import logging\n",
    "import time\n",
    "import pickle\n",
    "import itertools\n",
    "\n",
    "# Set log\n",
    "logging.basicConfig(format='%(asctime)s : %(levelname)s : %(message)s', level=logging.INFO)"
   ]
  },
  {
   "cell_type": "code",
   "execution_count": null,
   "metadata": {
    "colab": {
     "base_uri": "https://localhost:8080/"
    },
    "id": "0hc-ekmFbK-P",
    "outputId": "e1ce6ba3-ffe4-46de-ddd3-4451a9872489"
   },
   "outputs": [
    {
     "name": "stderr",
     "output_type": "stream",
     "text": [
      "[nltk_data] Downloading package stopwords to /root/nltk_data...\n",
      "[nltk_data]   Unzipping corpora/stopwords.zip.\n"
     ]
    },
    {
     "data": {
      "text/plain": [
       "True"
      ]
     },
     "execution_count": 3,
     "metadata": {},
     "output_type": "execute_result"
    }
   ],
   "source": [
    "nltk.download('stopwords')"
   ]
  },
  {
   "cell_type": "code",
   "execution_count": null,
   "metadata": {
    "id": "9YAmcgVKtw2S"
   },
   "outputs": [],
   "source": [
    "DATASET_COLUMNS = [\"target\", \"ids\", \"date\", \"flag\", \"user\", \"text\"]\n",
    "DATASET_ENCODING = \"ISO-8859-1\"\n",
    "TRAIN_SIZE = 0.8\n",
    "\n",
    "\n",
    "TEXT_CLEANING_RE = \"@\\S+|https?:\\S+|http?:\\S|[^A-Za-z0-9]+\"\n",
    "\n",
    "\n",
    "W2V_SIZE = 300\n",
    "W2V_WINDOW = 7\n",
    "W2V_EPOCH = 32\n",
    "W2V_MIN_COUNT = 10\n",
    "\n",
    "\n",
    "SEQUENCE_LENGTH = 300\n",
    "EPOCHS = 8\n",
    "BATCH_SIZE = 1024\n",
    "\n",
    "POSITIVE = \"POSITIVE\"\n",
    "NEGATIVE = \"NEGATIVE\"\n",
    "NEUTRAL = \"NEUTRAL\"\n",
    "SENTIMENT_THRESHOLDS = (0.4, 0.7)\n",
    "\n",
    "KERAS_MODEL = \"modeltest2_gru.h5\"\n",
    "WORD2VEC_MODEL = \"modeltest2_gru.w2v\"\n",
    "TOKENIZER_MODEL = \"tokenizertest2_gru.pkl\"\n",
    "ENCODER_MODEL = \"encodertest2_gru.pkl\""
   ]
  },
  {
   "cell_type": "code",
   "execution_count": null,
   "metadata": {
    "id": "Iw_QZ1TQbYhv"
   },
   "outputs": [],
   "source": [
    "df = pd.read_csv('/content/drive/MyDrive/Dataset/training.1600000.processed.noemoticon.csv', encoding =DATASET_ENCODING , names=DATASET_COLUMNS)"
   ]
  },
  {
   "cell_type": "code",
   "execution_count": null,
   "metadata": {
    "colab": {
     "base_uri": "https://localhost:8080/",
     "height": 206
    },
    "id": "Uvj9VH9pbb5P",
    "outputId": "f852ae3d-dcfd-4fba-924e-69f6abdb767c"
   },
   "outputs": [
    {
     "data": {
      "text/html": [
       "\n",
       "  <div id=\"df-6dc7ebdb-3c57-439f-93be-c375a4890794\" class=\"colab-df-container\">\n",
       "    <div>\n",
       "<style scoped>\n",
       "    .dataframe tbody tr th:only-of-type {\n",
       "        vertical-align: middle;\n",
       "    }\n",
       "\n",
       "    .dataframe tbody tr th {\n",
       "        vertical-align: top;\n",
       "    }\n",
       "\n",
       "    .dataframe thead th {\n",
       "        text-align: right;\n",
       "    }\n",
       "</style>\n",
       "<table border=\"1\" class=\"dataframe\">\n",
       "  <thead>\n",
       "    <tr style=\"text-align: right;\">\n",
       "      <th></th>\n",
       "      <th>target</th>\n",
       "      <th>ids</th>\n",
       "      <th>date</th>\n",
       "      <th>flag</th>\n",
       "      <th>user</th>\n",
       "      <th>text</th>\n",
       "    </tr>\n",
       "  </thead>\n",
       "  <tbody>\n",
       "    <tr>\n",
       "      <th>0</th>\n",
       "      <td>0</td>\n",
       "      <td>1467810369</td>\n",
       "      <td>Mon Apr 06 22:19:45 PDT 2009</td>\n",
       "      <td>NO_QUERY</td>\n",
       "      <td>_TheSpecialOne_</td>\n",
       "      <td>@switchfoot http://twitpic.com/2y1zl - Awww, t...</td>\n",
       "    </tr>\n",
       "    <tr>\n",
       "      <th>1</th>\n",
       "      <td>0</td>\n",
       "      <td>1467810672</td>\n",
       "      <td>Mon Apr 06 22:19:49 PDT 2009</td>\n",
       "      <td>NO_QUERY</td>\n",
       "      <td>scotthamilton</td>\n",
       "      <td>is upset that he can't update his Facebook by ...</td>\n",
       "    </tr>\n",
       "    <tr>\n",
       "      <th>2</th>\n",
       "      <td>0</td>\n",
       "      <td>1467810917</td>\n",
       "      <td>Mon Apr 06 22:19:53 PDT 2009</td>\n",
       "      <td>NO_QUERY</td>\n",
       "      <td>mattycus</td>\n",
       "      <td>@Kenichan I dived many times for the ball. Man...</td>\n",
       "    </tr>\n",
       "    <tr>\n",
       "      <th>3</th>\n",
       "      <td>0</td>\n",
       "      <td>1467811184</td>\n",
       "      <td>Mon Apr 06 22:19:57 PDT 2009</td>\n",
       "      <td>NO_QUERY</td>\n",
       "      <td>ElleCTF</td>\n",
       "      <td>my whole body feels itchy and like its on fire</td>\n",
       "    </tr>\n",
       "    <tr>\n",
       "      <th>4</th>\n",
       "      <td>0</td>\n",
       "      <td>1467811193</td>\n",
       "      <td>Mon Apr 06 22:19:57 PDT 2009</td>\n",
       "      <td>NO_QUERY</td>\n",
       "      <td>Karoli</td>\n",
       "      <td>@nationwideclass no, it's not behaving at all....</td>\n",
       "    </tr>\n",
       "  </tbody>\n",
       "</table>\n",
       "</div>\n",
       "    <div class=\"colab-df-buttons\">\n",
       "\n",
       "  <div class=\"colab-df-container\">\n",
       "    <button class=\"colab-df-convert\" onclick=\"convertToInteractive('df-6dc7ebdb-3c57-439f-93be-c375a4890794')\"\n",
       "            title=\"Convert this dataframe to an interactive table.\"\n",
       "            style=\"display:none;\">\n",
       "\n",
       "  <svg xmlns=\"http://www.w3.org/2000/svg\" height=\"24px\" viewBox=\"0 -960 960 960\">\n",
       "    <path d=\"M120-120v-720h720v720H120Zm60-500h600v-160H180v160Zm220 220h160v-160H400v160Zm0 220h160v-160H400v160ZM180-400h160v-160H180v160Zm440 0h160v-160H620v160ZM180-180h160v-160H180v160Zm440 0h160v-160H620v160Z\"/>\n",
       "  </svg>\n",
       "    </button>\n",
       "\n",
       "  <style>\n",
       "    .colab-df-container {\n",
       "      display:flex;\n",
       "      gap: 12px;\n",
       "    }\n",
       "\n",
       "    .colab-df-convert {\n",
       "      background-color: #E8F0FE;\n",
       "      border: none;\n",
       "      border-radius: 50%;\n",
       "      cursor: pointer;\n",
       "      display: none;\n",
       "      fill: #1967D2;\n",
       "      height: 32px;\n",
       "      padding: 0 0 0 0;\n",
       "      width: 32px;\n",
       "    }\n",
       "\n",
       "    .colab-df-convert:hover {\n",
       "      background-color: #E2EBFA;\n",
       "      box-shadow: 0px 1px 2px rgba(60, 64, 67, 0.3), 0px 1px 3px 1px rgba(60, 64, 67, 0.15);\n",
       "      fill: #174EA6;\n",
       "    }\n",
       "\n",
       "    .colab-df-buttons div {\n",
       "      margin-bottom: 4px;\n",
       "    }\n",
       "\n",
       "    [theme=dark] .colab-df-convert {\n",
       "      background-color: #3B4455;\n",
       "      fill: #D2E3FC;\n",
       "    }\n",
       "\n",
       "    [theme=dark] .colab-df-convert:hover {\n",
       "      background-color: #434B5C;\n",
       "      box-shadow: 0px 1px 3px 1px rgba(0, 0, 0, 0.15);\n",
       "      filter: drop-shadow(0px 1px 2px rgba(0, 0, 0, 0.3));\n",
       "      fill: #FFFFFF;\n",
       "    }\n",
       "  </style>\n",
       "\n",
       "    <script>\n",
       "      const buttonEl =\n",
       "        document.querySelector('#df-6dc7ebdb-3c57-439f-93be-c375a4890794 button.colab-df-convert');\n",
       "      buttonEl.style.display =\n",
       "        google.colab.kernel.accessAllowed ? 'block' : 'none';\n",
       "\n",
       "      async function convertToInteractive(key) {\n",
       "        const element = document.querySelector('#df-6dc7ebdb-3c57-439f-93be-c375a4890794');\n",
       "        const dataTable =\n",
       "          await google.colab.kernel.invokeFunction('convertToInteractive',\n",
       "                                                    [key], {});\n",
       "        if (!dataTable) return;\n",
       "\n",
       "        const docLinkHtml = 'Like what you see? Visit the ' +\n",
       "          '<a target=\"_blank\" href=https://colab.research.google.com/notebooks/data_table.ipynb>data table notebook</a>'\n",
       "          + ' to learn more about interactive tables.';\n",
       "        element.innerHTML = '';\n",
       "        dataTable['output_type'] = 'display_data';\n",
       "        await google.colab.output.renderOutput(dataTable, element);\n",
       "        const docLink = document.createElement('div');\n",
       "        docLink.innerHTML = docLinkHtml;\n",
       "        element.appendChild(docLink);\n",
       "      }\n",
       "    </script>\n",
       "  </div>\n",
       "\n",
       "\n",
       "<div id=\"df-cb5400f7-6070-48fe-a1a9-7361f95046aa\">\n",
       "  <button class=\"colab-df-quickchart\" onclick=\"quickchart('df-cb5400f7-6070-48fe-a1a9-7361f95046aa')\"\n",
       "            title=\"Suggest charts.\"\n",
       "            style=\"display:none;\">\n",
       "\n",
       "<svg xmlns=\"http://www.w3.org/2000/svg\" height=\"24px\"viewBox=\"0 0 24 24\"\n",
       "     width=\"24px\">\n",
       "    <g>\n",
       "        <path d=\"M19 3H5c-1.1 0-2 .9-2 2v14c0 1.1.9 2 2 2h14c1.1 0 2-.9 2-2V5c0-1.1-.9-2-2-2zM9 17H7v-7h2v7zm4 0h-2V7h2v10zm4 0h-2v-4h2v4z\"/>\n",
       "    </g>\n",
       "</svg>\n",
       "  </button>\n",
       "\n",
       "<style>\n",
       "  .colab-df-quickchart {\n",
       "      --bg-color: #E8F0FE;\n",
       "      --fill-color: #1967D2;\n",
       "      --hover-bg-color: #E2EBFA;\n",
       "      --hover-fill-color: #174EA6;\n",
       "      --disabled-fill-color: #AAA;\n",
       "      --disabled-bg-color: #DDD;\n",
       "  }\n",
       "\n",
       "  [theme=dark] .colab-df-quickchart {\n",
       "      --bg-color: #3B4455;\n",
       "      --fill-color: #D2E3FC;\n",
       "      --hover-bg-color: #434B5C;\n",
       "      --hover-fill-color: #FFFFFF;\n",
       "      --disabled-bg-color: #3B4455;\n",
       "      --disabled-fill-color: #666;\n",
       "  }\n",
       "\n",
       "  .colab-df-quickchart {\n",
       "    background-color: var(--bg-color);\n",
       "    border: none;\n",
       "    border-radius: 50%;\n",
       "    cursor: pointer;\n",
       "    display: none;\n",
       "    fill: var(--fill-color);\n",
       "    height: 32px;\n",
       "    padding: 0;\n",
       "    width: 32px;\n",
       "  }\n",
       "\n",
       "  .colab-df-quickchart:hover {\n",
       "    background-color: var(--hover-bg-color);\n",
       "    box-shadow: 0 1px 2px rgba(60, 64, 67, 0.3), 0 1px 3px 1px rgba(60, 64, 67, 0.15);\n",
       "    fill: var(--button-hover-fill-color);\n",
       "  }\n",
       "\n",
       "  .colab-df-quickchart-complete:disabled,\n",
       "  .colab-df-quickchart-complete:disabled:hover {\n",
       "    background-color: var(--disabled-bg-color);\n",
       "    fill: var(--disabled-fill-color);\n",
       "    box-shadow: none;\n",
       "  }\n",
       "\n",
       "  .colab-df-spinner {\n",
       "    border: 2px solid var(--fill-color);\n",
       "    border-color: transparent;\n",
       "    border-bottom-color: var(--fill-color);\n",
       "    animation:\n",
       "      spin 1s steps(1) infinite;\n",
       "  }\n",
       "\n",
       "  @keyframes spin {\n",
       "    0% {\n",
       "      border-color: transparent;\n",
       "      border-bottom-color: var(--fill-color);\n",
       "      border-left-color: var(--fill-color);\n",
       "    }\n",
       "    20% {\n",
       "      border-color: transparent;\n",
       "      border-left-color: var(--fill-color);\n",
       "      border-top-color: var(--fill-color);\n",
       "    }\n",
       "    30% {\n",
       "      border-color: transparent;\n",
       "      border-left-color: var(--fill-color);\n",
       "      border-top-color: var(--fill-color);\n",
       "      border-right-color: var(--fill-color);\n",
       "    }\n",
       "    40% {\n",
       "      border-color: transparent;\n",
       "      border-right-color: var(--fill-color);\n",
       "      border-top-color: var(--fill-color);\n",
       "    }\n",
       "    60% {\n",
       "      border-color: transparent;\n",
       "      border-right-color: var(--fill-color);\n",
       "    }\n",
       "    80% {\n",
       "      border-color: transparent;\n",
       "      border-right-color: var(--fill-color);\n",
       "      border-bottom-color: var(--fill-color);\n",
       "    }\n",
       "    90% {\n",
       "      border-color: transparent;\n",
       "      border-bottom-color: var(--fill-color);\n",
       "    }\n",
       "  }\n",
       "</style>\n",
       "\n",
       "  <script>\n",
       "    async function quickchart(key) {\n",
       "      const quickchartButtonEl =\n",
       "        document.querySelector('#' + key + ' button');\n",
       "      quickchartButtonEl.disabled = true;  // To prevent multiple clicks.\n",
       "      quickchartButtonEl.classList.add('colab-df-spinner');\n",
       "      try {\n",
       "        const charts = await google.colab.kernel.invokeFunction(\n",
       "            'suggestCharts', [key], {});\n",
       "      } catch (error) {\n",
       "        console.error('Error during call to suggestCharts:', error);\n",
       "      }\n",
       "      quickchartButtonEl.classList.remove('colab-df-spinner');\n",
       "      quickchartButtonEl.classList.add('colab-df-quickchart-complete');\n",
       "    }\n",
       "    (() => {\n",
       "      let quickchartButtonEl =\n",
       "        document.querySelector('#df-cb5400f7-6070-48fe-a1a9-7361f95046aa button');\n",
       "      quickchartButtonEl.style.display =\n",
       "        google.colab.kernel.accessAllowed ? 'block' : 'none';\n",
       "    })();\n",
       "  </script>\n",
       "</div>\n",
       "    </div>\n",
       "  </div>\n"
      ],
      "text/plain": [
       "   target         ids                          date      flag  \\\n",
       "0       0  1467810369  Mon Apr 06 22:19:45 PDT 2009  NO_QUERY   \n",
       "1       0  1467810672  Mon Apr 06 22:19:49 PDT 2009  NO_QUERY   \n",
       "2       0  1467810917  Mon Apr 06 22:19:53 PDT 2009  NO_QUERY   \n",
       "3       0  1467811184  Mon Apr 06 22:19:57 PDT 2009  NO_QUERY   \n",
       "4       0  1467811193  Mon Apr 06 22:19:57 PDT 2009  NO_QUERY   \n",
       "\n",
       "              user                                               text  \n",
       "0  _TheSpecialOne_  @switchfoot http://twitpic.com/2y1zl - Awww, t...  \n",
       "1    scotthamilton  is upset that he can't update his Facebook by ...  \n",
       "2         mattycus  @Kenichan I dived many times for the ball. Man...  \n",
       "3          ElleCTF    my whole body feels itchy and like its on fire   \n",
       "4           Karoli  @nationwideclass no, it's not behaving at all....  "
      ]
     },
     "execution_count": 6,
     "metadata": {},
     "output_type": "execute_result"
    }
   ],
   "source": [
    "df.head()"
   ]
  },
  {
   "cell_type": "code",
   "execution_count": null,
   "metadata": {
    "id": "UxJMyChTbpnr"
   },
   "outputs": [],
   "source": [
    "df = df.sample(frac=1)"
   ]
  },
  {
   "cell_type": "code",
   "execution_count": null,
   "metadata": {
    "colab": {
     "base_uri": "https://localhost:8080/",
     "height": 1000
    },
    "id": "jTzBe3MUbqLk",
    "outputId": "b7021bd8-d43e-4be4-efb5-1d993430076d"
   },
   "outputs": [
    {
     "data": {
      "text/html": [
       "\n",
       "  <div id=\"df-82695153-40d9-483d-9b7b-8861a8f76ba8\" class=\"colab-df-container\">\n",
       "    <div>\n",
       "<style scoped>\n",
       "    .dataframe tbody tr th:only-of-type {\n",
       "        vertical-align: middle;\n",
       "    }\n",
       "\n",
       "    .dataframe tbody tr th {\n",
       "        vertical-align: top;\n",
       "    }\n",
       "\n",
       "    .dataframe thead th {\n",
       "        text-align: right;\n",
       "    }\n",
       "</style>\n",
       "<table border=\"1\" class=\"dataframe\">\n",
       "  <thead>\n",
       "    <tr style=\"text-align: right;\">\n",
       "      <th></th>\n",
       "      <th>target</th>\n",
       "      <th>ids</th>\n",
       "      <th>date</th>\n",
       "      <th>flag</th>\n",
       "      <th>user</th>\n",
       "      <th>text</th>\n",
       "    </tr>\n",
       "  </thead>\n",
       "  <tbody>\n",
       "    <tr>\n",
       "      <th>1123088</th>\n",
       "      <td>4</td>\n",
       "      <td>1974444521</td>\n",
       "      <td>Sat May 30 13:08:59 PDT 2009</td>\n",
       "      <td>NO_QUERY</td>\n",
       "      <td>lweeks63</td>\n",
       "      <td>getting ready for work... Lisa</td>\n",
       "    </tr>\n",
       "    <tr>\n",
       "      <th>1432613</th>\n",
       "      <td>4</td>\n",
       "      <td>2060294404</td>\n",
       "      <td>Sat Jun 06 18:38:08 PDT 2009</td>\n",
       "      <td>NO_QUERY</td>\n",
       "      <td>magcampos</td>\n",
       "      <td>still hopefull for my Cubbies  Have not missed...</td>\n",
       "    </tr>\n",
       "    <tr>\n",
       "      <th>1084650</th>\n",
       "      <td>4</td>\n",
       "      <td>1969029244</td>\n",
       "      <td>Fri May 29 22:50:24 PDT 2009</td>\n",
       "      <td>NO_QUERY</td>\n",
       "      <td>Jackdog24</td>\n",
       "      <td>@katmanduherself no  lol cody is trying to sex...</td>\n",
       "    </tr>\n",
       "    <tr>\n",
       "      <th>1233585</th>\n",
       "      <td>4</td>\n",
       "      <td>1992201353</td>\n",
       "      <td>Mon Jun 01 08:22:08 PDT 2009</td>\n",
       "      <td>NO_QUERY</td>\n",
       "      <td>kenny277</td>\n",
       "      <td>One Night in Bangkok is THE BEST!!!! *DANCE*</td>\n",
       "    </tr>\n",
       "    <tr>\n",
       "      <th>176523</th>\n",
       "      <td>0</td>\n",
       "      <td>1965378850</td>\n",
       "      <td>Fri May 29 15:48:59 PDT 2009</td>\n",
       "      <td>NO_QUERY</td>\n",
       "      <td>Dogbook</td>\n",
       "      <td>Harley passed away in December 2008  http://ap...</td>\n",
       "    </tr>\n",
       "    <tr>\n",
       "      <th>361486</th>\n",
       "      <td>0</td>\n",
       "      <td>2046932144</td>\n",
       "      <td>Fri Jun 05 12:54:19 PDT 2009</td>\n",
       "      <td>NO_QUERY</td>\n",
       "      <td>daniellerangel</td>\n",
       "      <td>such a beautiful day outside and I am inside t...</td>\n",
       "    </tr>\n",
       "    <tr>\n",
       "      <th>1138260</th>\n",
       "      <td>4</td>\n",
       "      <td>1976827868</td>\n",
       "      <td>Sat May 30 19:12:12 PDT 2009</td>\n",
       "      <td>NO_QUERY</td>\n",
       "      <td>cjashton</td>\n",
       "      <td>is packed and ready to move</td>\n",
       "    </tr>\n",
       "    <tr>\n",
       "      <th>1528817</th>\n",
       "      <td>4</td>\n",
       "      <td>2177447407</td>\n",
       "      <td>Mon Jun 15 06:07:21 PDT 2009</td>\n",
       "      <td>NO_QUERY</td>\n",
       "      <td>carlos_teran</td>\n",
       "      <td>@Ali167 Have a wonderful Monday, Ali.</td>\n",
       "    </tr>\n",
       "    <tr>\n",
       "      <th>1213983</th>\n",
       "      <td>4</td>\n",
       "      <td>1989402130</td>\n",
       "      <td>Mon Jun 01 01:24:27 PDT 2009</td>\n",
       "      <td>NO_QUERY</td>\n",
       "      <td>MusicADdicts</td>\n",
       "      <td>@FROactive I think we did meet if I'm not mist...</td>\n",
       "    </tr>\n",
       "    <tr>\n",
       "      <th>950520</th>\n",
       "      <td>4</td>\n",
       "      <td>1824018819</td>\n",
       "      <td>Sat May 16 23:45:25 PDT 2009</td>\n",
       "      <td>NO_QUERY</td>\n",
       "      <td>poijakosalem</td>\n",
       "      <td>I just made Caesar Salad dressing.  yumm.</td>\n",
       "    </tr>\n",
       "    <tr>\n",
       "      <th>1440304</th>\n",
       "      <td>4</td>\n",
       "      <td>2061649477</td>\n",
       "      <td>Sat Jun 06 21:18:48 PDT 2009</td>\n",
       "      <td>NO_QUERY</td>\n",
       "      <td>leimuise</td>\n",
       "      <td>Watching a docu on snow monkeys... our cousins</td>\n",
       "    </tr>\n",
       "    <tr>\n",
       "      <th>979528</th>\n",
       "      <td>4</td>\n",
       "      <td>1833939264</td>\n",
       "      <td>Mon May 18 01:00:56 PDT 2009</td>\n",
       "      <td>NO_QUERY</td>\n",
       "      <td>e_howson</td>\n",
       "      <td>It's (new, hot pink) ugg-boots, cup of tea and...</td>\n",
       "    </tr>\n",
       "    <tr>\n",
       "      <th>1125961</th>\n",
       "      <td>4</td>\n",
       "      <td>1974943568</td>\n",
       "      <td>Sat May 30 14:07:24 PDT 2009</td>\n",
       "      <td>NO_QUERY</td>\n",
       "      <td>AmanderFlander</td>\n",
       "      <td>Go go go! Check screening times</td>\n",
       "    </tr>\n",
       "    <tr>\n",
       "      <th>722817</th>\n",
       "      <td>0</td>\n",
       "      <td>2261609128</td>\n",
       "      <td>Sat Jun 20 21:03:30 PDT 2009</td>\n",
       "      <td>NO_QUERY</td>\n",
       "      <td>caromarie217</td>\n",
       "      <td>@ddlovato ME EITHER! not fair..</td>\n",
       "    </tr>\n",
       "    <tr>\n",
       "      <th>1348069</th>\n",
       "      <td>4</td>\n",
       "      <td>2044767310</td>\n",
       "      <td>Fri Jun 05 09:47:48 PDT 2009</td>\n",
       "      <td>NO_QUERY</td>\n",
       "      <td>thaibarcella</td>\n",
       "      <td>@Dannymcfly danny! please say happy b-day to m...</td>\n",
       "    </tr>\n",
       "    <tr>\n",
       "      <th>1087365</th>\n",
       "      <td>4</td>\n",
       "      <td>1969418184</td>\n",
       "      <td>Fri May 29 23:58:48 PDT 2009</td>\n",
       "      <td>NO_QUERY</td>\n",
       "      <td>chasecarnivine</td>\n",
       "      <td>Talking to the love of my life!!   scott, i lo...</td>\n",
       "    </tr>\n",
       "    <tr>\n",
       "      <th>1241438</th>\n",
       "      <td>4</td>\n",
       "      <td>1994014556</td>\n",
       "      <td>Mon Jun 01 11:16:44 PDT 2009</td>\n",
       "      <td>NO_QUERY</td>\n",
       "      <td>AbbyLipstick</td>\n",
       "      <td>@BenJoBubble LOL soooo true! and it's all gloo...</td>\n",
       "    </tr>\n",
       "    <tr>\n",
       "      <th>1180714</th>\n",
       "      <td>4</td>\n",
       "      <td>1981967218</td>\n",
       "      <td>Sun May 31 10:15:22 PDT 2009</td>\n",
       "      <td>NO_QUERY</td>\n",
       "      <td>bootblackangela</td>\n",
       "      <td>Good afternoon everyone!!!  Hope you all enjoy...</td>\n",
       "    </tr>\n",
       "    <tr>\n",
       "      <th>1382455</th>\n",
       "      <td>4</td>\n",
       "      <td>2052467087</td>\n",
       "      <td>Sat Jun 06 00:49:48 PDT 2009</td>\n",
       "      <td>NO_QUERY</td>\n",
       "      <td>MCeeYOSHi</td>\n",
       "      <td>@Julzeehope Well, i dont eat fast food.Low amo...</td>\n",
       "    </tr>\n",
       "    <tr>\n",
       "      <th>60013</th>\n",
       "      <td>0</td>\n",
       "      <td>1686285031</td>\n",
       "      <td>Sun May 03 04:43:11 PDT 2009</td>\n",
       "      <td>NO_QUERY</td>\n",
       "      <td>eclaiire</td>\n",
       "      <td>Studying today  Bad times.</td>\n",
       "    </tr>\n",
       "    <tr>\n",
       "      <th>198657</th>\n",
       "      <td>0</td>\n",
       "      <td>1971269543</td>\n",
       "      <td>Sat May 30 06:40:53 PDT 2009</td>\n",
       "      <td>NO_QUERY</td>\n",
       "      <td>KingCharlesI</td>\n",
       "      <td>@maleekberry yeh mate im gonna hound him next ...</td>\n",
       "    </tr>\n",
       "    <tr>\n",
       "      <th>630484</th>\n",
       "      <td>0</td>\n",
       "      <td>2232007620</td>\n",
       "      <td>Thu Jun 18 19:19:31 PDT 2009</td>\n",
       "      <td>NO_QUERY</td>\n",
       "      <td>laurenclark9</td>\n",
       "      <td>@skk123 SOOO damn bored  haha how was your day?</td>\n",
       "    </tr>\n",
       "    <tr>\n",
       "      <th>1507413</th>\n",
       "      <td>4</td>\n",
       "      <td>2174490753</td>\n",
       "      <td>Sun Jun 14 22:39:50 PDT 2009</td>\n",
       "      <td>NO_QUERY</td>\n",
       "      <td>alexkoutek</td>\n",
       "      <td>fantastic day at the beach, the boardwalk and ...</td>\n",
       "    </tr>\n",
       "    <tr>\n",
       "      <th>236262</th>\n",
       "      <td>0</td>\n",
       "      <td>1979949992</td>\n",
       "      <td>Sun May 31 05:08:24 PDT 2009</td>\n",
       "      <td>NO_QUERY</td>\n",
       "      <td>retro_seventies</td>\n",
       "      <td>Back at the gulags again for another week. Ank...</td>\n",
       "    </tr>\n",
       "    <tr>\n",
       "      <th>752844</th>\n",
       "      <td>0</td>\n",
       "      <td>2286675267</td>\n",
       "      <td>Mon Jun 22 16:46:15 PDT 2009</td>\n",
       "      <td>NO_QUERY</td>\n",
       "      <td>yesimthatcool</td>\n",
       "      <td>I just cut my hair</td>\n",
       "    </tr>\n",
       "    <tr>\n",
       "      <th>891147</th>\n",
       "      <td>4</td>\n",
       "      <td>1689007899</td>\n",
       "      <td>Sun May 03 12:24:49 PDT 2009</td>\n",
       "      <td>NO_QUERY</td>\n",
       "      <td>N1ChrisBrownFan</td>\n",
       "      <td>@ditBOMB OMG! lol......i don't have a clue why...</td>\n",
       "    </tr>\n",
       "    <tr>\n",
       "      <th>1352000</th>\n",
       "      <td>4</td>\n",
       "      <td>2046236714</td>\n",
       "      <td>Fri Jun 05 11:53:24 PDT 2009</td>\n",
       "      <td>NO_QUERY</td>\n",
       "      <td>JonitoB</td>\n",
       "      <td>Shall I buy a leopard gecko or a bearded drago...</td>\n",
       "    </tr>\n",
       "    <tr>\n",
       "      <th>1292060</th>\n",
       "      <td>4</td>\n",
       "      <td>2002986812</td>\n",
       "      <td>Tue Jun 02 05:37:56 PDT 2009</td>\n",
       "      <td>NO_QUERY</td>\n",
       "      <td>SapirAzoulay</td>\n",
       "      <td>In rehearsals . Rehearsals, rehearsals..... I ...</td>\n",
       "    </tr>\n",
       "    <tr>\n",
       "      <th>629454</th>\n",
       "      <td>0</td>\n",
       "      <td>2231648786</td>\n",
       "      <td>Thu Jun 18 18:50:28 PDT 2009</td>\n",
       "      <td>NO_QUERY</td>\n",
       "      <td>mhhughes</td>\n",
       "      <td>@MartyKFarris Where are you going? Everyone is...</td>\n",
       "    </tr>\n",
       "    <tr>\n",
       "      <th>127425</th>\n",
       "      <td>0</td>\n",
       "      <td>1834714502</td>\n",
       "      <td>Mon May 18 03:57:38 PDT 2009</td>\n",
       "      <td>NO_QUERY</td>\n",
       "      <td>lucy_r</td>\n",
       "      <td>@zeeblet yeah, sorry, only available to those ...</td>\n",
       "    </tr>\n",
       "    <tr>\n",
       "      <th>852282</th>\n",
       "      <td>4</td>\n",
       "      <td>1572936219</td>\n",
       "      <td>Mon Apr 20 23:05:17 PDT 2009</td>\n",
       "      <td>NO_QUERY</td>\n",
       "      <td>Miss_Ashleyyy</td>\n",
       "      <td>finished my paper. score! off to get some well...</td>\n",
       "    </tr>\n",
       "    <tr>\n",
       "      <th>951795</th>\n",
       "      <td>4</td>\n",
       "      <td>1824311027</td>\n",
       "      <td>Sun May 17 00:50:56 PDT 2009</td>\n",
       "      <td>NO_QUERY</td>\n",
       "      <td>katzirra</td>\n",
       "      <td>Weird to say but Calvin's apartment? He hangs ...</td>\n",
       "    </tr>\n",
       "    <tr>\n",
       "      <th>1044458</th>\n",
       "      <td>4</td>\n",
       "      <td>1957445461</td>\n",
       "      <td>Fri May 29 00:31:27 PDT 2009</td>\n",
       "      <td>NO_QUERY</td>\n",
       "      <td>Kaattt11</td>\n",
       "      <td>@CheMerf Heard your greeting for archiejoepet.</td>\n",
       "    </tr>\n",
       "    <tr>\n",
       "      <th>107087</th>\n",
       "      <td>0</td>\n",
       "      <td>1823808962</td>\n",
       "      <td>Sat May 16 23:03:13 PDT 2009</td>\n",
       "      <td>NO_QUERY</td>\n",
       "      <td>cpf</td>\n",
       "      <td>@SquireFred We saw you and @monkiyo on stage a...</td>\n",
       "    </tr>\n",
       "    <tr>\n",
       "      <th>724959</th>\n",
       "      <td>0</td>\n",
       "      <td>2262205247</td>\n",
       "      <td>Sat Jun 20 22:04:27 PDT 2009</td>\n",
       "      <td>NO_QUERY</td>\n",
       "      <td>gabbycastillo</td>\n",
       "      <td>@JoelMadden I am really jealous you got to see...</td>\n",
       "    </tr>\n",
       "    <tr>\n",
       "      <th>304889</th>\n",
       "      <td>0</td>\n",
       "      <td>1999854124</td>\n",
       "      <td>Mon Jun 01 20:56:47 PDT 2009</td>\n",
       "      <td>NO_QUERY</td>\n",
       "      <td>gfisher24</td>\n",
       "      <td>help me...my foot is throbbin after i got the ...</td>\n",
       "    </tr>\n",
       "    <tr>\n",
       "      <th>953405</th>\n",
       "      <td>4</td>\n",
       "      <td>1824639615</td>\n",
       "      <td>Sun May 17 02:16:01 PDT 2009</td>\n",
       "      <td>NO_QUERY</td>\n",
       "      <td>bridaisy</td>\n",
       "      <td>Just left tji fridays ! And i think we found a...</td>\n",
       "    </tr>\n",
       "    <tr>\n",
       "      <th>163535</th>\n",
       "      <td>0</td>\n",
       "      <td>1958068448</td>\n",
       "      <td>Fri May 29 02:33:06 PDT 2009</td>\n",
       "      <td>NO_QUERY</td>\n",
       "      <td>allendoggie</td>\n",
       "      <td>tomorrow will be my last day in work.. how sad...</td>\n",
       "    </tr>\n",
       "    <tr>\n",
       "      <th>184692</th>\n",
       "      <td>0</td>\n",
       "      <td>1967774772</td>\n",
       "      <td>Fri May 29 20:11:19 PDT 2009</td>\n",
       "      <td>NO_QUERY</td>\n",
       "      <td>ChipperDuck</td>\n",
       "      <td>At a wedding... No hot guys...</td>\n",
       "    </tr>\n",
       "    <tr>\n",
       "      <th>1458590</th>\n",
       "      <td>4</td>\n",
       "      <td>2063679018</td>\n",
       "      <td>Sun Jun 07 03:38:43 PDT 2009</td>\n",
       "      <td>NO_QUERY</td>\n",
       "      <td>StevieDavidson</td>\n",
       "      <td>I love new music</td>\n",
       "    </tr>\n",
       "    <tr>\n",
       "      <th>513737</th>\n",
       "      <td>0</td>\n",
       "      <td>2190458590</td>\n",
       "      <td>Tue Jun 16 02:47:19 PDT 2009</td>\n",
       "      <td>NO_QUERY</td>\n",
       "      <td>Ambcompte</td>\n",
       "      <td>@MRGOULD Why are you not coming to Spain?</td>\n",
       "    </tr>\n",
       "    <tr>\n",
       "      <th>1447293</th>\n",
       "      <td>4</td>\n",
       "      <td>2062604915</td>\n",
       "      <td>Sat Jun 06 23:43:41 PDT 2009</td>\n",
       "      <td>NO_QUERY</td>\n",
       "      <td>DeniseVlogs</td>\n",
       "      <td>@Joppy I'm cool with that... and don't forget ...</td>\n",
       "    </tr>\n",
       "    <tr>\n",
       "      <th>1033128</th>\n",
       "      <td>4</td>\n",
       "      <td>1936081443</td>\n",
       "      <td>Wed May 27 07:25:18 PDT 2009</td>\n",
       "      <td>NO_QUERY</td>\n",
       "      <td>beijingfairmont</td>\n",
       "      <td>We DIGG this  &amp;quot;Digg Adds Twitter and Face...</td>\n",
       "    </tr>\n",
       "    <tr>\n",
       "      <th>386457</th>\n",
       "      <td>0</td>\n",
       "      <td>2053797399</td>\n",
       "      <td>Sat Jun 06 05:43:51 PDT 2009</td>\n",
       "      <td>NO_QUERY</td>\n",
       "      <td>hollyalyxfinch</td>\n",
       "      <td>@ScruffyPanther You so are. Poor B</td>\n",
       "    </tr>\n",
       "    <tr>\n",
       "      <th>830256</th>\n",
       "      <td>4</td>\n",
       "      <td>1557283719</td>\n",
       "      <td>Sun Apr 19 03:08:23 PDT 2009</td>\n",
       "      <td>NO_QUERY</td>\n",
       "      <td>Nhipham</td>\n",
       "      <td>Is in bed on her touch and can hear loud as mu...</td>\n",
       "    </tr>\n",
       "    <tr>\n",
       "      <th>69660</th>\n",
       "      <td>0</td>\n",
       "      <td>1693375211</td>\n",
       "      <td>Sun May 03 22:21:26 PDT 2009</td>\n",
       "      <td>NO_QUERY</td>\n",
       "      <td>eerational</td>\n",
       "      <td>wants/needs to take another nap</td>\n",
       "    </tr>\n",
       "    <tr>\n",
       "      <th>899881</th>\n",
       "      <td>4</td>\n",
       "      <td>1693934386</td>\n",
       "      <td>Mon May 04 00:21:52 PDT 2009</td>\n",
       "      <td>NO_QUERY</td>\n",
       "      <td>zulunationn</td>\n",
       "      <td>so, its no longer the day of my birth. and i k...</td>\n",
       "    </tr>\n",
       "    <tr>\n",
       "      <th>1511310</th>\n",
       "      <td>4</td>\n",
       "      <td>2175078873</td>\n",
       "      <td>Mon Jun 15 00:01:59 PDT 2009</td>\n",
       "      <td>NO_QUERY</td>\n",
       "      <td>SeattleEconomy</td>\n",
       "      <td>@sherpaco no matter what u hear people say, Ko...</td>\n",
       "    </tr>\n",
       "    <tr>\n",
       "      <th>927240</th>\n",
       "      <td>4</td>\n",
       "      <td>1759124879</td>\n",
       "      <td>Sun May 10 18:31:02 PDT 2009</td>\n",
       "      <td>NO_QUERY</td>\n",
       "      <td>anyabast</td>\n",
       "      <td>@Gennita I'm pretty sure he wants to do that o...</td>\n",
       "    </tr>\n",
       "    <tr>\n",
       "      <th>917248</th>\n",
       "      <td>4</td>\n",
       "      <td>1753451907</td>\n",
       "      <td>Sun May 10 01:42:23 PDT 2009</td>\n",
       "      <td>NO_QUERY</td>\n",
       "      <td>feistyfrogg</td>\n",
       "      <td>can't believe the weekend is over already!  Wh...</td>\n",
       "    </tr>\n",
       "  </tbody>\n",
       "</table>\n",
       "</div>\n",
       "    <div class=\"colab-df-buttons\">\n",
       "\n",
       "  <div class=\"colab-df-container\">\n",
       "    <button class=\"colab-df-convert\" onclick=\"convertToInteractive('df-82695153-40d9-483d-9b7b-8861a8f76ba8')\"\n",
       "            title=\"Convert this dataframe to an interactive table.\"\n",
       "            style=\"display:none;\">\n",
       "\n",
       "  <svg xmlns=\"http://www.w3.org/2000/svg\" height=\"24px\" viewBox=\"0 -960 960 960\">\n",
       "    <path d=\"M120-120v-720h720v720H120Zm60-500h600v-160H180v160Zm220 220h160v-160H400v160Zm0 220h160v-160H400v160ZM180-400h160v-160H180v160Zm440 0h160v-160H620v160ZM180-180h160v-160H180v160Zm440 0h160v-160H620v160Z\"/>\n",
       "  </svg>\n",
       "    </button>\n",
       "\n",
       "  <style>\n",
       "    .colab-df-container {\n",
       "      display:flex;\n",
       "      gap: 12px;\n",
       "    }\n",
       "\n",
       "    .colab-df-convert {\n",
       "      background-color: #E8F0FE;\n",
       "      border: none;\n",
       "      border-radius: 50%;\n",
       "      cursor: pointer;\n",
       "      display: none;\n",
       "      fill: #1967D2;\n",
       "      height: 32px;\n",
       "      padding: 0 0 0 0;\n",
       "      width: 32px;\n",
       "    }\n",
       "\n",
       "    .colab-df-convert:hover {\n",
       "      background-color: #E2EBFA;\n",
       "      box-shadow: 0px 1px 2px rgba(60, 64, 67, 0.3), 0px 1px 3px 1px rgba(60, 64, 67, 0.15);\n",
       "      fill: #174EA6;\n",
       "    }\n",
       "\n",
       "    .colab-df-buttons div {\n",
       "      margin-bottom: 4px;\n",
       "    }\n",
       "\n",
       "    [theme=dark] .colab-df-convert {\n",
       "      background-color: #3B4455;\n",
       "      fill: #D2E3FC;\n",
       "    }\n",
       "\n",
       "    [theme=dark] .colab-df-convert:hover {\n",
       "      background-color: #434B5C;\n",
       "      box-shadow: 0px 1px 3px 1px rgba(0, 0, 0, 0.15);\n",
       "      filter: drop-shadow(0px 1px 2px rgba(0, 0, 0, 0.3));\n",
       "      fill: #FFFFFF;\n",
       "    }\n",
       "  </style>\n",
       "\n",
       "    <script>\n",
       "      const buttonEl =\n",
       "        document.querySelector('#df-82695153-40d9-483d-9b7b-8861a8f76ba8 button.colab-df-convert');\n",
       "      buttonEl.style.display =\n",
       "        google.colab.kernel.accessAllowed ? 'block' : 'none';\n",
       "\n",
       "      async function convertToInteractive(key) {\n",
       "        const element = document.querySelector('#df-82695153-40d9-483d-9b7b-8861a8f76ba8');\n",
       "        const dataTable =\n",
       "          await google.colab.kernel.invokeFunction('convertToInteractive',\n",
       "                                                    [key], {});\n",
       "        if (!dataTable) return;\n",
       "\n",
       "        const docLinkHtml = 'Like what you see? Visit the ' +\n",
       "          '<a target=\"_blank\" href=https://colab.research.google.com/notebooks/data_table.ipynb>data table notebook</a>'\n",
       "          + ' to learn more about interactive tables.';\n",
       "        element.innerHTML = '';\n",
       "        dataTable['output_type'] = 'display_data';\n",
       "        await google.colab.output.renderOutput(dataTable, element);\n",
       "        const docLink = document.createElement('div');\n",
       "        docLink.innerHTML = docLinkHtml;\n",
       "        element.appendChild(docLink);\n",
       "      }\n",
       "    </script>\n",
       "  </div>\n",
       "\n",
       "\n",
       "<div id=\"df-58bd5685-6f58-41d8-9a8c-23b73a03539c\">\n",
       "  <button class=\"colab-df-quickchart\" onclick=\"quickchart('df-58bd5685-6f58-41d8-9a8c-23b73a03539c')\"\n",
       "            title=\"Suggest charts.\"\n",
       "            style=\"display:none;\">\n",
       "\n",
       "<svg xmlns=\"http://www.w3.org/2000/svg\" height=\"24px\"viewBox=\"0 0 24 24\"\n",
       "     width=\"24px\">\n",
       "    <g>\n",
       "        <path d=\"M19 3H5c-1.1 0-2 .9-2 2v14c0 1.1.9 2 2 2h14c1.1 0 2-.9 2-2V5c0-1.1-.9-2-2-2zM9 17H7v-7h2v7zm4 0h-2V7h2v10zm4 0h-2v-4h2v4z\"/>\n",
       "    </g>\n",
       "</svg>\n",
       "  </button>\n",
       "\n",
       "<style>\n",
       "  .colab-df-quickchart {\n",
       "      --bg-color: #E8F0FE;\n",
       "      --fill-color: #1967D2;\n",
       "      --hover-bg-color: #E2EBFA;\n",
       "      --hover-fill-color: #174EA6;\n",
       "      --disabled-fill-color: #AAA;\n",
       "      --disabled-bg-color: #DDD;\n",
       "  }\n",
       "\n",
       "  [theme=dark] .colab-df-quickchart {\n",
       "      --bg-color: #3B4455;\n",
       "      --fill-color: #D2E3FC;\n",
       "      --hover-bg-color: #434B5C;\n",
       "      --hover-fill-color: #FFFFFF;\n",
       "      --disabled-bg-color: #3B4455;\n",
       "      --disabled-fill-color: #666;\n",
       "  }\n",
       "\n",
       "  .colab-df-quickchart {\n",
       "    background-color: var(--bg-color);\n",
       "    border: none;\n",
       "    border-radius: 50%;\n",
       "    cursor: pointer;\n",
       "    display: none;\n",
       "    fill: var(--fill-color);\n",
       "    height: 32px;\n",
       "    padding: 0;\n",
       "    width: 32px;\n",
       "  }\n",
       "\n",
       "  .colab-df-quickchart:hover {\n",
       "    background-color: var(--hover-bg-color);\n",
       "    box-shadow: 0 1px 2px rgba(60, 64, 67, 0.3), 0 1px 3px 1px rgba(60, 64, 67, 0.15);\n",
       "    fill: var(--button-hover-fill-color);\n",
       "  }\n",
       "\n",
       "  .colab-df-quickchart-complete:disabled,\n",
       "  .colab-df-quickchart-complete:disabled:hover {\n",
       "    background-color: var(--disabled-bg-color);\n",
       "    fill: var(--disabled-fill-color);\n",
       "    box-shadow: none;\n",
       "  }\n",
       "\n",
       "  .colab-df-spinner {\n",
       "    border: 2px solid var(--fill-color);\n",
       "    border-color: transparent;\n",
       "    border-bottom-color: var(--fill-color);\n",
       "    animation:\n",
       "      spin 1s steps(1) infinite;\n",
       "  }\n",
       "\n",
       "  @keyframes spin {\n",
       "    0% {\n",
       "      border-color: transparent;\n",
       "      border-bottom-color: var(--fill-color);\n",
       "      border-left-color: var(--fill-color);\n",
       "    }\n",
       "    20% {\n",
       "      border-color: transparent;\n",
       "      border-left-color: var(--fill-color);\n",
       "      border-top-color: var(--fill-color);\n",
       "    }\n",
       "    30% {\n",
       "      border-color: transparent;\n",
       "      border-left-color: var(--fill-color);\n",
       "      border-top-color: var(--fill-color);\n",
       "      border-right-color: var(--fill-color);\n",
       "    }\n",
       "    40% {\n",
       "      border-color: transparent;\n",
       "      border-right-color: var(--fill-color);\n",
       "      border-top-color: var(--fill-color);\n",
       "    }\n",
       "    60% {\n",
       "      border-color: transparent;\n",
       "      border-right-color: var(--fill-color);\n",
       "    }\n",
       "    80% {\n",
       "      border-color: transparent;\n",
       "      border-right-color: var(--fill-color);\n",
       "      border-bottom-color: var(--fill-color);\n",
       "    }\n",
       "    90% {\n",
       "      border-color: transparent;\n",
       "      border-bottom-color: var(--fill-color);\n",
       "    }\n",
       "  }\n",
       "</style>\n",
       "\n",
       "  <script>\n",
       "    async function quickchart(key) {\n",
       "      const quickchartButtonEl =\n",
       "        document.querySelector('#' + key + ' button');\n",
       "      quickchartButtonEl.disabled = true;  // To prevent multiple clicks.\n",
       "      quickchartButtonEl.classList.add('colab-df-spinner');\n",
       "      try {\n",
       "        const charts = await google.colab.kernel.invokeFunction(\n",
       "            'suggestCharts', [key], {});\n",
       "      } catch (error) {\n",
       "        console.error('Error during call to suggestCharts:', error);\n",
       "      }\n",
       "      quickchartButtonEl.classList.remove('colab-df-spinner');\n",
       "      quickchartButtonEl.classList.add('colab-df-quickchart-complete');\n",
       "    }\n",
       "    (() => {\n",
       "      let quickchartButtonEl =\n",
       "        document.querySelector('#df-58bd5685-6f58-41d8-9a8c-23b73a03539c button');\n",
       "      quickchartButtonEl.style.display =\n",
       "        google.colab.kernel.accessAllowed ? 'block' : 'none';\n",
       "    })();\n",
       "  </script>\n",
       "</div>\n",
       "    </div>\n",
       "  </div>\n"
      ],
      "text/plain": [
       "         target         ids                          date      flag  \\\n",
       "1123088       4  1974444521  Sat May 30 13:08:59 PDT 2009  NO_QUERY   \n",
       "1432613       4  2060294404  Sat Jun 06 18:38:08 PDT 2009  NO_QUERY   \n",
       "1084650       4  1969029244  Fri May 29 22:50:24 PDT 2009  NO_QUERY   \n",
       "1233585       4  1992201353  Mon Jun 01 08:22:08 PDT 2009  NO_QUERY   \n",
       "176523        0  1965378850  Fri May 29 15:48:59 PDT 2009  NO_QUERY   \n",
       "361486        0  2046932144  Fri Jun 05 12:54:19 PDT 2009  NO_QUERY   \n",
       "1138260       4  1976827868  Sat May 30 19:12:12 PDT 2009  NO_QUERY   \n",
       "1528817       4  2177447407  Mon Jun 15 06:07:21 PDT 2009  NO_QUERY   \n",
       "1213983       4  1989402130  Mon Jun 01 01:24:27 PDT 2009  NO_QUERY   \n",
       "950520        4  1824018819  Sat May 16 23:45:25 PDT 2009  NO_QUERY   \n",
       "1440304       4  2061649477  Sat Jun 06 21:18:48 PDT 2009  NO_QUERY   \n",
       "979528        4  1833939264  Mon May 18 01:00:56 PDT 2009  NO_QUERY   \n",
       "1125961       4  1974943568  Sat May 30 14:07:24 PDT 2009  NO_QUERY   \n",
       "722817        0  2261609128  Sat Jun 20 21:03:30 PDT 2009  NO_QUERY   \n",
       "1348069       4  2044767310  Fri Jun 05 09:47:48 PDT 2009  NO_QUERY   \n",
       "1087365       4  1969418184  Fri May 29 23:58:48 PDT 2009  NO_QUERY   \n",
       "1241438       4  1994014556  Mon Jun 01 11:16:44 PDT 2009  NO_QUERY   \n",
       "1180714       4  1981967218  Sun May 31 10:15:22 PDT 2009  NO_QUERY   \n",
       "1382455       4  2052467087  Sat Jun 06 00:49:48 PDT 2009  NO_QUERY   \n",
       "60013         0  1686285031  Sun May 03 04:43:11 PDT 2009  NO_QUERY   \n",
       "198657        0  1971269543  Sat May 30 06:40:53 PDT 2009  NO_QUERY   \n",
       "630484        0  2232007620  Thu Jun 18 19:19:31 PDT 2009  NO_QUERY   \n",
       "1507413       4  2174490753  Sun Jun 14 22:39:50 PDT 2009  NO_QUERY   \n",
       "236262        0  1979949992  Sun May 31 05:08:24 PDT 2009  NO_QUERY   \n",
       "752844        0  2286675267  Mon Jun 22 16:46:15 PDT 2009  NO_QUERY   \n",
       "891147        4  1689007899  Sun May 03 12:24:49 PDT 2009  NO_QUERY   \n",
       "1352000       4  2046236714  Fri Jun 05 11:53:24 PDT 2009  NO_QUERY   \n",
       "1292060       4  2002986812  Tue Jun 02 05:37:56 PDT 2009  NO_QUERY   \n",
       "629454        0  2231648786  Thu Jun 18 18:50:28 PDT 2009  NO_QUERY   \n",
       "127425        0  1834714502  Mon May 18 03:57:38 PDT 2009  NO_QUERY   \n",
       "852282        4  1572936219  Mon Apr 20 23:05:17 PDT 2009  NO_QUERY   \n",
       "951795        4  1824311027  Sun May 17 00:50:56 PDT 2009  NO_QUERY   \n",
       "1044458       4  1957445461  Fri May 29 00:31:27 PDT 2009  NO_QUERY   \n",
       "107087        0  1823808962  Sat May 16 23:03:13 PDT 2009  NO_QUERY   \n",
       "724959        0  2262205247  Sat Jun 20 22:04:27 PDT 2009  NO_QUERY   \n",
       "304889        0  1999854124  Mon Jun 01 20:56:47 PDT 2009  NO_QUERY   \n",
       "953405        4  1824639615  Sun May 17 02:16:01 PDT 2009  NO_QUERY   \n",
       "163535        0  1958068448  Fri May 29 02:33:06 PDT 2009  NO_QUERY   \n",
       "184692        0  1967774772  Fri May 29 20:11:19 PDT 2009  NO_QUERY   \n",
       "1458590       4  2063679018  Sun Jun 07 03:38:43 PDT 2009  NO_QUERY   \n",
       "513737        0  2190458590  Tue Jun 16 02:47:19 PDT 2009  NO_QUERY   \n",
       "1447293       4  2062604915  Sat Jun 06 23:43:41 PDT 2009  NO_QUERY   \n",
       "1033128       4  1936081443  Wed May 27 07:25:18 PDT 2009  NO_QUERY   \n",
       "386457        0  2053797399  Sat Jun 06 05:43:51 PDT 2009  NO_QUERY   \n",
       "830256        4  1557283719  Sun Apr 19 03:08:23 PDT 2009  NO_QUERY   \n",
       "69660         0  1693375211  Sun May 03 22:21:26 PDT 2009  NO_QUERY   \n",
       "899881        4  1693934386  Mon May 04 00:21:52 PDT 2009  NO_QUERY   \n",
       "1511310       4  2175078873  Mon Jun 15 00:01:59 PDT 2009  NO_QUERY   \n",
       "927240        4  1759124879  Sun May 10 18:31:02 PDT 2009  NO_QUERY   \n",
       "917248        4  1753451907  Sun May 10 01:42:23 PDT 2009  NO_QUERY   \n",
       "\n",
       "                    user                                               text  \n",
       "1123088         lweeks63                    getting ready for work... Lisa   \n",
       "1432613        magcampos  still hopefull for my Cubbies  Have not missed...  \n",
       "1084650        Jackdog24  @katmanduherself no  lol cody is trying to sex...  \n",
       "1233585         kenny277      One Night in Bangkok is THE BEST!!!! *DANCE*   \n",
       "176523           Dogbook  Harley passed away in December 2008  http://ap...  \n",
       "361486    daniellerangel  such a beautiful day outside and I am inside t...  \n",
       "1138260         cjashton                       is packed and ready to move   \n",
       "1528817     carlos_teran             @Ali167 Have a wonderful Monday, Ali.   \n",
       "1213983     MusicADdicts  @FROactive I think we did meet if I'm not mist...  \n",
       "950520      poijakosalem          I just made Caesar Salad dressing.  yumm.  \n",
       "1440304         leimuise    Watching a docu on snow monkeys... our cousins   \n",
       "979528          e_howson  It's (new, hot pink) ugg-boots, cup of tea and...  \n",
       "1125961   AmanderFlander                   Go go go! Check screening times   \n",
       "722817      caromarie217                   @ddlovato ME EITHER! not fair..   \n",
       "1348069     thaibarcella  @Dannymcfly danny! please say happy b-day to m...  \n",
       "1087365   chasecarnivine  Talking to the love of my life!!   scott, i lo...  \n",
       "1241438     AbbyLipstick  @BenJoBubble LOL soooo true! and it's all gloo...  \n",
       "1180714  bootblackangela  Good afternoon everyone!!!  Hope you all enjoy...  \n",
       "1382455        MCeeYOSHi  @Julzeehope Well, i dont eat fast food.Low amo...  \n",
       "60013           eclaiire                         Studying today  Bad times.  \n",
       "198657      KingCharlesI  @maleekberry yeh mate im gonna hound him next ...  \n",
       "630484      laurenclark9    @skk123 SOOO damn bored  haha how was your day?  \n",
       "1507413       alexkoutek  fantastic day at the beach, the boardwalk and ...  \n",
       "236262   retro_seventies  Back at the gulags again for another week. Ank...  \n",
       "752844     yesimthatcool                                I just cut my hair   \n",
       "891147   N1ChrisBrownFan  @ditBOMB OMG! lol......i don't have a clue why...  \n",
       "1352000          JonitoB  Shall I buy a leopard gecko or a bearded drago...  \n",
       "1292060     SapirAzoulay  In rehearsals . Rehearsals, rehearsals..... I ...  \n",
       "629454          mhhughes  @MartyKFarris Where are you going? Everyone is...  \n",
       "127425            lucy_r  @zeeblet yeah, sorry, only available to those ...  \n",
       "852282     Miss_Ashleyyy  finished my paper. score! off to get some well...  \n",
       "951795          katzirra  Weird to say but Calvin's apartment? He hangs ...  \n",
       "1044458         Kaattt11    @CheMerf Heard your greeting for archiejoepet.   \n",
       "107087               cpf  @SquireFred We saw you and @monkiyo on stage a...  \n",
       "724959     gabbycastillo  @JoelMadden I am really jealous you got to see...  \n",
       "304889         gfisher24  help me...my foot is throbbin after i got the ...  \n",
       "953405          bridaisy  Just left tji fridays ! And i think we found a...  \n",
       "163535       allendoggie  tomorrow will be my last day in work.. how sad...  \n",
       "184692       ChipperDuck                    At a wedding... No hot guys...   \n",
       "1458590   StevieDavidson                                  I love new music   \n",
       "513737         Ambcompte         @MRGOULD Why are you not coming to Spain?   \n",
       "1447293      DeniseVlogs  @Joppy I'm cool with that... and don't forget ...  \n",
       "1033128  beijingfairmont  We DIGG this  &quot;Digg Adds Twitter and Face...  \n",
       "386457    hollyalyxfinch                @ScruffyPanther You so are. Poor B   \n",
       "830256           Nhipham  Is in bed on her touch and can hear loud as mu...  \n",
       "69660         eerational                   wants/needs to take another nap   \n",
       "899881       zulunationn  so, its no longer the day of my birth. and i k...  \n",
       "1511310   SeattleEconomy  @sherpaco no matter what u hear people say, Ko...  \n",
       "927240          anyabast  @Gennita I'm pretty sure he wants to do that o...  \n",
       "917248       feistyfrogg  can't believe the weekend is over already!  Wh...  "
      ]
     },
     "execution_count": 8,
     "metadata": {},
     "output_type": "execute_result"
    }
   ],
   "source": [
    "df.head(50)"
   ]
  },
  {
   "cell_type": "code",
   "execution_count": null,
   "metadata": {
    "colab": {
     "base_uri": "https://localhost:8080/"
    },
    "id": "eq7KDzrrbsQp",
    "outputId": "da09f99d-7eb5-456b-f481-3d77330ffa4f"
   },
   "outputs": [
    {
     "name": "stdout",
     "output_type": "stream",
     "text": [
      "Dataset size: 1600000\n"
     ]
    }
   ],
   "source": [
    "print(\"Dataset size:\", len(df))"
   ]
  },
  {
   "cell_type": "code",
   "execution_count": null,
   "metadata": {
    "id": "mrM3_5FqbuzU"
   },
   "outputs": [],
   "source": [
    "decode_map = {0: \"NEGATIVE\", 2: \"NEUTRAL\", 4: \"POSITIVE\"}\n",
    "def decode_sentiment(label):\n",
    "    return decode_map[int(label)]"
   ]
  },
  {
   "cell_type": "code",
   "execution_count": null,
   "metadata": {
    "colab": {
     "base_uri": "https://localhost:8080/"
    },
    "id": "oKAU9_JibxC9",
    "outputId": "49aa7bbf-2ac4-462e-fd17-29832df9c479"
   },
   "outputs": [
    {
     "name": "stdout",
     "output_type": "stream",
     "text": [
      "CPU times: user 815 ms, sys: 17.5 ms, total: 833 ms\n",
      "Wall time: 874 ms\n"
     ]
    }
   ],
   "source": [
    "%%time\n",
    "df.target = df.target.apply(lambda x: decode_sentiment(x))"
   ]
  },
  {
   "cell_type": "code",
   "execution_count": null,
   "metadata": {
    "colab": {
     "base_uri": "https://localhost:8080/",
     "height": 716
    },
    "id": "Kuazvb3LbzAX",
    "outputId": "40c61ee5-8920-4c86-b65b-ff8c6a5d3219"
   },
   "outputs": [
    {
     "data": {
      "text/plain": [
       "Text(0.5, 1.0, 'Dataset labels distribuition')"
      ]
     },
     "execution_count": 12,
     "metadata": {},
     "output_type": "execute_result"
    },
    {
     "data": {
      "image/png": "[encoded data removed]",
      "text/plain": [
       "<Figure size 1600x800 with 1 Axes>"
      ]
     },
     "metadata": {},
     "output_type": "display_data"
    }
   ],
   "source": [
    "target_cnt = Counter(df.target)\n",
    "\n",
    "plt.figure(figsize=(16,8))\n",
    "plt.bar(target_cnt.keys(), target_cnt.values())\n",
    "plt.title(\"Dataset labels distribuition\")"
   ]
  },
  {
   "cell_type": "code",
   "execution_count": null,
   "metadata": {
    "id": "wQWc_1XMb1JP"
   },
   "outputs": [],
   "source": [
    "stop_words = stopwords.words(\"english\")\n",
    "stemmer = SnowballStemmer(\"english\")"
   ]
  },
  {
   "cell_type": "code",
   "execution_count": null,
   "metadata": {
    "id": "o3gFbfT4b3K_"
   },
   "outputs": [],
   "source": [
    "def preprocess(text, stem=False):\n",
    "    # Remove link,user and special characters\n",
    "    text = re.sub(TEXT_CLEANING_RE, ' ', str(text).lower()).strip()\n",
    "    tokens = []\n",
    "    for token in text.split():\n",
    "        if token not in stop_words:\n",
    "            if stem:\n",
    "                tokens.append(stemmer.stem(token))\n",
    "            else:\n",
    "                tokens.append(token)\n",
    "    return \" \".join(tokens)"
   ]
  },
  {
   "cell_type": "code",
   "execution_count": null,
   "metadata": {
    "colab": {
     "base_uri": "https://localhost:8080/"
    },
    "id": "Fzau4rk1b5j0",
    "outputId": "73cbf164-bd56-45de-b457-dcb90794e101"
   },
   "outputs": [
    {
     "name": "stdout",
     "output_type": "stream",
     "text": [
      "CPU times: user 1min 8s, sys: 338 ms, total: 1min 8s\n",
      "Wall time: 1min 16s\n"
     ]
    }
   ],
   "source": [
    "%%time\n",
    "df.text = df.text.apply(lambda x: preprocess(x))"
   ]
  },
  {
   "cell_type": "code",
   "execution_count": null,
   "metadata": {
    "colab": {
     "base_uri": "https://localhost:8080/"
    },
    "id": "bNJD2snPb7hr",
    "outputId": "5779263c-2bc0-42e2-d264-837a0dee3be4"
   },
   "outputs": [
    {
     "name": "stdout",
     "output_type": "stream",
     "text": [
      "TRAIN size: 1280000\n",
      "TEST size: 320000\n"
     ]
    }
   ],
   "source": [
    "df_train, df_test = train_test_split(df, test_size=1-TRAIN_SIZE, random_state=42)\n",
    "print(\"TRAIN size:\", len(df_train))\n",
    "print(\"TEST size:\", len(df_test))"
   ]
  },
  {
   "cell_type": "code",
   "execution_count": null,
   "metadata": {
    "colab": {
     "base_uri": "https://localhost:8080/"
    },
    "id": "CHea2Z1ZcFy_",
    "outputId": "fb057359-3507-43f2-f638-3709f198e078"
   },
   "outputs": [
    {
     "name": "stdout",
     "output_type": "stream",
     "text": [
      "CPU times: user 5.41 s, sys: 616 ms, total: 6.02 s\n",
      "Wall time: 6.15 s\n"
     ]
    }
   ],
   "source": [
    "%%time\n",
    "documents = [_text.split() for _text in df_train.text]"
   ]
  },
  {
   "cell_type": "code",
   "execution_count": null,
   "metadata": {
    "id": "PQryer0ucIdG"
   },
   "outputs": [],
   "source": [
    "w2v_model = gensim.models.word2vec.Word2Vec(vector_size=W2V_SIZE,\n",
    "                                            window=W2V_WINDOW,\n",
    "                                            min_count=W2V_MIN_COUNT,\n",
    "                                            workers=8)"
   ]
  },
  {
   "cell_type": "code",
   "execution_count": null,
   "metadata": {
    "id": "jaXe3ZLacNVg"
   },
   "outputs": [],
   "source": [
    "w2v_model.build_vocab(documents)"
   ]
  },
  {
   "cell_type": "code",
   "execution_count": null,
   "metadata": {
    "colab": {
     "base_uri": "https://localhost:8080/"
    },
    "id": "cyjfxYBocPvW",
    "outputId": "661b0659-00b0-4859-e712-ddbcc0cf2a02"
   },
   "outputs": [
    {
     "name": "stdout",
     "output_type": "stream",
     "text": [
      "Total words 290711\n",
      "CPU times: user 30.1 s, sys: 250 ms, total: 30.3 s\n",
      "Wall time: 48.6 s\n"
     ]
    }
   ],
   "source": [
    "%%time\n",
    "tokenizer = Tokenizer()\n",
    "tokenizer.fit_on_texts(df_train.text)\n",
    "\n",
    "vocab_size = len(tokenizer.word_index) + 1\n",
    "print(\"Total words\", vocab_size)"
   ]
  },
  {
   "cell_type": "code",
   "execution_count": null,
   "metadata": {
    "id": "WcxE1sQjEhhm"
   },
   "outputs": [],
   "source": [
    "import io\n",
    "import json\n",
    "\n",
    "# Saving\n",
    "tokenizer_json = tokenizer.to_json()\n",
    "with io.open('tokenizer.json', 'w', encoding='utf-8') as f:\n",
    "    f.write(json.dumps(tokenizer_json, ensure_ascii=False))"
   ]
  },
  {
   "cell_type": "code",
   "execution_count": null,
   "metadata": {
    "colab": {
     "base_uri": "https://localhost:8080/"
    },
    "id": "Ifh0n8rIcSse",
    "outputId": "56e64ae8-bea3-4cd1-9ccb-4e5c947f634f"
   },
   "outputs": [
    {
     "name": "stdout",
     "output_type": "stream",
     "text": [
      "CPU times: user 29.8 s, sys: 786 ms, total: 30.6 s\n",
      "Wall time: 32.3 s\n"
     ]
    }
   ],
   "source": [
    "%%time\n",
    "x_train = pad_sequences(tokenizer.texts_to_sequences(df_train.text), maxlen=SEQUENCE_LENGTH)\n",
    "x_test = pad_sequences(tokenizer.texts_to_sequences(df_test.text), maxlen=SEQUENCE_LENGTH)"
   ]
  },
  {
   "cell_type": "code",
   "execution_count": null,
   "metadata": {
    "colab": {
     "base_uri": "https://localhost:8080/"
    },
    "id": "Ol8IDDRPcVDL",
    "outputId": "1d65ee45-47a4-44f9-948e-99595fb60bcd"
   },
   "outputs": [
    {
     "data": {
      "text/plain": [
       "['NEGATIVE', 'POSITIVE', 'NEUTRAL']"
      ]
     },
     "execution_count": 23,
     "metadata": {},
     "output_type": "execute_result"
    }
   ],
   "source": [
    "labels = df_train.target.unique().tolist()\n",
    "labels.append(NEUTRAL)\n",
    "labels"
   ]
  },
  {
   "cell_type": "code",
   "execution_count": null,
   "metadata": {
    "colab": {
     "base_uri": "https://localhost:8080/"
    },
    "id": "7GkeW51ZcX36",
    "outputId": "e9f178bc-6c69-4661-ba3d-eb3ace8bcedc"
   },
   "outputs": [
    {
     "name": "stdout",
     "output_type": "stream",
     "text": [
      "y_train (1280000, 1)\n",
      "y_test (320000, 1)\n"
     ]
    }
   ],
   "source": [
    "encoder = LabelEncoder()\n",
    "encoder.fit(df_train.target.tolist())\n",
    "\n",
    "y_train = encoder.transform(df_train.target.tolist())\n",
    "y_test = encoder.transform(df_test.target.tolist())\n",
    "\n",
    "y_train = y_train.reshape(-1,1)\n",
    "y_test = y_test.reshape(-1,1)\n",
    "\n",
    "print(\"y_train\",y_train.shape)\n",
    "print(\"y_test\",y_test.shape)"
   ]
  },
  {
   "cell_type": "code",
   "execution_count": null,
   "metadata": {
    "colab": {
     "base_uri": "https://localhost:8080/"
    },
    "id": "wLZUGEkscagB",
    "outputId": "5301b533-916c-489b-832e-f9bb5d36f691"
   },
   "outputs": [
    {
     "name": "stdout",
     "output_type": "stream",
     "text": [
      "x_train (1280000, 300)\n",
      "y_train (1280000, 1)\n",
      "\n",
      "x_test (320000, 300)\n",
      "y_test (320000, 1)\n"
     ]
    }
   ],
   "source": [
    "print(\"x_train\", x_train.shape)\n",
    "print(\"y_train\", y_train.shape)\n",
    "print()\n",
    "print(\"x_test\", x_test.shape)\n",
    "print(\"y_test\", y_test.shape)"
   ]
  },
  {
   "cell_type": "code",
   "execution_count": null,
   "metadata": {
    "colab": {
     "base_uri": "https://localhost:8080/"
    },
    "id": "sgDZ7RhkccqE",
    "outputId": "4ab34981-d0d4-4770-db30-ce9e8a92b43a"
   },
   "outputs": [
    {
     "data": {
      "text/plain": [
       "array([[0],\n",
       "       [0],\n",
       "       [1],\n",
       "       [1],\n",
       "       [0],\n",
       "       [0],\n",
       "       [0],\n",
       "       [0],\n",
       "       [1],\n",
       "       [0]])"
      ]
     },
     "execution_count": 26,
     "metadata": {},
     "output_type": "execute_result"
    }
   ],
   "source": [
    "y_train[:10]"
   ]
  },
  {
   "cell_type": "code",
   "execution_count": null,
   "metadata": {
    "colab": {
     "base_uri": "https://localhost:8080/"
    },
    "id": "uxeuPMCJcfOZ",
    "outputId": "290f3f45-b80c-49e8-ab7b-18ec9f8b5875"
   },
   "outputs": [
    {
     "name": "stdout",
     "output_type": "stream",
     "text": [
      "(290711, 300)\n"
     ]
    }
   ],
   "source": [
    "embedding_matrix = np.zeros((vocab_size, W2V_SIZE))\n",
    "for word, i in tokenizer.word_index.items():\n",
    "  if word in w2v_model.wv:\n",
    "    embedding_matrix[i] = w2v_model.wv[word]\n",
    "print(embedding_matrix.shape)"
   ]
  },
  {
   "cell_type": "code",
   "execution_count": null,
   "metadata": {
    "id": "AAxurpw9ciwK"
   },
   "outputs": [],
   "source": [
    "embedding_layer = Embedding(vocab_size, W2V_SIZE, weights=[embedding_matrix], input_length=SEQUENCE_LENGTH, trainable=False)"
   ]
  },
  {
   "cell_type": "markdown",
   "metadata": {
    "id": "cao2LuotHWVd"
   },
   "source": [
    "# Model For Trainning\n",
    "\n",
    "## Simple RNN"
   ]
  },
  {
   "cell_type": "code",
   "execution_count": null,
   "metadata": {
    "colab": {
     "base_uri": "https://localhost:8080/"
    },
    "id": "Py6H36S5cqSv",
    "outputId": "abbb535f-b4ef-48c6-db0f-a5a549d5266a"
   },
   "outputs": [
    {
     "name": "stdout",
     "output_type": "stream",
     "text": [
      "Model: \"sequential\"\n",
      "_________________________________________________________________\n",
      " Layer (type)                Output Shape              Param #   \n",
      "=================================================================\n",
      " embedding_1 (Embedding)     (None, 300, 2)            581232    \n",
      "                                                                 \n",
      " simple_rnn (SimpleRNN)      (None, 32)                1120      \n",
      "                                                                 \n",
      " dense (Dense)               (None, 1)                 33        \n",
      "                                                                 \n",
      "=================================================================\n",
      "Total params: 582,385\n",
      "Trainable params: 582,385\n",
      "Non-trainable params: 0\n",
      "_________________________________________________________________\n"
     ]
    }
   ],
   "source": [
    "from keras.layers import SimpleRNN\n",
    "\n",
    "model = Sequential()\n",
    "model.add(Embedding(vocab_size, 2, input_length=SEQUENCE_LENGTH))\n",
    "model.add(SimpleRNN(32,return_sequences=False))\n",
    "model.add(Dense(1, activation='sigmoid'))\n",
    "\n",
    "model.summary()"
   ]
  },
  {
   "cell_type": "code",
   "execution_count": null,
   "metadata": {
    "id": "MPXDaCNIdWGu"
   },
   "outputs": [],
   "source": [
    "model.compile(loss='binary_crossentropy',\n",
    "              optimizer=\"adam\",\n",
    "              metrics=['accuracy'])"
   ]
  },
  {
   "cell_type": "code",
   "execution_count": null,
   "metadata": {
    "colab": {
     "base_uri": "https://localhost:8080/"
    },
    "id": "10vmv2b8dQl2",
    "outputId": "3b8e35ef-9486-4cb3-c4c1-374c333bbeaa"
   },
   "outputs": [
    {
     "name": "stdout",
     "output_type": "stream",
     "text": [
      "Epoch 1/6\n",
      "8000/8000 [==============================] - 2055s 256ms/step - loss: 0.4925 - accuracy: 0.7607 - val_loss: 0.4692 - val_accuracy: 0.7792\n",
      "Epoch 2/6\n",
      "8000/8000 [==============================] - 2068s 258ms/step - loss: 0.4581 - accuracy: 0.7865 - val_loss: 0.4890 - val_accuracy: 0.7648\n",
      "Epoch 3/6\n",
      "8000/8000 [==============================] - 2081s 260ms/step - loss: 0.4464 - accuracy: 0.7944 - val_loss: 0.4790 - val_accuracy: 0.7746\n",
      "Epoch 4/6\n",
      "8000/8000 [==============================] - 2085s 261ms/step - loss: 0.4245 - accuracy: 0.8079 - val_loss: 0.4793 - val_accuracy: 0.7751\n",
      "Epoch 5/6\n",
      "8000/8000 [==============================] - 2118s 265ms/step - loss: 0.4095 - accuracy: 0.8162 - val_loss: 0.4872 - val_accuracy: 0.7668\n",
      "Epoch 6/6\n",
      "8000/8000 [==============================] - 2088s 261ms/step - loss: 0.4005 - accuracy: 0.8202 - val_loss: 0.5069 - val_accuracy: 0.7671\n"
     ]
    }
   ],
   "source": [
    "history = model.fit(x_train, y_train, batch_size=128, epochs=6, verbose=1, validation_split=0.2)"
   ]
  },
  {
   "cell_type": "code",
   "execution_count": null,
   "metadata": {
    "colab": {
     "base_uri": "https://localhost:8080/"
    },
    "id": "J67v5bFBB26X",
    "outputId": "279c7eed-5677-4828-ba7f-1e6f7b5ac498"
   },
   "outputs": [
    {
     "name": "stdout",
     "output_type": "stream",
     "text": [
      "313/313 [==============================] - 9s 30ms/step - loss: 0.5073 - accuracy: 0.7682\n",
      "\n",
      "ACCURACY: 0.7681937217712402\n",
      "LOSS: 0.5072503685951233\n",
      "CPU times: user 9.44 s, sys: 301 ms, total: 9.74 s\n",
      "Wall time: 10.7 s\n"
     ]
    }
   ],
   "source": [
    "%%time\n",
    "score = model.evaluate(x_test, y_test, batch_size=BATCH_SIZE)\n",
    "print()\n",
    "print(\"ACCURACY:\",score[1])\n",
    "print(\"LOSS:\",score[0])"
   ]
  },
  {
   "cell_type": "code",
   "execution_count": null,
   "metadata": {
    "id": "TeHXwYDXB7C_"
   },
   "outputs": [],
   "source": [
    "def plot_acc_loss(history):\n",
    "\n",
    "    acc = history.history['accuracy']\n",
    "    val_acc = history.history['val_accuracy']\n",
    "    loss = history.history['loss']\n",
    "    val_loss = history.history['val_loss']\n",
    "    epochs = range(1, len(acc) + 1)\n",
    "\n",
    "    plt.plot(epochs, acc, 'bo', label = 'Training Accuracy')\n",
    "    plt.plot(epochs, val_acc, 'r', label = 'Validation Accuracy')\n",
    "    plt.title('Training and Validation Accuracy')\n",
    "    plt.xlabel('Epochs')\n",
    "    plt.ylabel('Loss')\n",
    "    plt.legend()\n",
    "\n",
    "    plt.figure()\n",
    "    plt.plot(epochs, loss, 'bo', label = 'Training Loss')\n",
    "    plt.plot(epochs, val_loss, 'r', label = 'Validation Loss')\n",
    "    plt.title('Training and Validation Loss')\n",
    "    plt.xlabel('Epochs')\n",
    "    plt.ylabel('Loss')\n",
    "    plt.legend()\n",
    "    plt.show()"
   ]
  },
  {
   "cell_type": "code",
   "execution_count": null,
   "metadata": {
    "colab": {
     "base_uri": "https://localhost:8080/",
     "height": 887
    },
    "id": "nctj5aNwB-MH",
    "outputId": "18eaade3-7c73-40bb-a1aa-27df7957a738"
   },
   "outputs": [
    {
     "data": {
      "image/png": "[encoded data removed]",
      "text/plain": [
       "<Figure size 640x480 with 1 Axes>"
      ]
     },
     "metadata": {},
     "output_type": "display_data"
    },
    {
     "data": {
      "image/png": "[encoded data removed]",
      "text/plain": [
       "<Figure size 640x480 with 1 Axes>"
      ]
     },
     "metadata": {},
     "output_type": "display_data"
    }
   ],
   "source": [
    "acc = history.history['accuracy']\n",
    "val_acc = history.history['val_accuracy']\n",
    "loss = history.history['loss']\n",
    "val_loss = history.history['val_loss']\n",
    "\n",
    "epochs = range(len(acc))\n",
    "\n",
    "plt.plot(epochs, acc, 'b', label='Training acc')\n",
    "plt.plot(epochs, val_acc, 'r', label='Validation acc')\n",
    "plt.title('Training and validation accuracy')\n",
    "plt.legend()\n",
    "\n",
    "plt.figure()\n",
    "\n",
    "plt.plot(epochs, loss, 'b', label='Training loss')\n",
    "plt.plot(epochs, val_loss, 'r', label='Validation loss')\n",
    "plt.title('Training and validation loss')\n",
    "plt.legend()\n",
    "\n",
    "plt.show()"
   ]
  },
  {
   "cell_type": "code",
   "execution_count": null,
   "metadata": {
    "id": "cr_h1cyUCBoo"
   },
   "outputs": [],
   "source": [
    "def decode_sentiment(score, include_neutral=True):\n",
    "    if include_neutral:\n",
    "        label = NEUTRAL\n",
    "        if score <= SENTIMENT_THRESHOLDS[0]:\n",
    "            label = NEGATIVE\n",
    "        elif score >= SENTIMENT_THRESHOLDS[1]:\n",
    "            label = POSITIVE\n",
    "\n",
    "        return label\n",
    "    else:\n",
    "        return NEGATIVE if score < 0.5 else POSITIVE"
   ]
  },
  {
   "cell_type": "code",
   "execution_count": null,
   "metadata": {
    "id": "TWRTBh21CE70"
   },
   "outputs": [],
   "source": [
    "def predict(text, include_neutral=True):\n",
    "    start_at = time.time()\n",
    "    # Tokenize text\n",
    "    x_test = pad_sequences(tokenizer.texts_to_sequences([text]), maxlen=SEQUENCE_LENGTH)\n",
    "    # Predict\n",
    "    score = model.predict([x_test])[0]\n",
    "    # Decode sentiment\n",
    "    label = decode_sentiment(score, include_neutral=include_neutral)\n",
    "\n",
    "    return {\"label\": label, \"score\": float(score),\n",
    "       \"elapsed_time\": time.time()-start_at}"
   ]
  },
  {
   "cell_type": "code",
   "execution_count": null,
   "metadata": {
    "colab": {
     "base_uri": "https://localhost:8080/"
    },
    "id": "Hb_UvWIkCKx5",
    "outputId": "8c0db28e-fd60-424a-f125-02da44f582a7"
   },
   "outputs": [
    {
     "name": "stdout",
     "output_type": "stream",
     "text": [
      "1/1 [==============================] - 0s 139ms/step\n"
     ]
    },
    {
     "data": {
      "text/plain": [
       "{'label': 'POSITIVE',\n",
       " 'score': 0.9870448708534241,\n",
       " 'elapsed_time': 0.21779179573059082}"
      ]
     },
     "execution_count": 38,
     "metadata": {},
     "output_type": "execute_result"
    }
   ],
   "source": [
    "predict(\"Today was my marriage aniversery and I proposed her again\")"
   ]
  },
  {
   "cell_type": "code",
   "execution_count": null,
   "metadata": {
    "colab": {
     "base_uri": "https://localhost:8080/"
    },
    "id": "xfYzrUwZCOSF",
    "outputId": "178ed474-9db5-4b0a-e692-c454a2027b8d"
   },
   "outputs": [
    {
     "name": "stdout",
     "output_type": "stream",
     "text": [
      "1/1 [==============================] - 0s 43ms/step\n"
     ]
    },
    {
     "data": {
      "text/plain": [
       "{'label': 'NEGATIVE',\n",
       " 'score': 0.04854927957057953,\n",
       " 'elapsed_time': 0.07855057716369629}"
      ]
     },
     "execution_count": 39,
     "metadata": {},
     "output_type": "execute_result"
    }
   ],
   "source": [
    "predict(\"I was kicked by the hotel manager because I made other guest unhappy\")"
   ]
  },
  {
   "cell_type": "code",
   "execution_count": null,
   "metadata": {
    "colab": {
     "base_uri": "https://localhost:8080/"
    },
    "id": "22cFr14oO_5f",
    "outputId": "eeea647d-4cfb-496b-ad3d-e85bff72b591"
   },
   "outputs": [
    {
     "name": "stdout",
     "output_type": "stream",
     "text": [
      "1/1 [==============================] - 0s 121ms/step\n"
     ]
    },
    {
     "data": {
      "text/plain": [
       "{'label': 'POSITIVE',\n",
       " 'score': 0.8843143582344055,\n",
       " 'elapsed_time': 0.2693033218383789}"
      ]
     },
     "execution_count": 41,
     "metadata": {},
     "output_type": "execute_result"
    }
   ],
   "source": [
    "predict(\"Got luckey to get a family like mine to be supportive arround me always\")"
   ]
  },
  {
   "cell_type": "code",
   "execution_count": null,
   "metadata": {
    "colab": {
     "base_uri": "https://localhost:8080/"
    },
    "id": "sdj6kiK2PMLO",
    "outputId": "62932ff1-b68e-419d-efde-5b3f212d509d"
   },
   "outputs": [
    {
     "name": "stdout",
     "output_type": "stream",
     "text": [
      "1/1 [==============================] - 0s 61ms/step\n"
     ]
    },
    {
     "data": {
      "text/plain": [
       "{'label': 'POSITIVE',\n",
       " 'score': 0.7906350493431091,\n",
       " 'elapsed_time': 0.10763287544250488}"
      ]
     },
     "execution_count": 42,
     "metadata": {},
     "output_type": "execute_result"
    }
   ],
   "source": [
    "predict(\"She said YES \")"
   ]
  },
  {
   "cell_type": "code",
   "execution_count": null,
   "metadata": {
    "colab": {
     "base_uri": "https://localhost:8080/"
    },
    "id": "6fei283mPmER",
    "outputId": "ee8249aa-1909-406f-ea2a-c7885b0a37c9"
   },
   "outputs": [
    {
     "name": "stdout",
     "output_type": "stream",
     "text": [
      "1/1 [==============================] - 0s 131ms/step\n"
     ]
    },
    {
     "data": {
      "text/plain": [
       "{'label': 'NEGATIVE',\n",
       " 'score': 0.16254423558712006,\n",
       " 'elapsed_time': 0.27535176277160645}"
      ]
     },
     "execution_count": 43,
     "metadata": {},
     "output_type": "execute_result"
    }
   ],
   "source": [
    "predict(\"PUBG is now banned in India\")"
   ]
  },
  {
   "cell_type": "code",
   "execution_count": null,
   "metadata": {
    "colab": {
     "base_uri": "https://localhost:8080/"
    },
    "id": "1yPOFN69CR2H",
    "outputId": "9d082ffa-49bf-40d3-c2e2-14b7734c929c"
   },
   "outputs": [
    {
     "name": "stdout",
     "output_type": "stream",
     "text": [
      "40/40 [==============================] - 1s 29ms/step\n",
      "CPU times: user 2.09 s, sys: 330 ms, total: 2.42 s\n",
      "Wall time: 2.32 s\n"
     ]
    }
   ],
   "source": [
    "%%time\n",
    "y_pred_1d = []\n",
    "y_test_1d = list(df_test.target)\n",
    "scores = model.predict(x_test, verbose=1, batch_size=8000)\n",
    "y_pred_1d = [decode_sentiment(score, include_neutral=False) for score in scores]"
   ]
  },
  {
   "cell_type": "code",
   "execution_count": null,
   "metadata": {
    "id": "TNQea8glCVSv"
   },
   "outputs": [],
   "source": [
    "def plot_confusion_matrix(cm, classes,\n",
    "                          title='Confusion matrix',\n",
    "                          cmap=plt.cm.Blues):\n",
    "    \"\"\"\n",
    "    This function prints and plots the confusion matrix.\n",
    "    Normalization can be applied by setting `normalize=True`.\n",
    "    \"\"\"\n",
    "\n",
    "    cm = cm.astype('float') / cm.sum(axis=1)[:, np.newaxis]\n",
    "\n",
    "    plt.imshow(cm, interpolation='nearest', cmap=cmap)\n",
    "    plt.title(title, fontsize=30)\n",
    "    plt.colorbar()\n",
    "    tick_marks = np.arange(len(classes))\n",
    "    plt.xticks(tick_marks, classes, rotation=90, fontsize=22)\n",
    "    plt.yticks(tick_marks, classes, fontsize=22)\n",
    "\n",
    "    fmt = '.2f'\n",
    "    thresh = cm.max() / 2.\n",
    "    for i, j in itertools.product(range(cm.shape[0]), range(cm.shape[1])):\n",
    "        plt.text(j, i, format(cm[i, j], fmt),\n",
    "                 horizontalalignment=\"center\",\n",
    "                 color=\"white\" if cm[i, j] > thresh else \"black\")\n",
    "\n",
    "    plt.ylabel('True label', fontsize=25)\n",
    "    plt.xlabel('Predicted label', fontsize=25)"
   ]
  },
  {
   "cell_type": "code",
   "execution_count": null,
   "metadata": {
    "colab": {
     "base_uri": "https://localhost:8080/",
     "height": 1000
    },
    "id": "hnYvtJGHCYKw",
    "outputId": "4fef5880-a793-4d06-91e7-db99ec1493a4"
   },
   "outputs": [
    {
     "data": {
      "image/png": "[encoded data removed]",
      "text/plain": [
       "<Figure size 1200x1200 with 2 Axes>"
      ]
     },
     "metadata": {},
     "output_type": "display_data"
    },
    {
     "name": "stdout",
     "output_type": "stream",
     "text": [
      "CPU times: user 1.99 s, sys: 289 ms, total: 2.28 s\n",
      "Wall time: 2.06 s\n"
     ]
    }
   ],
   "source": [
    "%%time\n",
    "\n",
    "cnf_matrix = confusion_matrix(y_test_1d, y_pred_1d)\n",
    "plt.figure(figsize=(12,12))\n",
    "plot_confusion_matrix(cnf_matrix, classes=df_train.target.unique(), title=\"Confusion matrix\")\n",
    "plt.show()"
   ]
  },
  {
   "cell_type": "code",
   "execution_count": null,
   "metadata": {
    "colab": {
     "base_uri": "https://localhost:8080/"
    },
    "id": "tdH_aJiZCbsP",
    "outputId": "2daea9da-09ea-4b15-bed8-dcbd460a8613"
   },
   "outputs": [
    {
     "name": "stdout",
     "output_type": "stream",
     "text": [
      "              precision    recall  f1-score   support\n",
      "\n",
      "    NEGATIVE       0.80      0.71      0.75    159994\n",
      "    POSITIVE       0.74      0.82      0.78    160006\n",
      "\n",
      "    accuracy                           0.77    320000\n",
      "   macro avg       0.77      0.77      0.77    320000\n",
      "weighted avg       0.77      0.77      0.77    320000\n",
      "\n"
     ]
    }
   ],
   "source": [
    "print(classification_report(y_test_1d, y_pred_1d))"
   ]
  },
  {
   "cell_type": "code",
   "execution_count": null,
   "metadata": {
    "colab": {
     "base_uri": "https://localhost:8080/"
    },
    "id": "90UWJzkLCgR3",
    "outputId": "266e75e2-1287-401e-aeec-c90c24be8b24"
   },
   "outputs": [
    {
     "data": {
      "text/plain": [
       "0.76819375"
      ]
     },
     "execution_count": 48,
     "metadata": {},
     "output_type": "execute_result"
    }
   ],
   "source": [
    "accuracy_score(y_test_1d, y_pred_1d)"
   ]
  },
  {
   "cell_type": "code",
   "execution_count": null,
   "metadata": {
    "id": "_oL_XbbGCjNl"
   },
   "outputs": [],
   "source": [
    "model.save(KERAS_MODEL)\n",
    "w2v_model.save(WORD2VEC_MODEL)\n",
    "pickle.dump(tokenizer, open(TOKENIZER_MODEL, \"wb\"), protocol=0)\n",
    "pickle.dump(encoder, open(ENCODER_MODEL, \"wb\"), protocol=0)"
   ]
  },
  {
   "cell_type": "markdown",
   "metadata": {
    "id": "X527XhdBHhVA"
   },
   "source": [
    "## GRU Model"
   ]
  },
  {
   "cell_type": "code",
   "execution_count": null,
   "metadata": {
    "colab": {
     "base_uri": "https://localhost:8080/"
    },
    "id": "VelAlFbbHlP9",
    "outputId": "2b6fb621-f0d5-48af-9e11-13701810c0b8"
   },
   "outputs": [
    {
     "name": "stdout",
     "output_type": "stream",
     "text": [
      "Model: \"sequential\"\n",
      "_________________________________________________________________\n",
      " Layer (type)                Output Shape              Param #   \n",
      "=================================================================\n",
      " embedding_1 (Embedding)     (None, 300, 2)            581594    \n",
      "                                                                 \n",
      " gru (GRU)                   (None, 32)                3456      \n",
      "                                                                 \n",
      " dense (Dense)               (None, 1)                 33        \n",
      "                                                                 \n",
      "=================================================================\n",
      "Total params: 585083 (2.23 MB)\n",
      "Trainable params: 585083 (2.23 MB)\n",
      "Non-trainable params: 0 (0.00 Byte)\n",
      "_________________________________________________________________\n"
     ]
    }
   ],
   "source": [
    "from keras.layers import GRU  # Import the GRU layer\n",
    "\n",
    "model_gru = Sequential()\n",
    "model_gru.add(Embedding(vocab_size, 2, input_length=SEQUENCE_LENGTH))\n",
    "model_gru.add(GRU(32, return_sequences=False))  # Use GRU instead of SimpleRNN\n",
    "model_gru.add(Dense(1, activation='sigmoid'))\n",
    "\n",
    "model_gru.summary()\n"
   ]
  },
  {
   "cell_type": "code",
   "execution_count": null,
   "metadata": {
    "id": "QhJlSqjFH1FM"
   },
   "outputs": [],
   "source": [
    "model_gru.compile(loss='binary_crossentropy',\n",
    "              optimizer=\"adam\",\n",
    "              metrics=['accuracy'])"
   ]
  },
  {
   "cell_type": "code",
   "execution_count": null,
   "metadata": {
    "colab": {
     "base_uri": "https://localhost:8080/"
    },
    "id": "oLRnuelfH_Sr",
    "outputId": "9e458f52-f337-4525-df84-feb6fa80d1b7"
   },
   "outputs": [
    {
     "name": "stdout",
     "output_type": "stream",
     "text": [
      "Epoch 1/6\n",
      "8000/8000 [==============================] - 155s 18ms/step - loss: 0.4814 - accuracy: 0.7687 - val_loss: 0.4599 - val_accuracy: 0.7821\n",
      "Epoch 2/6\n",
      "8000/8000 [==============================] - 103s 13ms/step - loss: 0.4405 - accuracy: 0.7946 - val_loss: 0.4576 - val_accuracy: 0.7835\n",
      "Epoch 3/6\n",
      "8000/8000 [==============================] - 98s 12ms/step - loss: 0.4227 - accuracy: 0.8051 - val_loss: 0.4615 - val_accuracy: 0.7811\n",
      "Epoch 4/6\n",
      "8000/8000 [==============================] - 97s 12ms/step - loss: 0.4106 - accuracy: 0.8114 - val_loss: 0.4651 - val_accuracy: 0.7802\n",
      "Epoch 5/6\n",
      "8000/8000 [==============================] - 97s 12ms/step - loss: 0.3972 - accuracy: 0.8187 - val_loss: 0.4723 - val_accuracy: 0.7771\n",
      "Epoch 6/6\n",
      "8000/8000 [==============================] - 96s 12ms/step - loss: 0.3874 - accuracy: 0.8239 - val_loss: 0.4814 - val_accuracy: 0.7747\n"
     ]
    }
   ],
   "source": [
    "history = model_gru.fit(x_train, y_train, batch_size=128, epochs=6, verbose=1, validation_split=0.2)"
   ]
  },
  {
   "cell_type": "code",
   "execution_count": null,
   "metadata": {
    "colab": {
     "base_uri": "https://localhost:8080/"
    },
    "id": "kt7NulB4IFB0",
    "outputId": "2f495394-38a1-41cf-f60e-c0a6023cf1f5"
   },
   "outputs": [
    {
     "name": "stdout",
     "output_type": "stream",
     "text": [
      "313/313 [==============================] - 4s 8ms/step - loss: 0.4833 - accuracy: 0.7741\n",
      "\n",
      "ACCURACY: 0.7741249799728394\n",
      "LOSS: 0.48326563835144043\n",
      "CPU times: user 3.1 s, sys: 588 ms, total: 3.69 s\n",
      "Wall time: 5.28 s\n"
     ]
    }
   ],
   "source": [
    "%%time\n",
    "score = model_gru.evaluate(x_test, y_test, batch_size=BATCH_SIZE)\n",
    "print()\n",
    "print(\"ACCURACY:\",score[1])\n",
    "print(\"LOSS:\",score[0])"
   ]
  },
  {
   "cell_type": "code",
   "execution_count": null,
   "metadata": {
    "id": "bkn5B4tROTy8"
   },
   "outputs": [],
   "source": [
    "def plot_acc_loss(history):\n",
    "\n",
    "    acc = history.history['accuracy']\n",
    "    val_acc = history.history['val_accuracy']\n",
    "    loss = history.history['loss']\n",
    "    val_loss = history.history['val_loss']\n",
    "    epochs = range(1, len(acc) + 1)\n",
    "\n",
    "    plt.plot(epochs, acc, 'bo', label = 'Training Accuracy')\n",
    "    plt.plot(epochs, val_acc, 'r', label = 'Validation Accuracy')\n",
    "    plt.title('Training and Validation Accuracy')\n",
    "    plt.xlabel('Epochs')\n",
    "    plt.ylabel('Loss')\n",
    "    plt.legend()\n",
    "\n",
    "    plt.figure()\n",
    "    plt.plot(epochs, loss, 'bo', label = 'Training Loss')\n",
    "    plt.plot(epochs, val_loss, 'r', label = 'Validation Loss')\n",
    "    plt.title('Training and Validation Loss')\n",
    "    plt.xlabel('Epochs')\n",
    "    plt.ylabel('Loss')\n",
    "    plt.legend()\n",
    "    plt.show()"
   ]
  },
  {
   "cell_type": "code",
   "execution_count": null,
   "metadata": {
    "colab": {
     "base_uri": "https://localhost:8080/",
     "height": 887
    },
    "id": "Mj_LWnr0OeKI",
    "outputId": "35829e09-1be0-4ff9-bde7-4173916b4c9c"
   },
   "outputs": [
    {
     "data": {
      "image/png": "[encoded data removed]",
      "text/plain": [
       "<Figure size 640x480 with 1 Axes>"
      ]
     },
     "metadata": {},
     "output_type": "display_data"
    },
    {
     "data": {
      "image/png": "[encoded data removed]",
      "text/plain": [
       "<Figure size 640x480 with 1 Axes>"
      ]
     },
     "metadata": {},
     "output_type": "display_data"
    }
   ],
   "source": [
    "acc = history.history['accuracy']\n",
    "val_acc = history.history['val_accuracy']\n",
    "loss = history.history['loss']\n",
    "val_loss = history.history['val_loss']\n",
    "\n",
    "epochs = range(len(acc))\n",
    "\n",
    "plt.plot(epochs, acc, 'b', label='Training acc')\n",
    "plt.plot(epochs, val_acc, 'r', label='Validation acc')\n",
    "plt.title('Training and validation accuracy')\n",
    "plt.legend()\n",
    "\n",
    "plt.figure()\n",
    "\n",
    "plt.plot(epochs, loss, 'b', label='Training loss')\n",
    "plt.plot(epochs, val_loss, 'r', label='Validation loss')\n",
    "plt.title('Training and validation loss')\n",
    "plt.legend()\n",
    "\n",
    "plt.show()"
   ]
  },
  {
   "cell_type": "code",
   "execution_count": null,
   "metadata": {
    "id": "6NWC-NY3OjWN"
   },
   "outputs": [],
   "source": [
    "def decode_sentiment(score, include_neutral=True):\n",
    "    if include_neutral:\n",
    "        label = NEUTRAL\n",
    "        if score <= SENTIMENT_THRESHOLDS[0]:\n",
    "            label = NEGATIVE\n",
    "        elif score >= SENTIMENT_THRESHOLDS[1]:\n",
    "            label = POSITIVE\n",
    "\n",
    "        return label\n",
    "    else:\n",
    "        return NEGATIVE if score < 0.5 else POSITIVE"
   ]
  },
  {
   "cell_type": "code",
   "execution_count": null,
   "metadata": {
    "id": "SgFTFGadOrcI"
   },
   "outputs": [],
   "source": [
    "def predict(text, include_neutral=True):\n",
    "    start_at = time.time()\n",
    "    # Tokenize text\n",
    "    x_test = pad_sequences(tokenizer.texts_to_sequences([text]), maxlen=SEQUENCE_LENGTH)\n",
    "    # Predict\n",
    "    score = model_gru.predict([x_test])[0]\n",
    "    # Decode sentiment\n",
    "    label = decode_sentiment(score, include_neutral=include_neutral)\n",
    "\n",
    "    return {\"label\": label, \"score\": float(score),\n",
    "       \"elapsed_time\": time.time()-start_at}"
   ]
  },
  {
   "cell_type": "code",
   "execution_count": null,
   "metadata": {
    "colab": {
     "base_uri": "https://localhost:8080/"
    },
    "id": "KmPCfCzsOwVs",
    "outputId": "c5dda4ff-33ca-4b59-9f49-09ecb096a629"
   },
   "outputs": [
    {
     "name": "stdout",
     "output_type": "stream",
     "text": [
      "1/1 [==============================] - 0s 316ms/step\n"
     ]
    },
    {
     "data": {
      "text/plain": [
       "{'label': 'NEGATIVE',\n",
       " 'score': 0.23090879619121552,\n",
       " 'elapsed_time': 0.36948180198669434}"
      ]
     },
     "execution_count": 39,
     "metadata": {},
     "output_type": "execute_result"
    }
   ],
   "source": [
    "predict(\"I dont like to talk to anyone today.\")"
   ]
  },
  {
   "cell_type": "code",
   "execution_count": null,
   "metadata": {
    "colab": {
     "base_uri": "https://localhost:8080/"
    },
    "id": "Fod_1JjfO4SA",
    "outputId": "9ea98954-5479-4dc3-b870-828765217d4f"
   },
   "outputs": [
    {
     "name": "stdout",
     "output_type": "stream",
     "text": [
      "1/1 [==============================] - 0s 33ms/step\n"
     ]
    },
    {
     "data": {
      "text/plain": [
       "{'label': 'POSITIVE',\n",
       " 'score': 0.8875918984413147,\n",
       " 'elapsed_time': 0.09151721000671387}"
      ]
     },
     "execution_count": 40,
     "metadata": {},
     "output_type": "execute_result"
    }
   ],
   "source": [
    "predict(\"I am first in the race\")"
   ]
  },
  {
   "cell_type": "code",
   "execution_count": null,
   "metadata": {
    "colab": {
     "base_uri": "https://localhost:8080/"
    },
    "id": "r0I2fYSMPG8q",
    "outputId": "517ac91e-df47-4a17-89eb-00eb59e32587"
   },
   "outputs": [
    {
     "name": "stdout",
     "output_type": "stream",
     "text": [
      "1/1 [==============================] - 0s 33ms/step\n"
     ]
    },
    {
     "data": {
      "text/plain": [
       "{'label': 'NEGATIVE',\n",
       " 'score': 0.013639895245432854,\n",
       " 'elapsed_time': 0.09506726264953613}"
      ]
     },
     "execution_count": 41,
     "metadata": {},
     "output_type": "execute_result"
    }
   ],
   "source": [
    "predict(\"My stomach is upset today\")"
   ]
  },
  {
   "cell_type": "code",
   "execution_count": null,
   "metadata": {
    "colab": {
     "base_uri": "https://localhost:8080/"
    },
    "id": "GDN9Q0GqPOWz",
    "outputId": "f20d66a6-82e0-4ba4-d124-4743f244a81d"
   },
   "outputs": [
    {
     "name": "stdout",
     "output_type": "stream",
     "text": [
      "40/40 [==============================] - 2s 35ms/step\n",
      "CPU times: user 2.98 s, sys: 723 ms, total: 3.71 s\n",
      "Wall time: 3.78 s\n"
     ]
    }
   ],
   "source": [
    "%%time\n",
    "y_pred_1d = []\n",
    "y_test_1d = list(df_test.target)\n",
    "scores = model_gru.predict(x_test, verbose=1, batch_size=8000)\n",
    "y_pred_1d = [decode_sentiment(score, include_neutral=False) for score in scores]"
   ]
  },
  {
   "cell_type": "code",
   "execution_count": null,
   "metadata": {
    "id": "hVtHzh7OPUaS"
   },
   "outputs": [],
   "source": [
    "def plot_confusion_matrix(cm, classes,\n",
    "                          title='Confusion matrix',\n",
    "                          cmap=plt.cm.Blues):\n",
    "    \"\"\"\n",
    "    This function prints and plots the confusion matrix.\n",
    "    Normalization can be applied by setting `normalize=True`.\n",
    "    \"\"\"\n",
    "\n",
    "    cm = cm.astype('float') / cm.sum(axis=1)[:, np.newaxis]\n",
    "\n",
    "    plt.imshow(cm, interpolation='nearest', cmap=cmap)\n",
    "    plt.title(title, fontsize=30)\n",
    "    plt.colorbar()\n",
    "    tick_marks = np.arange(len(classes))\n",
    "    plt.xticks(tick_marks, classes, rotation=90, fontsize=22)\n",
    "    plt.yticks(tick_marks, classes, fontsize=22)\n",
    "\n",
    "    fmt = '.2f'\n",
    "    thresh = cm.max() / 2.\n",
    "    for i, j in itertools.product(range(cm.shape[0]), range(cm.shape[1])):\n",
    "        plt.text(j, i, format(cm[i, j], fmt),\n",
    "                 horizontalalignment=\"center\",\n",
    "                 color=\"white\" if cm[i, j] > thresh else \"black\")\n",
    "\n",
    "    plt.ylabel('True label', fontsize=25)\n",
    "    plt.xlabel('Predicted label', fontsize=25)"
   ]
  },
  {
   "cell_type": "code",
   "execution_count": null,
   "metadata": {
    "colab": {
     "base_uri": "https://localhost:8080/",
     "height": 1000
    },
    "id": "dyKxh4DNPeP6",
    "outputId": "cbf25318-6b07-463f-bcc6-da8748661ba3"
   },
   "outputs": [
    {
     "data": {
      "image/png": "[encoded data removed]",
      "text/plain": [
       "<Figure size 1200x1200 with 2 Axes>"
      ]
     },
     "metadata": {},
     "output_type": "display_data"
    },
    {
     "name": "stdout",
     "output_type": "stream",
     "text": [
      "CPU times: user 1.93 s, sys: 231 ms, total: 2.17 s\n",
      "Wall time: 2.5 s\n"
     ]
    }
   ],
   "source": [
    "%%time\n",
    "\n",
    "cnf_matrix = confusion_matrix(y_test_1d, y_pred_1d)\n",
    "plt.figure(figsize=(12,12))\n",
    "plot_confusion_matrix(cnf_matrix, classes=df_train.target.unique(), title=\"Confusion matrix\")\n",
    "plt.show()"
   ]
  },
  {
   "cell_type": "code",
   "execution_count": null,
   "metadata": {
    "colab": {
     "base_uri": "https://localhost:8080/"
    },
    "id": "Ygq60jSYPiPk",
    "outputId": "b5930642-84a5-4d8d-ee53-0e20b016a3b7"
   },
   "outputs": [
    {
     "name": "stdout",
     "output_type": "stream",
     "text": [
      "              precision    recall  f1-score   support\n",
      "\n",
      "    NEGATIVE       0.76      0.79      0.78    159986\n",
      "    POSITIVE       0.78      0.76      0.77    160014\n",
      "\n",
      "    accuracy                           0.77    320000\n",
      "   macro avg       0.77      0.77      0.77    320000\n",
      "weighted avg       0.77      0.77      0.77    320000\n",
      "\n"
     ]
    }
   ],
   "source": [
    "print(classification_report(y_test_1d, y_pred_1d))"
   ]
  },
  {
   "cell_type": "code",
   "execution_count": null,
   "metadata": {
    "colab": {
     "base_uri": "https://localhost:8080/"
    },
    "id": "huG0InU_PnQc",
    "outputId": "e7f6d107-0819-453b-f418-baddc0165939"
   },
   "outputs": [
    {
     "data": {
      "text/plain": [
       "0.774125"
      ]
     },
     "execution_count": 47,
     "metadata": {},
     "output_type": "execute_result"
    }
   ],
   "source": [
    "accuracy_score(y_test_1d, y_pred_1d)"
   ]
  },
  {
   "cell_type": "code",
   "execution_count": null,
   "metadata": {
    "colab": {
     "base_uri": "https://localhost:8080/"
    },
    "id": "Ci_EaseAPrM7",
    "outputId": "aa0c843e-7fba-43fc-d948-5abbc8e62377"
   },
   "outputs": [
    {
     "name": "stderr",
     "output_type": "stream",
     "text": [
      "/usr/local/lib/python3.10/dist-packages/keras/src/engine/training.py:3000: UserWarning: You are saving your model as an HDF5 file via `model.save()`. This file format is considered legacy. We recommend using instead the native Keras format, e.g. `model.save('my_model.keras')`.\n",
      "  saving_api.save_model(\n"
     ]
    }
   ],
   "source": [
    "WORD2VEC_MODEL = \"modeltest2_gru.txt\"\n",
    "model_gru.save(KERAS_MODEL)\n",
    "w2v_model.save(WORD2VEC_MODEL)\n",
    "pickle.dump(tokenizer, open(TOKENIZER_MODEL, \"wb\"), protocol=0)\n",
    "pickle.dump(encoder, open(ENCODER_MODEL, \"wb\"), protocol=0)"
   ]
  },
  {
   "cell_type": "markdown",
   "metadata": {
    "id": "gIdCY23Y9bql"
   },
   "source": [
    "## Bidirectional"
   ]
  },
  {
   "cell_type": "code",
   "execution_count": null,
   "metadata": {
    "colab": {
     "base_uri": "https://localhost:8080/"
    },
    "id": "kedt9Vm79gJQ",
    "outputId": "5e5e510a-a353-405c-8dd5-11444d0df958"
   },
   "outputs": [
    {
     "name": "stdout",
     "output_type": "stream",
     "text": [
      "Model: \"sequential\"\n",
      "_________________________________________________________________\n",
      " Layer (type)                Output Shape              Param #   \n",
      "=================================================================\n",
      " embedding_1 (Embedding)     (None, 300, 2)            581422    \n",
      "                                                                 \n",
      " bidirectional (Bidirection  (None, 64)                8960      \n",
      " al)                                                             \n",
      "                                                                 \n",
      " dense (Dense)               (None, 1)                 65        \n",
      "                                                                 \n",
      "=================================================================\n",
      "Total params: 590447 (2.25 MB)\n",
      "Trainable params: 590447 (2.25 MB)\n",
      "Non-trainable params: 0 (0.00 Byte)\n",
      "_________________________________________________________________\n"
     ]
    }
   ],
   "source": [
    "from keras.layers import Bidirectional, LSTM\n",
    "\n",
    "model_bi = Sequential()\n",
    "model_bi.add(Embedding(vocab_size, 2, input_length=SEQUENCE_LENGTH))\n",
    "model_bi.add(Bidirectional(LSTM(32, return_sequences=False)))  # Use Bidirectional LSTM\n",
    "model_bi.add(Dense(1, activation='sigmoid'))\n",
    "\n",
    "model_bi.summary()\n"
   ]
  },
  {
   "cell_type": "code",
   "execution_count": null,
   "metadata": {
    "id": "KS5z-4jy99vR"
   },
   "outputs": [],
   "source": [
    "model_bi.compile(loss='binary_crossentropy',\n",
    "              optimizer=\"adam\",\n",
    "              metrics=['accuracy'])"
   ]
  },
  {
   "cell_type": "code",
   "execution_count": null,
   "metadata": {
    "colab": {
     "base_uri": "https://localhost:8080/",
     "height": 390
    },
    "id": "M9O1w3TI-FrX",
    "outputId": "ba97ea36-e00e-4325-f46d-37b84355efa6"
   },
   "outputs": [
    {
     "name": "stdout",
     "output_type": "stream",
     "text": [
      "Epoch 1/6\n",
      "8000/8000 [==============================] - 2456s 306ms/step - loss: 0.4806 - accuracy: 0.7689 - val_loss: 0.4608 - val_accuracy: 0.7813\n",
      "Epoch 2/6\n",
      "7686/8000 [===========================>..] - ETA: 1:30 - loss: 0.4386 - accuracy: 0.7951"
     ]
    },
    {
     "ename": "KeyboardInterrupt",
     "evalue": "ignored",
     "output_type": "error",
     "traceback": [
      "\u001b[0;31m---------------------------------------------------------------------------\u001b[0m",
      "\u001b[0;31mKeyboardInterrupt\u001b[0m                         Traceback (most recent call last)",
      "\u001b[0;32m<ipython-input-31-12e7c69a9eb2>\u001b[0m in \u001b[0;36m<cell line: 1>\u001b[0;34m()\u001b[0m\n\u001b[0;32m----> 1\u001b[0;31m \u001b[0mhistory\u001b[0m \u001b[0;34m=\u001b[0m \u001b[0mmodel_bi\u001b[0m\u001b[0;34m.\u001b[0m\u001b[0mfit\u001b[0m\u001b[0;34m(\u001b[0m\u001b[0mx_train\u001b[0m\u001b[0;34m,\u001b[0m \u001b[0my_train\u001b[0m\u001b[0;34m,\u001b[0m \u001b[0mbatch_size\u001b[0m\u001b[0;34m=\u001b[0m\u001b[0;36m128\u001b[0m\u001b[0;34m,\u001b[0m \u001b[0mepochs\u001b[0m\u001b[0;34m=\u001b[0m\u001b[0;36m6\u001b[0m\u001b[0;34m,\u001b[0m \u001b[0mverbose\u001b[0m\u001b[0;34m=\u001b[0m\u001b[0;36m1\u001b[0m\u001b[0;34m,\u001b[0m \u001b[0mvalidation_split\u001b[0m\u001b[0;34m=\u001b[0m\u001b[0;36m0.2\u001b[0m\u001b[0;34m)\u001b[0m\u001b[0;34m\u001b[0m\u001b[0;34m\u001b[0m\u001b[0m\n\u001b[0m",
      "\u001b[0;32m/usr/local/lib/python3.10/dist-packages/keras/src/utils/traceback_utils.py\u001b[0m in \u001b[0;36merror_handler\u001b[0;34m(*args, **kwargs)\u001b[0m\n\u001b[1;32m     63\u001b[0m         \u001b[0mfiltered_tb\u001b[0m \u001b[0;34m=\u001b[0m \u001b[0;32mNone\u001b[0m\u001b[0;34m\u001b[0m\u001b[0;34m\u001b[0m\u001b[0m\n\u001b[1;32m     64\u001b[0m         \u001b[0;32mtry\u001b[0m\u001b[0;34m:\u001b[0m\u001b[0;34m\u001b[0m\u001b[0;34m\u001b[0m\u001b[0m\n\u001b[0;32m---> 65\u001b[0;31m             \u001b[0;32mreturn\u001b[0m \u001b[0mfn\u001b[0m\u001b[0;34m(\u001b[0m\u001b[0;34m*\u001b[0m\u001b[0margs\u001b[0m\u001b[0;34m,\u001b[0m \u001b[0;34m**\u001b[0m\u001b[0mkwargs\u001b[0m\u001b[0;34m)\u001b[0m\u001b[0;34m\u001b[0m\u001b[0;34m\u001b[0m\u001b[0m\n\u001b[0m\u001b[1;32m     66\u001b[0m         \u001b[0;32mexcept\u001b[0m \u001b[0mException\u001b[0m \u001b[0;32mas\u001b[0m \u001b[0me\u001b[0m\u001b[0;34m:\u001b[0m\u001b[0;34m\u001b[0m\u001b[0;34m\u001b[0m\u001b[0m\n\u001b[1;32m     67\u001b[0m             \u001b[0mfiltered_tb\u001b[0m \u001b[0;34m=\u001b[0m \u001b[0m_process_traceback_frames\u001b[0m\u001b[0;34m(\u001b[0m\u001b[0me\u001b[0m\u001b[0;34m.\u001b[0m\u001b[0m__traceback__\u001b[0m\u001b[0;34m)\u001b[0m\u001b[0;34m\u001b[0m\u001b[0;34m\u001b[0m\u001b[0m\n",
      "\u001b[0;32m/usr/local/lib/python3.10/dist-packages/keras/src/engine/training.py\u001b[0m in \u001b[0;36mfit\u001b[0;34m(self, x, y, batch_size, epochs, verbose, callbacks, validation_split, validation_data, shuffle, class_weight, sample_weight, initial_epoch, steps_per_epoch, validation_steps, validation_batch_size, validation_freq, max_queue_size, workers, use_multiprocessing)\u001b[0m\n\u001b[1;32m   1740\u001b[0m                         ):\n\u001b[1;32m   1741\u001b[0m                             \u001b[0mcallbacks\u001b[0m\u001b[0;34m.\u001b[0m\u001b[0mon_train_batch_begin\u001b[0m\u001b[0;34m(\u001b[0m\u001b[0mstep\u001b[0m\u001b[0;34m)\u001b[0m\u001b[0;34m\u001b[0m\u001b[0;34m\u001b[0m\u001b[0m\n\u001b[0;32m-> 1742\u001b[0;31m                             \u001b[0mtmp_logs\u001b[0m \u001b[0;34m=\u001b[0m \u001b[0mself\u001b[0m\u001b[0;34m.\u001b[0m\u001b[0mtrain_function\u001b[0m\u001b[0;34m(\u001b[0m\u001b[0miterator\u001b[0m\u001b[0;34m)\u001b[0m\u001b[0;34m\u001b[0m\u001b[0;34m\u001b[0m\u001b[0m\n\u001b[0m\u001b[1;32m   1743\u001b[0m                             \u001b[0;32mif\u001b[0m \u001b[0mdata_handler\u001b[0m\u001b[0;34m.\u001b[0m\u001b[0mshould_sync\u001b[0m\u001b[0;34m:\u001b[0m\u001b[0;34m\u001b[0m\u001b[0;34m\u001b[0m\u001b[0m\n\u001b[1;32m   1744\u001b[0m                                 \u001b[0mcontext\u001b[0m\u001b[0;34m.\u001b[0m\u001b[0masync_wait\u001b[0m\u001b[0;34m(\u001b[0m\u001b[0;34m)\u001b[0m\u001b[0;34m\u001b[0m\u001b[0;34m\u001b[0m\u001b[0m\n",
      "\u001b[0;32m/usr/local/lib/python3.10/dist-packages/tensorflow/python/util/traceback_utils.py\u001b[0m in \u001b[0;36merror_handler\u001b[0;34m(*args, **kwargs)\u001b[0m\n\u001b[1;32m    148\u001b[0m     \u001b[0mfiltered_tb\u001b[0m \u001b[0;34m=\u001b[0m \u001b[0;32mNone\u001b[0m\u001b[0;34m\u001b[0m\u001b[0;34m\u001b[0m\u001b[0m\n\u001b[1;32m    149\u001b[0m     \u001b[0;32mtry\u001b[0m\u001b[0;34m:\u001b[0m\u001b[0;34m\u001b[0m\u001b[0;34m\u001b[0m\u001b[0m\n\u001b[0;32m--> 150\u001b[0;31m       \u001b[0;32mreturn\u001b[0m \u001b[0mfn\u001b[0m\u001b[0;34m(\u001b[0m\u001b[0;34m*\u001b[0m\u001b[0margs\u001b[0m\u001b[0;34m,\u001b[0m \u001b[0;34m**\u001b[0m\u001b[0mkwargs\u001b[0m\u001b[0;34m)\u001b[0m\u001b[0;34m\u001b[0m\u001b[0;34m\u001b[0m\u001b[0m\n\u001b[0m\u001b[1;32m    151\u001b[0m     \u001b[0;32mexcept\u001b[0m \u001b[0mException\u001b[0m \u001b[0;32mas\u001b[0m \u001b[0me\u001b[0m\u001b[0;34m:\u001b[0m\u001b[0;34m\u001b[0m\u001b[0;34m\u001b[0m\u001b[0m\n\u001b[1;32m    152\u001b[0m       \u001b[0mfiltered_tb\u001b[0m \u001b[0;34m=\u001b[0m \u001b[0m_process_traceback_frames\u001b[0m\u001b[0;34m(\u001b[0m\u001b[0me\u001b[0m\u001b[0;34m.\u001b[0m\u001b[0m__traceback__\u001b[0m\u001b[0;34m)\u001b[0m\u001b[0;34m\u001b[0m\u001b[0;34m\u001b[0m\u001b[0m\n",
      "\u001b[0;32m/usr/local/lib/python3.10/dist-packages/tensorflow/python/eager/polymorphic_function/polymorphic_function.py\u001b[0m in \u001b[0;36m__call__\u001b[0;34m(self, *args, **kwds)\u001b[0m\n\u001b[1;32m    823\u001b[0m \u001b[0;34m\u001b[0m\u001b[0m\n\u001b[1;32m    824\u001b[0m       \u001b[0;32mwith\u001b[0m \u001b[0mOptionalXlaContext\u001b[0m\u001b[0;34m(\u001b[0m\u001b[0mself\u001b[0m\u001b[0;34m.\u001b[0m\u001b[0m_jit_compile\u001b[0m\u001b[0;34m)\u001b[0m\u001b[0;34m:\u001b[0m\u001b[0;34m\u001b[0m\u001b[0;34m\u001b[0m\u001b[0m\n\u001b[0;32m--> 825\u001b[0;31m         \u001b[0mresult\u001b[0m \u001b[0;34m=\u001b[0m \u001b[0mself\u001b[0m\u001b[0;34m.\u001b[0m\u001b[0m_call\u001b[0m\u001b[0;34m(\u001b[0m\u001b[0;34m*\u001b[0m\u001b[0margs\u001b[0m\u001b[0;34m,\u001b[0m \u001b[0;34m**\u001b[0m\u001b[0mkwds\u001b[0m\u001b[0;34m)\u001b[0m\u001b[0;34m\u001b[0m\u001b[0;34m\u001b[0m\u001b[0m\n\u001b[0m\u001b[1;32m    826\u001b[0m \u001b[0;34m\u001b[0m\u001b[0m\n\u001b[1;32m    827\u001b[0m       \u001b[0mnew_tracing_count\u001b[0m \u001b[0;34m=\u001b[0m \u001b[0mself\u001b[0m\u001b[0;34m.\u001b[0m\u001b[0mexperimental_get_tracing_count\u001b[0m\u001b[0;34m(\u001b[0m\u001b[0;34m)\u001b[0m\u001b[0;34m\u001b[0m\u001b[0;34m\u001b[0m\u001b[0m\n",
      "\u001b[0;32m/usr/local/lib/python3.10/dist-packages/tensorflow/python/eager/polymorphic_function/polymorphic_function.py\u001b[0m in \u001b[0;36m_call\u001b[0;34m(self, *args, **kwds)\u001b[0m\n\u001b[1;32m    855\u001b[0m       \u001b[0;31m# In this case we have created variables on the first call, so we run the\u001b[0m\u001b[0;34m\u001b[0m\u001b[0;34m\u001b[0m\u001b[0m\n\u001b[1;32m    856\u001b[0m       \u001b[0;31m# defunned version which is guaranteed to never create variables.\u001b[0m\u001b[0;34m\u001b[0m\u001b[0;34m\u001b[0m\u001b[0m\n\u001b[0;32m--> 857\u001b[0;31m       \u001b[0;32mreturn\u001b[0m \u001b[0mself\u001b[0m\u001b[0;34m.\u001b[0m\u001b[0m_no_variable_creation_fn\u001b[0m\u001b[0;34m(\u001b[0m\u001b[0;34m*\u001b[0m\u001b[0margs\u001b[0m\u001b[0;34m,\u001b[0m \u001b[0;34m**\u001b[0m\u001b[0mkwds\u001b[0m\u001b[0;34m)\u001b[0m  \u001b[0;31m# pylint: disable=not-callable\u001b[0m\u001b[0;34m\u001b[0m\u001b[0;34m\u001b[0m\u001b[0m\n\u001b[0m\u001b[1;32m    858\u001b[0m     \u001b[0;32melif\u001b[0m \u001b[0mself\u001b[0m\u001b[0;34m.\u001b[0m\u001b[0m_variable_creation_fn\u001b[0m \u001b[0;32mis\u001b[0m \u001b[0;32mnot\u001b[0m \u001b[0;32mNone\u001b[0m\u001b[0;34m:\u001b[0m\u001b[0;34m\u001b[0m\u001b[0;34m\u001b[0m\u001b[0m\n\u001b[1;32m    859\u001b[0m       \u001b[0;31m# Release the lock early so that multiple threads can perform the call\u001b[0m\u001b[0;34m\u001b[0m\u001b[0;34m\u001b[0m\u001b[0m\n",
      "\u001b[0;32m/usr/local/lib/python3.10/dist-packages/tensorflow/python/eager/polymorphic_function/tracing_compiler.py\u001b[0m in \u001b[0;36m__call__\u001b[0;34m(self, *args, **kwargs)\u001b[0m\n\u001b[1;32m    146\u001b[0m       (concrete_function,\n\u001b[1;32m    147\u001b[0m        filtered_flat_args) = self._maybe_define_function(args, kwargs)\n\u001b[0;32m--> 148\u001b[0;31m     return concrete_function._call_flat(\n\u001b[0m\u001b[1;32m    149\u001b[0m         filtered_flat_args, captured_inputs=concrete_function.captured_inputs)  # pylint: disable=protected-access\n\u001b[1;32m    150\u001b[0m \u001b[0;34m\u001b[0m\u001b[0m\n",
      "\u001b[0;32m/usr/local/lib/python3.10/dist-packages/tensorflow/python/eager/polymorphic_function/monomorphic_function.py\u001b[0m in \u001b[0;36m_call_flat\u001b[0;34m(self, args, captured_inputs)\u001b[0m\n\u001b[1;32m   1347\u001b[0m         and executing_eagerly):\n\u001b[1;32m   1348\u001b[0m       \u001b[0;31m# No tape is watching; skip to running the function.\u001b[0m\u001b[0;34m\u001b[0m\u001b[0;34m\u001b[0m\u001b[0m\n\u001b[0;32m-> 1349\u001b[0;31m       \u001b[0;32mreturn\u001b[0m \u001b[0mself\u001b[0m\u001b[0;34m.\u001b[0m\u001b[0m_build_call_outputs\u001b[0m\u001b[0;34m(\u001b[0m\u001b[0mself\u001b[0m\u001b[0;34m.\u001b[0m\u001b[0m_inference_function\u001b[0m\u001b[0;34m(\u001b[0m\u001b[0;34m*\u001b[0m\u001b[0margs\u001b[0m\u001b[0;34m)\u001b[0m\u001b[0;34m)\u001b[0m\u001b[0;34m\u001b[0m\u001b[0;34m\u001b[0m\u001b[0m\n\u001b[0m\u001b[1;32m   1350\u001b[0m     forward_backward = self._select_forward_and_backward_functions(\n\u001b[1;32m   1351\u001b[0m         \u001b[0margs\u001b[0m\u001b[0;34m,\u001b[0m\u001b[0;34m\u001b[0m\u001b[0;34m\u001b[0m\u001b[0m\n",
      "\u001b[0;32m/usr/local/lib/python3.10/dist-packages/tensorflow/python/eager/polymorphic_function/atomic_function.py\u001b[0m in \u001b[0;36m__call__\u001b[0;34m(self, *args)\u001b[0m\n\u001b[1;32m    194\u001b[0m         \u001b[0;32mwith\u001b[0m \u001b[0mrecord\u001b[0m\u001b[0;34m.\u001b[0m\u001b[0mstop_recording\u001b[0m\u001b[0;34m(\u001b[0m\u001b[0;34m)\u001b[0m\u001b[0;34m:\u001b[0m\u001b[0;34m\u001b[0m\u001b[0;34m\u001b[0m\u001b[0m\n\u001b[1;32m    195\u001b[0m           \u001b[0;32mif\u001b[0m \u001b[0mself\u001b[0m\u001b[0;34m.\u001b[0m\u001b[0m_bound_context\u001b[0m\u001b[0;34m.\u001b[0m\u001b[0mexecuting_eagerly\u001b[0m\u001b[0;34m(\u001b[0m\u001b[0;34m)\u001b[0m\u001b[0;34m:\u001b[0m\u001b[0;34m\u001b[0m\u001b[0;34m\u001b[0m\u001b[0m\n\u001b[0;32m--> 196\u001b[0;31m             outputs = self._bound_context.call_function(\n\u001b[0m\u001b[1;32m    197\u001b[0m                 \u001b[0mself\u001b[0m\u001b[0;34m.\u001b[0m\u001b[0mname\u001b[0m\u001b[0;34m,\u001b[0m\u001b[0;34m\u001b[0m\u001b[0;34m\u001b[0m\u001b[0m\n\u001b[1;32m    198\u001b[0m                 \u001b[0mlist\u001b[0m\u001b[0;34m(\u001b[0m\u001b[0margs\u001b[0m\u001b[0;34m)\u001b[0m\u001b[0;34m,\u001b[0m\u001b[0;34m\u001b[0m\u001b[0;34m\u001b[0m\u001b[0m\n",
      "\u001b[0;32m/usr/local/lib/python3.10/dist-packages/tensorflow/python/eager/context.py\u001b[0m in \u001b[0;36mcall_function\u001b[0;34m(self, name, tensor_inputs, num_outputs)\u001b[0m\n\u001b[1;32m   1455\u001b[0m     \u001b[0mcancellation_context\u001b[0m \u001b[0;34m=\u001b[0m \u001b[0mcancellation\u001b[0m\u001b[0;34m.\u001b[0m\u001b[0mcontext\u001b[0m\u001b[0;34m(\u001b[0m\u001b[0;34m)\u001b[0m\u001b[0;34m\u001b[0m\u001b[0;34m\u001b[0m\u001b[0m\n\u001b[1;32m   1456\u001b[0m     \u001b[0;32mif\u001b[0m \u001b[0mcancellation_context\u001b[0m \u001b[0;32mis\u001b[0m \u001b[0;32mNone\u001b[0m\u001b[0;34m:\u001b[0m\u001b[0;34m\u001b[0m\u001b[0;34m\u001b[0m\u001b[0m\n\u001b[0;32m-> 1457\u001b[0;31m       outputs = execute.execute(\n\u001b[0m\u001b[1;32m   1458\u001b[0m           \u001b[0mname\u001b[0m\u001b[0;34m.\u001b[0m\u001b[0mdecode\u001b[0m\u001b[0;34m(\u001b[0m\u001b[0;34m\"utf-8\"\u001b[0m\u001b[0;34m)\u001b[0m\u001b[0;34m,\u001b[0m\u001b[0;34m\u001b[0m\u001b[0;34m\u001b[0m\u001b[0m\n\u001b[1;32m   1459\u001b[0m           \u001b[0mnum_outputs\u001b[0m\u001b[0;34m=\u001b[0m\u001b[0mnum_outputs\u001b[0m\u001b[0;34m,\u001b[0m\u001b[0;34m\u001b[0m\u001b[0;34m\u001b[0m\u001b[0m\n",
      "\u001b[0;32m/usr/local/lib/python3.10/dist-packages/tensorflow/python/eager/execute.py\u001b[0m in \u001b[0;36mquick_execute\u001b[0;34m(op_name, num_outputs, inputs, attrs, ctx, name)\u001b[0m\n\u001b[1;32m     51\u001b[0m   \u001b[0;32mtry\u001b[0m\u001b[0;34m:\u001b[0m\u001b[0;34m\u001b[0m\u001b[0;34m\u001b[0m\u001b[0m\n\u001b[1;32m     52\u001b[0m     \u001b[0mctx\u001b[0m\u001b[0;34m.\u001b[0m\u001b[0mensure_initialized\u001b[0m\u001b[0;34m(\u001b[0m\u001b[0;34m)\u001b[0m\u001b[0;34m\u001b[0m\u001b[0;34m\u001b[0m\u001b[0m\n\u001b[0;32m---> 53\u001b[0;31m     tensors = pywrap_tfe.TFE_Py_Execute(ctx._handle, device_name, op_name,\n\u001b[0m\u001b[1;32m     54\u001b[0m                                         inputs, attrs, num_outputs)\n\u001b[1;32m     55\u001b[0m   \u001b[0;32mexcept\u001b[0m \u001b[0mcore\u001b[0m\u001b[0;34m.\u001b[0m\u001b[0m_NotOkStatusException\u001b[0m \u001b[0;32mas\u001b[0m \u001b[0me\u001b[0m\u001b[0;34m:\u001b[0m\u001b[0;34m\u001b[0m\u001b[0;34m\u001b[0m\u001b[0m\n",
      "\u001b[0;31mKeyboardInterrupt\u001b[0m: "
     ]
    }
   ],
   "source": [
    "history = model_bi.fit(x_train, y_train, batch_size=128, epochs=6, verbose=1, validation_split=0.2)"
   ]
  },
  {
   "cell_type": "code",
   "execution_count": null,
   "metadata": {
    "id": "ycau8dxu-LwF"
   },
   "outputs": [],
   "source": [
    "%%time\n",
    "score = model_gru.evaluate(x_test, y_test, batch_size=BATCH_SIZE)\n",
    "print()\n",
    "print(\"ACCURACY:\",score[1])\n",
    "print(\"LOSS:\",score[0])"
   ]
  },
  {
   "cell_type": "code",
   "execution_count": null,
   "metadata": {
    "id": "qC5laa95-Y3i"
   },
   "outputs": [],
   "source": [
    "def plot_acc_loss(history):\n",
    "\n",
    "    acc = history.history['accuracy']\n",
    "    val_acc = history.history['val_accuracy']\n",
    "    loss = history.history['loss']\n",
    "    val_loss = history.history['val_loss']\n",
    "    epochs = range(1, len(acc) + 1)\n",
    "\n",
    "    plt.plot(epochs, acc, 'bo', label = 'Training Accuracy')\n",
    "    plt.plot(epochs, val_acc, 'r', label = 'Validation Accuracy')\n",
    "    plt.title('Training and Validation Accuracy')\n",
    "    plt.xlabel('Epochs')\n",
    "    plt.ylabel('Loss')\n",
    "    plt.legend()\n",
    "\n",
    "    plt.figure()\n",
    "    plt.plot(epochs, loss, 'bo', label = 'Training Loss')\n",
    "    plt.plot(epochs, val_loss, 'r', label = 'Validation Loss')\n",
    "    plt.title('Training and Validation Loss')\n",
    "    plt.xlabel('Epochs')\n",
    "    plt.ylabel('Loss')\n",
    "    plt.legend()\n",
    "    plt.show()"
   ]
  },
  {
   "cell_type": "code",
   "execution_count": null,
   "metadata": {
    "id": "bFwCL2ig-dZh"
   },
   "outputs": [],
   "source": [
    "acc = history.history['accuracy']\n",
    "val_acc = history.history['val_accuracy']\n",
    "loss = history.history['loss']\n",
    "val_loss = history.history['val_loss']\n",
    "\n",
    "epochs = range(len(acc))\n",
    "\n",
    "plt.plot(epochs, acc, 'b', label='Training acc')\n",
    "plt.plot(epochs, val_acc, 'r', label='Validation acc')\n",
    "plt.title('Training and validation accuracy')\n",
    "plt.legend()\n",
    "\n",
    "plt.figure()\n",
    "\n",
    "plt.plot(epochs, loss, 'b', label='Training loss')\n",
    "plt.plot(epochs, val_loss, 'r', label='Validation loss')\n",
    "plt.title('Training and validation loss')\n",
    "plt.legend()\n",
    "\n",
    "plt.show()"
   ]
  },
  {
   "cell_type": "code",
   "execution_count": null,
   "metadata": {
    "id": "S1KteZH0-huY"
   },
   "outputs": [],
   "source": [
    "def decode_sentiment(score, include_neutral=True):\n",
    "    if include_neutral:\n",
    "        label = NEUTRAL\n",
    "        if score <= SENTIMENT_THRESHOLDS[0]:\n",
    "            label = NEGATIVE\n",
    "        elif score >= SENTIMENT_THRESHOLDS[1]:\n",
    "            label = POSITIVE\n",
    "\n",
    "        return label\n",
    "    else:\n",
    "        return NEGATIVE if score < 0.5 else POSITIVE"
   ]
  },
  {
   "cell_type": "code",
   "execution_count": null,
   "metadata": {
    "id": "fr2JMmvf-nk2"
   },
   "outputs": [],
   "source": [
    "def predict(text, include_neutral=True):\n",
    "    start_at = time.time()\n",
    "    # Tokenize text\n",
    "    x_test = pad_sequences(tokenizer.texts_to_sequences([text]), maxlen=SEQUENCE_LENGTH)\n",
    "    # Predict\n",
    "    score = model_gru.predict([x_test])[0]\n",
    "    # Decode sentiment\n",
    "    label = decode_sentiment(score, include_neutral=include_neutral)\n",
    "\n",
    "    return {\"label\": label, \"score\": float(score),\n",
    "       \"elapsed_time\": time.time()-start_at}"
   ]
  },
  {
   "cell_type": "code",
   "execution_count": null,
   "metadata": {
    "id": "wKTEhrDc-vl9"
   },
   "outputs": [],
   "source": [
    "predict(\"I dont like to talk to anyone today.\")"
   ]
  },
  {
   "cell_type": "code",
   "execution_count": null,
   "metadata": {
    "id": "D0X4ecv7-zJz"
   },
   "outputs": [],
   "source": [
    "%%time\n",
    "y_pred_1d = []\n",
    "y_test_1d = list(df_test.target)\n",
    "scores = model_gru.predict(x_test, verbose=1, batch_size=8000)\n",
    "y_pred_1d = [decode_sentiment(score, include_neutral=False) for score in scores]"
   ]
  },
  {
   "cell_type": "code",
   "execution_count": null,
   "metadata": {
    "id": "Ntp6avMR-5SV"
   },
   "outputs": [],
   "source": [
    "def plot_confusion_matrix(cm, classes,\n",
    "                          title='Confusion matrix',\n",
    "                          cmap=plt.cm.Blues):\n",
    "    \"\"\"\n",
    "    This function prints and plots the confusion matrix.\n",
    "    Normalization can be applied by setting `normalize=True`.\n",
    "    \"\"\"\n",
    "\n",
    "    cm = cm.astype('float') / cm.sum(axis=1)[:, np.newaxis]\n",
    "\n",
    "    plt.imshow(cm, interpolation='nearest', cmap=cmap)\n",
    "    plt.title(title, fontsize=30)\n",
    "    plt.colorbar()\n",
    "    tick_marks = np.arange(len(classes))\n",
    "    plt.xticks(tick_marks, classes, rotation=90, fontsize=22)\n",
    "    plt.yticks(tick_marks, classes, fontsize=22)\n",
    "\n",
    "    fmt = '.2f'\n",
    "    thresh = cm.max() / 2.\n",
    "    for i, j in itertools.product(range(cm.shape[0]), range(cm.shape[1])):\n",
    "        plt.text(j, i, format(cm[i, j], fmt),\n",
    "                 horizontalalignment=\"center\",\n",
    "                 color=\"white\" if cm[i, j] > thresh else \"black\")\n",
    "\n",
    "    plt.ylabel('True label', fontsize=25)\n",
    "    plt.xlabel('Predicted label', fontsize=25)"
   ]
  },
  {
   "cell_type": "code",
   "execution_count": null,
   "metadata": {
    "id": "wt0S2o0I-9Vx"
   },
   "outputs": [],
   "source": [
    "%%time\n",
    "\n",
    "cnf_matrix = confusion_matrix(y_test_1d, y_pred_1d)\n",
    "plt.figure(figsize=(12,12))\n",
    "plot_confusion_matrix(cnf_matrix, classes=df_train.target.unique(), title=\"Confusion matrix\")\n",
    "plt.show()"
   ]
  },
  {
   "cell_type": "code",
   "execution_count": null,
   "metadata": {
    "id": "ozmct6ou_BR-"
   },
   "outputs": [],
   "source": [
    "print(classification_report(y_test_1d, y_pred_1d))"
   ]
  },
  {
   "cell_type": "code",
   "execution_count": null,
   "metadata": {
    "id": "nZunZDS3_Eu3"
   },
   "outputs": [],
   "source": [
    "accuracy_score(y_test_1d, y_pred_1d)"
   ]
  },
  {
   "cell_type": "code",
   "execution_count": null,
   "metadata": {
    "id": "aldU1u_M_IAS"
   },
   "outputs": [],
   "source": [
    "KERAS_MODEL = \"modeltest2_bi.h5\"\n",
    "WORD2VEC_MODEL = \"modeltest2_bi.pkl\"\n",
    "TOKENIZER_MODEL = \"tokenizertest2_bi.pkl\"\n",
    "ENCODER_MODEL = \"encodertest2_bi.pkl\"\n",
    "\n",
    "model_gru.save(KERAS_MODEL)\n",
    "w2v_model.save(WORD2VEC_MODEL)\n",
    "pickle.dump(tokenizer, open(TOKENIZER_MODEL, \"wb\"), protocol=0)\n",
    "pickle.dump(encoder, open(ENCODER_MODEL, \"wb\"), protocol=0)"
   ]
  }
 ],
 "metadata": {
  "accelerator": "TPU",
  "colab": {
   "provenance": []
  },
  "kernelspec": {
   "display_name": "Python 3 (ipykernel)",
   "language": "python",
   "name": "python3"
  },
  "language_info": {
   "codemirror_mode": {
    "name": "ipython",
    "version": 3
   },
   "file_extension": ".py",
   "mimetype": "text/x-python",
   "name": "python",
   "nbconvert_exporter": "python",
   "pygments_lexer": "ipython3",
   "version": "3.9.12"
  }
 },
 "nbformat": 4,
 "nbformat_minor": 1
}
