{
  "nbformat": 4,
  "nbformat_minor": 0,
  "metadata": {
    "colab": {
      "provenance": [],
      "gpuType": "T4"
    },
    "kernelspec": {
      "name": "python3",
      "display_name": "Python 3"
    },
    "language_info": {
      "name": "python"
    },
    "accelerator": "GPU"
  },
  "cells": [
    {
      "cell_type": "code",
      "execution_count": null,
      "metadata": {
        "colab": {
          "base_uri": "https://localhost:8080/"
        },
        "id": "vE56y1Wobk6z",
        "outputId": "9175bf57-07ff-4d3a-acaf-e65ff976ae5f"
      },
      "outputs": [
        {
          "output_type": "stream",
          "name": "stdout",
          "text": [
            "Mounted at /content/drive/\n"
          ]
        }
      ],
      "source": [
        "from google.colab import drive\n",
        "drive.mount('/content/drive/')"
      ]
    },
    {
      "cell_type": "code",
      "source": [
        "# DataFrame\n",
        "import pandas as pd\n",
        "\n",
        "# Matplot\n",
        "import matplotlib.pyplot as plt\n",
        "%matplotlib inline\n",
        "\n",
        "# Scikit-learn\n",
        "from sklearn.model_selection import train_test_split\n",
        "from sklearn.preprocessing import LabelEncoder\n",
        "from sklearn.metrics import confusion_matrix, classification_report, accuracy_score\n",
        "from sklearn.manifold import TSNE\n",
        "from sklearn.feature_extraction.text import TfidfVectorizer\n",
        "\n",
        "# Keras\n",
        "from keras.preprocessing.text import Tokenizer\n",
        "from keras.utils import pad_sequences\n",
        "from keras.models import Sequential\n",
        "from keras.layers import Activation, Dense, Dropout, Embedding, Flatten, Conv1D, MaxPooling1D, LSTM\n",
        "from keras import utils\n",
        "from keras.callbacks import ReduceLROnPlateau, EarlyStopping\n",
        "\n",
        "# nltk\n",
        "import nltk\n",
        "from nltk.corpus import stopwords\n",
        "from  nltk.stem import SnowballStemmer\n",
        "\n",
        "# Word2vec\n",
        "import gensim\n",
        "\n",
        "# Utility\n",
        "import re\n",
        "import numpy as np\n",
        "import os\n",
        "from collections import Counter\n",
        "import logging\n",
        "import time\n",
        "import pickle\n",
        "import itertools\n",
        "\n",
        "# Set log\n",
        "logging.basicConfig(format='%(asctime)s : %(levelname)s : %(message)s', level=logging.INFO)"
      ],
      "metadata": {
        "id": "62i60dlccRnG"
      },
      "execution_count": null,
      "outputs": []
    },
    {
      "cell_type": "code",
      "source": [
        "nltk.download('stopwords')"
      ],
      "metadata": {
        "colab": {
          "base_uri": "https://localhost:8080/"
        },
        "id": "C9UyKN0ZcxlS",
        "outputId": "0360995f-0742-4e50-9a0f-0bcd95190c15"
      },
      "execution_count": null,
      "outputs": [
        {
          "output_type": "stream",
          "name": "stderr",
          "text": [
            "[nltk_data] Downloading package stopwords to /root/nltk_data...\n",
            "[nltk_data]   Package stopwords is already up-to-date!\n"
          ]
        },
        {
          "output_type": "execute_result",
          "data": {
            "text/plain": [
              "True"
            ]
          },
          "metadata": {},
          "execution_count": 20
        }
      ]
    },
    {
      "cell_type": "code",
      "source": [
        "# DATASET\n",
        "DATASET_COLUMNS = [\"target\", \"ids\", \"date\", \"flag\", \"user\", \"text\"]\n",
        "DATASET_ENCODING = \"ISO-8859-1\"\n",
        "TRAIN_SIZE = 0.8\n",
        "\n",
        "# TEXT CLENAING\n",
        "TEXT_CLEANING_RE = \"@\\S+|https?:\\S+|http?:\\S|[^A-Za-z0-9]+\"\n",
        "\n",
        "# WORD2VEC\n",
        "W2V_SIZE = 300\n",
        "W2V_WINDOW = 7\n",
        "W2V_EPOCH = 32\n",
        "W2V_MIN_COUNT = 10\n",
        "\n",
        "# KERAS\n",
        "SEQUENCE_LENGTH = 300\n",
        "EPOCHS = 8\n",
        "BATCH_SIZE = 1024\n",
        "\n",
        "# SENTIMENT\n",
        "POSITIVE = \"POSITIVE\"\n",
        "NEGATIVE = \"NEGATIVE\"\n",
        "NEUTRAL = \"NEUTRAL\"\n",
        "SENTIMENT_THRESHOLDS = (0.4, 0.7)\n",
        "\n",
        "# EXPORT\n",
        "KERAS_MODEL = \"model.h5\"\n",
        "WORD2VEC_MODEL = \"model.w2v\"\n",
        "TOKENIZER_MODEL = \"tokenizer.pkl\"\n",
        "ENCODER_MODEL = \"encoder.pkl\""
      ],
      "metadata": {
        "id": "PAjzkEM7dQxh"
      },
      "execution_count": null,
      "outputs": []
    },
    {
      "cell_type": "code",
      "source": [
        "df = pd.read_csv('/content/drive/MyDrive/Dataset/training.1600000.processed.noemoticon.csv', encoding =DATASET_ENCODING , names=DATASET_COLUMNS)"
      ],
      "metadata": {
        "id": "FZlNGSkgdq9s"
      },
      "execution_count": null,
      "outputs": []
    },
    {
      "cell_type": "code",
      "source": [
        "df.head()"
      ],
      "metadata": {
        "colab": {
          "base_uri": "https://localhost:8080/",
          "height": 206
        },
        "id": "_P1z8vlSd2qQ",
        "outputId": "7e8ae867-5dc1-4dfb-c24e-c4b5ee3d3bc3"
      },
      "execution_count": null,
      "outputs": [
        {
          "output_type": "execute_result",
          "data": {
            "text/plain": [
              "   target         ids                          date      flag  \\\n",
              "0       0  1467810369  Mon Apr 06 22:19:45 PDT 2009  NO_QUERY   \n",
              "1       0  1467810672  Mon Apr 06 22:19:49 PDT 2009  NO_QUERY   \n",
              "2       0  1467810917  Mon Apr 06 22:19:53 PDT 2009  NO_QUERY   \n",
              "3       0  1467811184  Mon Apr 06 22:19:57 PDT 2009  NO_QUERY   \n",
              "4       0  1467811193  Mon Apr 06 22:19:57 PDT 2009  NO_QUERY   \n",
              "\n",
              "              user                                               text  \n",
              "0  _TheSpecialOne_  @switchfoot http://twitpic.com/2y1zl - Awww, t...  \n",
              "1    scotthamilton  is upset that he can't update his Facebook by ...  \n",
              "2         mattycus  @Kenichan I dived many times for the ball. Man...  \n",
              "3          ElleCTF    my whole body feels itchy and like its on fire   \n",
              "4           Karoli  @nationwideclass no, it's not behaving at all....  "
            ],
            "text/html": [
              "\n",
              "  <div id=\"df-30af43f7-0520-4d22-ae8e-a006fd00f53f\" class=\"colab-df-container\">\n",
              "    <div>\n",
              "<style scoped>\n",
              "    .dataframe tbody tr th:only-of-type {\n",
              "        vertical-align: middle;\n",
              "    }\n",
              "\n",
              "    .dataframe tbody tr th {\n",
              "        vertical-align: top;\n",
              "    }\n",
              "\n",
              "    .dataframe thead th {\n",
              "        text-align: right;\n",
              "    }\n",
              "</style>\n",
              "<table border=\"1\" class=\"dataframe\">\n",
              "  <thead>\n",
              "    <tr style=\"text-align: right;\">\n",
              "      <th></th>\n",
              "      <th>target</th>\n",
              "      <th>ids</th>\n",
              "      <th>date</th>\n",
              "      <th>flag</th>\n",
              "      <th>user</th>\n",
              "      <th>text</th>\n",
              "    </tr>\n",
              "  </thead>\n",
              "  <tbody>\n",
              "    <tr>\n",
              "      <th>0</th>\n",
              "      <td>0</td>\n",
              "      <td>1467810369</td>\n",
              "      <td>Mon Apr 06 22:19:45 PDT 2009</td>\n",
              "      <td>NO_QUERY</td>\n",
              "      <td>_TheSpecialOne_</td>\n",
              "      <td>@switchfoot http://twitpic.com/2y1zl - Awww, t...</td>\n",
              "    </tr>\n",
              "    <tr>\n",
              "      <th>1</th>\n",
              "      <td>0</td>\n",
              "      <td>1467810672</td>\n",
              "      <td>Mon Apr 06 22:19:49 PDT 2009</td>\n",
              "      <td>NO_QUERY</td>\n",
              "      <td>scotthamilton</td>\n",
              "      <td>is upset that he can't update his Facebook by ...</td>\n",
              "    </tr>\n",
              "    <tr>\n",
              "      <th>2</th>\n",
              "      <td>0</td>\n",
              "      <td>1467810917</td>\n",
              "      <td>Mon Apr 06 22:19:53 PDT 2009</td>\n",
              "      <td>NO_QUERY</td>\n",
              "      <td>mattycus</td>\n",
              "      <td>@Kenichan I dived many times for the ball. Man...</td>\n",
              "    </tr>\n",
              "    <tr>\n",
              "      <th>3</th>\n",
              "      <td>0</td>\n",
              "      <td>1467811184</td>\n",
              "      <td>Mon Apr 06 22:19:57 PDT 2009</td>\n",
              "      <td>NO_QUERY</td>\n",
              "      <td>ElleCTF</td>\n",
              "      <td>my whole body feels itchy and like its on fire</td>\n",
              "    </tr>\n",
              "    <tr>\n",
              "      <th>4</th>\n",
              "      <td>0</td>\n",
              "      <td>1467811193</td>\n",
              "      <td>Mon Apr 06 22:19:57 PDT 2009</td>\n",
              "      <td>NO_QUERY</td>\n",
              "      <td>Karoli</td>\n",
              "      <td>@nationwideclass no, it's not behaving at all....</td>\n",
              "    </tr>\n",
              "  </tbody>\n",
              "</table>\n",
              "</div>\n",
              "    <div class=\"colab-df-buttons\">\n",
              "\n",
              "  <div class=\"colab-df-container\">\n",
              "    <button class=\"colab-df-convert\" onclick=\"convertToInteractive('df-30af43f7-0520-4d22-ae8e-a006fd00f53f')\"\n",
              "            title=\"Convert this dataframe to an interactive table.\"\n",
              "            style=\"display:none;\">\n",
              "\n",
              "  <svg xmlns=\"http://www.w3.org/2000/svg\" height=\"24px\" viewBox=\"0 -960 960 960\">\n",
              "    <path d=\"M120-120v-720h720v720H120Zm60-500h600v-160H180v160Zm220 220h160v-160H400v160Zm0 220h160v-160H400v160ZM180-400h160v-160H180v160Zm440 0h160v-160H620v160ZM180-180h160v-160H180v160Zm440 0h160v-160H620v160Z\"/>\n",
              "  </svg>\n",
              "    </button>\n",
              "\n",
              "  <style>\n",
              "    .colab-df-container {\n",
              "      display:flex;\n",
              "      gap: 12px;\n",
              "    }\n",
              "\n",
              "    .colab-df-convert {\n",
              "      background-color: #E8F0FE;\n",
              "      border: none;\n",
              "      border-radius: 50%;\n",
              "      cursor: pointer;\n",
              "      display: none;\n",
              "      fill: #1967D2;\n",
              "      height: 32px;\n",
              "      padding: 0 0 0 0;\n",
              "      width: 32px;\n",
              "    }\n",
              "\n",
              "    .colab-df-convert:hover {\n",
              "      background-color: #E2EBFA;\n",
              "      box-shadow: 0px 1px 2px rgba(60, 64, 67, 0.3), 0px 1px 3px 1px rgba(60, 64, 67, 0.15);\n",
              "      fill: #174EA6;\n",
              "    }\n",
              "\n",
              "    .colab-df-buttons div {\n",
              "      margin-bottom: 4px;\n",
              "    }\n",
              "\n",
              "    [theme=dark] .colab-df-convert {\n",
              "      background-color: #3B4455;\n",
              "      fill: #D2E3FC;\n",
              "    }\n",
              "\n",
              "    [theme=dark] .colab-df-convert:hover {\n",
              "      background-color: #434B5C;\n",
              "      box-shadow: 0px 1px 3px 1px rgba(0, 0, 0, 0.15);\n",
              "      filter: drop-shadow(0px 1px 2px rgba(0, 0, 0, 0.3));\n",
              "      fill: #FFFFFF;\n",
              "    }\n",
              "  </style>\n",
              "\n",
              "    <script>\n",
              "      const buttonEl =\n",
              "        document.querySelector('#df-30af43f7-0520-4d22-ae8e-a006fd00f53f button.colab-df-convert');\n",
              "      buttonEl.style.display =\n",
              "        google.colab.kernel.accessAllowed ? 'block' : 'none';\n",
              "\n",
              "      async function convertToInteractive(key) {\n",
              "        const element = document.querySelector('#df-30af43f7-0520-4d22-ae8e-a006fd00f53f');\n",
              "        const dataTable =\n",
              "          await google.colab.kernel.invokeFunction('convertToInteractive',\n",
              "                                                    [key], {});\n",
              "        if (!dataTable) return;\n",
              "\n",
              "        const docLinkHtml = 'Like what you see? Visit the ' +\n",
              "          '<a target=\"_blank\" href=https://colab.research.google.com/notebooks/data_table.ipynb>data table notebook</a>'\n",
              "          + ' to learn more about interactive tables.';\n",
              "        element.innerHTML = '';\n",
              "        dataTable['output_type'] = 'display_data';\n",
              "        await google.colab.output.renderOutput(dataTable, element);\n",
              "        const docLink = document.createElement('div');\n",
              "        docLink.innerHTML = docLinkHtml;\n",
              "        element.appendChild(docLink);\n",
              "      }\n",
              "    </script>\n",
              "  </div>\n",
              "\n",
              "\n",
              "<div id=\"df-9ee7d0b9-a8df-4528-a27d-e24cfc27e44e\">\n",
              "  <button class=\"colab-df-quickchart\" onclick=\"quickchart('df-9ee7d0b9-a8df-4528-a27d-e24cfc27e44e')\"\n",
              "            title=\"Suggest charts.\"\n",
              "            style=\"display:none;\">\n",
              "\n",
              "<svg xmlns=\"http://www.w3.org/2000/svg\" height=\"24px\"viewBox=\"0 0 24 24\"\n",
              "     width=\"24px\">\n",
              "    <g>\n",
              "        <path d=\"M19 3H5c-1.1 0-2 .9-2 2v14c0 1.1.9 2 2 2h14c1.1 0 2-.9 2-2V5c0-1.1-.9-2-2-2zM9 17H7v-7h2v7zm4 0h-2V7h2v10zm4 0h-2v-4h2v4z\"/>\n",
              "    </g>\n",
              "</svg>\n",
              "  </button>\n",
              "\n",
              "<style>\n",
              "  .colab-df-quickchart {\n",
              "      --bg-color: #E8F0FE;\n",
              "      --fill-color: #1967D2;\n",
              "      --hover-bg-color: #E2EBFA;\n",
              "      --hover-fill-color: #174EA6;\n",
              "      --disabled-fill-color: #AAA;\n",
              "      --disabled-bg-color: #DDD;\n",
              "  }\n",
              "\n",
              "  [theme=dark] .colab-df-quickchart {\n",
              "      --bg-color: #3B4455;\n",
              "      --fill-color: #D2E3FC;\n",
              "      --hover-bg-color: #434B5C;\n",
              "      --hover-fill-color: #FFFFFF;\n",
              "      --disabled-bg-color: #3B4455;\n",
              "      --disabled-fill-color: #666;\n",
              "  }\n",
              "\n",
              "  .colab-df-quickchart {\n",
              "    background-color: var(--bg-color);\n",
              "    border: none;\n",
              "    border-radius: 50%;\n",
              "    cursor: pointer;\n",
              "    display: none;\n",
              "    fill: var(--fill-color);\n",
              "    height: 32px;\n",
              "    padding: 0;\n",
              "    width: 32px;\n",
              "  }\n",
              "\n",
              "  .colab-df-quickchart:hover {\n",
              "    background-color: var(--hover-bg-color);\n",
              "    box-shadow: 0 1px 2px rgba(60, 64, 67, 0.3), 0 1px 3px 1px rgba(60, 64, 67, 0.15);\n",
              "    fill: var(--button-hover-fill-color);\n",
              "  }\n",
              "\n",
              "  .colab-df-quickchart-complete:disabled,\n",
              "  .colab-df-quickchart-complete:disabled:hover {\n",
              "    background-color: var(--disabled-bg-color);\n",
              "    fill: var(--disabled-fill-color);\n",
              "    box-shadow: none;\n",
              "  }\n",
              "\n",
              "  .colab-df-spinner {\n",
              "    border: 2px solid var(--fill-color);\n",
              "    border-color: transparent;\n",
              "    border-bottom-color: var(--fill-color);\n",
              "    animation:\n",
              "      spin 1s steps(1) infinite;\n",
              "  }\n",
              "\n",
              "  @keyframes spin {\n",
              "    0% {\n",
              "      border-color: transparent;\n",
              "      border-bottom-color: var(--fill-color);\n",
              "      border-left-color: var(--fill-color);\n",
              "    }\n",
              "    20% {\n",
              "      border-color: transparent;\n",
              "      border-left-color: var(--fill-color);\n",
              "      border-top-color: var(--fill-color);\n",
              "    }\n",
              "    30% {\n",
              "      border-color: transparent;\n",
              "      border-left-color: var(--fill-color);\n",
              "      border-top-color: var(--fill-color);\n",
              "      border-right-color: var(--fill-color);\n",
              "    }\n",
              "    40% {\n",
              "      border-color: transparent;\n",
              "      border-right-color: var(--fill-color);\n",
              "      border-top-color: var(--fill-color);\n",
              "    }\n",
              "    60% {\n",
              "      border-color: transparent;\n",
              "      border-right-color: var(--fill-color);\n",
              "    }\n",
              "    80% {\n",
              "      border-color: transparent;\n",
              "      border-right-color: var(--fill-color);\n",
              "      border-bottom-color: var(--fill-color);\n",
              "    }\n",
              "    90% {\n",
              "      border-color: transparent;\n",
              "      border-bottom-color: var(--fill-color);\n",
              "    }\n",
              "  }\n",
              "</style>\n",
              "\n",
              "  <script>\n",
              "    async function quickchart(key) {\n",
              "      const quickchartButtonEl =\n",
              "        document.querySelector('#' + key + ' button');\n",
              "      quickchartButtonEl.disabled = true;  // To prevent multiple clicks.\n",
              "      quickchartButtonEl.classList.add('colab-df-spinner');\n",
              "      try {\n",
              "        const charts = await google.colab.kernel.invokeFunction(\n",
              "            'suggestCharts', [key], {});\n",
              "      } catch (error) {\n",
              "        console.error('Error during call to suggestCharts:', error);\n",
              "      }\n",
              "      quickchartButtonEl.classList.remove('colab-df-spinner');\n",
              "      quickchartButtonEl.classList.add('colab-df-quickchart-complete');\n",
              "    }\n",
              "    (() => {\n",
              "      let quickchartButtonEl =\n",
              "        document.querySelector('#df-9ee7d0b9-a8df-4528-a27d-e24cfc27e44e button');\n",
              "      quickchartButtonEl.style.display =\n",
              "        google.colab.kernel.accessAllowed ? 'block' : 'none';\n",
              "    })();\n",
              "  </script>\n",
              "</div>\n",
              "    </div>\n",
              "  </div>\n"
            ]
          },
          "metadata": {},
          "execution_count": 23
        }
      ]
    },
    {
      "cell_type": "code",
      "source": [
        "df = df.sample(frac=1)"
      ],
      "metadata": {
        "id": "DYcVeM0tfOI1"
      },
      "execution_count": null,
      "outputs": []
    },
    {
      "cell_type": "code",
      "source": [
        "df.head(50)"
      ],
      "metadata": {
        "colab": {
          "base_uri": "https://localhost:8080/",
          "height": 1000
        },
        "id": "u-ZLTygbgBLc",
        "outputId": "24142bb8-4370-48c4-a178-867c4cefb95d"
      },
      "execution_count": null,
      "outputs": [
        {
          "output_type": "execute_result",
          "data": {
            "text/plain": [
              "         target         ids                          date      flag  \\\n",
              "348994        0  2016987112  Wed Jun 03 07:40:47 PDT 2009  NO_QUERY   \n",
              "1174122       4  1980898902  Sun May 31 07:57:03 PDT 2009  NO_QUERY   \n",
              "1091294       4  1969874201  Sat May 30 01:33:21 PDT 2009  NO_QUERY   \n",
              "314760        0  2002044843  Tue Jun 02 02:57:39 PDT 2009  NO_QUERY   \n",
              "1453604       4  2063250870  Sun Jun 07 01:55:31 PDT 2009  NO_QUERY   \n",
              "148878        0  1883262101  Fri May 22 08:16:09 PDT 2009  NO_QUERY   \n",
              "465992        0  2175467206  Mon Jun 15 01:04:05 PDT 2009  NO_QUERY   \n",
              "804316        4  1468502040  Tue Apr 07 02:03:41 PDT 2009  NO_QUERY   \n",
              "986660        4  1834589189  Mon May 18 03:30:32 PDT 2009  NO_QUERY   \n",
              "243984        0  1981669639  Sun May 31 09:38:44 PDT 2009  NO_QUERY   \n",
              "1136277       4  1976585460  Sat May 30 18:30:42 PDT 2009  NO_QUERY   \n",
              "659594        0  2242208946  Fri Jun 19 11:54:25 PDT 2009  NO_QUERY   \n",
              "1310932       4  2013388349  Tue Jun 02 22:33:22 PDT 2009  NO_QUERY   \n",
              "694065        0  2252896251  Sat Jun 20 07:12:15 PDT 2009  NO_QUERY   \n",
              "1314893       4  2013962918  Wed Jun 03 00:04:00 PDT 2009  NO_QUERY   \n",
              "495119        0  2185135629  Mon Jun 15 16:56:23 PDT 2009  NO_QUERY   \n",
              "1503027       4  2071867071  Sun Jun 07 20:02:32 PDT 2009  NO_QUERY   \n",
              "160947        0  1957181945  Thu May 28 23:45:00 PDT 2009  NO_QUERY   \n",
              "2875          0  1468469726  Tue Apr 07 01:51:49 PDT 2009  NO_QUERY   \n",
              "449942        0  2069374680  Sun Jun 07 15:45:40 PDT 2009  NO_QUERY   \n",
              "799221        0  2328905882  Thu Jun 25 10:07:27 PDT 2009  NO_QUERY   \n",
              "305401        0  1999981466  Mon Jun 01 21:10:50 PDT 2009  NO_QUERY   \n",
              "1286150       4  2002223506  Tue Jun 02 03:33:21 PDT 2009  NO_QUERY   \n",
              "813137        4  1548702145  Fri Apr 17 21:42:38 PDT 2009  NO_QUERY   \n",
              "318642        0  2002868827  Tue Jun 02 05:21:34 PDT 2009  NO_QUERY   \n",
              "279371        0  1991771132  Mon Jun 01 07:38:07 PDT 2009  NO_QUERY   \n",
              "333231        0  2013275636  Tue Jun 02 22:17:42 PDT 2009  NO_QUERY   \n",
              "1510248       4  2174930409  Sun Jun 14 23:39:35 PDT 2009  NO_QUERY   \n",
              "1275778       4  2001130463  Mon Jun 01 23:56:00 PDT 2009  NO_QUERY   \n",
              "422914        0  2062759872  Sun Jun 07 00:12:26 PDT 2009  NO_QUERY   \n",
              "1398054       4  2054047267  Sat Jun 06 06:25:15 PDT 2009  NO_QUERY   \n",
              "1182244       4  1982216627  Sun May 31 10:45:47 PDT 2009  NO_QUERY   \n",
              "373594        0  2051044802  Fri Jun 05 19:45:39 PDT 2009  NO_QUERY   \n",
              "1038466       4  1956674904  Thu May 28 22:24:52 PDT 2009  NO_QUERY   \n",
              "936889        4  1793097914  Thu May 14 01:21:54 PDT 2009  NO_QUERY   \n",
              "1131654       4  1975894793  Sat May 30 16:08:02 PDT 2009  NO_QUERY   \n",
              "997531        4  1836097300  Mon May 18 07:21:54 PDT 2009  NO_QUERY   \n",
              "890029        4  1687901383  Sun May 03 09:52:09 PDT 2009  NO_QUERY   \n",
              "1006443       4  1880609104  Fri May 22 01:51:13 PDT 2009  NO_QUERY   \n",
              "807809        4  1469069448  Tue Apr 07 05:04:40 PDT 2009  NO_QUERY   \n",
              "1265859       4  1999532383  Mon Jun 01 20:22:59 PDT 2009  NO_QUERY   \n",
              "277873        0  1991384412  Mon Jun 01 06:56:34 PDT 2009  NO_QUERY   \n",
              "959920        4  1826209270  Sun May 17 07:57:37 PDT 2009  NO_QUERY   \n",
              "1448051       4  2062688429  Sat Jun 06 23:59:31 PDT 2009  NO_QUERY   \n",
              "868529        4  1677958563  Sat May 02 04:52:03 PDT 2009  NO_QUERY   \n",
              "1490806       4  2068967409  Sun Jun 07 15:01:34 PDT 2009  NO_QUERY   \n",
              "1598716       4  2193254100  Tue Jun 16 08:12:22 PDT 2009  NO_QUERY   \n",
              "1165790       4  1979874692  Sun May 31 04:51:15 PDT 2009  NO_QUERY   \n",
              "1063727       4  1964525626  Fri May 29 14:22:32 PDT 2009  NO_QUERY   \n",
              "1243797       4  1994672487  Mon Jun 01 12:16:51 PDT 2009  NO_QUERY   \n",
              "\n",
              "                    user                                               text  \n",
              "348994    dylanwrankmore  I am trying to recover a weekend's worth of wo...  \n",
              "1174122           WoNoJo  @chempaka sila2... jemput makan.... ops sowie,...  \n",
              "1091294         hanekomu  @Danisidhe Yes, it's one of the endearing qual...  \n",
              "314760              watp                          Oh god sake shoppin 2day   \n",
              "1453604       KatsManDEW  @jordanknight Wow..that was hard...especially ...  \n",
              "148878     MusicalCarmz4                  dudes.. i feel so alone now.....   \n",
              "465992      alexhanrahan  @XLoubyX good luck honey! I don't finish till ...  \n",
              "804316      McFLYBelgium  @dougiemcfly @tommcfly good morning guys, how ...  \n",
              "986660       chrisbrogan  @blfarris - and you just proved you're on an i...  \n",
              "243984              deve  The play is over. No more Hoggsmart.  That was...  \n",
              "1136277             zaca  http://twitpic.com/6ayv3 - Old Macbook Air box...  \n",
              "659594              wita  @Zakupilot256 It's honestly that bad?  I feel ...  \n",
              "1310932            FoOie  @jaczie me2 me2! Happily strolled out to pack ...  \n",
              "694065      Ben_Monaghan  Back from work and now going into town with hi...  \n",
              "1314893        ivividity  You know something...I got my Sims 3 today...I...  \n",
              "495119           Caiteee  @staceyelliott3 we should pure get like brothe...  \n",
              "1503027  djdavebernstein  Back from Chicago, after a late-night, plane-d...  \n",
              "160947   andybutterworth  @djcoombs not at my workplace.   but a short-s...  \n",
              "2875            vsaripal  windows mobile doesnt allow me to write the st...  \n",
              "449942         Draeconis  I can't believe the BNP won York, I'm actually...  \n",
              "799221           maricue                                ....goodbye farraw   \n",
              "305401     DonniesGirl69  @JonathanRKnight Oh.....you're gonna make us c...  \n",
              "1286150        CdeGuzman                        wore pants today. Awesome.   \n",
              "813137     petehillhouse  Video: kelseyroxanne: Dude, have you seen the ...  \n",
              "318642            OhnoZo  I just tried to save a bumble bee on the brink...  \n",
              "279371          Dalis856        Damn gotta go for oral surgery next week..   \n",
              "333231        Monicarrrr  Aaah up to early I have a history and french e...  \n",
              "1510248       velmadaria  #iremember driving down Sunset on a Saturday n...  \n",
              "1275778     DamienCripps  @Amazing_Grace13 i am well - now all assignmen...  \n",
              "422914          delytron  also almost straight left to go back home to s...  \n",
              "1398054    Brazii_Phresh                                  Rise &amp; Shine   \n",
              "1182244           hcroww                                 Bubble tea sunday   \n",
              "373594          Mickie_1  @Streyeder We got to crow where we can.  My sc...  \n",
              "1038466         atlcutii  #liesboystell she &amp;&amp; i onlyyy talk on ...  \n",
              "936889       rogeroldham        @RobBarham cheers Rob, i'll check them out   \n",
              "1131654       vivschwarz                @fergis Hurrah! That cheered me up   \n",
              "997531         cindylou3  So yesterday turned out to be a really great d...  \n",
              "890029   bionic_creative  @ctham @Wilsurn Trying to get a wider range of...  \n",
              "1006443           lennel  @sgbrands i'd love to but i can't make it toni...  \n",
              "807809      xobritbabeox  I didn't have to scrape much today!  I really ...  \n",
              "1265859        notation9  Cheez-Its may be one of the greatest snack cra...  \n",
              "277873            msfour  @kslovesbooks i would welcome more opportuniti...  \n",
              "959920            MsMai1                           writing my first tweet    \n",
              "1448051    ALESHAMONIQUE       bout 2 get up in da bed!!!  sweetdreamz all!  \n",
              "868529          maleehaa  Don't miss this blog post by Zak:  http://tiny...  \n",
              "1490806    margaretveale  Just got back from golfing  yet another attemp...  \n",
              "1598716      SoozieCurlz             Morning! Yeeessssssss new Mimi in Aug   \n",
              "1165790            inox1  GUESS - who's that &quot;photographer&quot;?  ...  \n",
              "1063727        Kimmie757  Aint been out Va Beach in a minute.... But I'm...  \n",
              "1243797    VinayNagaraju                  @HDevatha Learning to tweet  eh ?  "
            ],
            "text/html": [
              "\n",
              "  <div id=\"df-c4d5bca6-e090-447d-9062-a2f5e8ce13b2\" class=\"colab-df-container\">\n",
              "    <div>\n",
              "<style scoped>\n",
              "    .dataframe tbody tr th:only-of-type {\n",
              "        vertical-align: middle;\n",
              "    }\n",
              "\n",
              "    .dataframe tbody tr th {\n",
              "        vertical-align: top;\n",
              "    }\n",
              "\n",
              "    .dataframe thead th {\n",
              "        text-align: right;\n",
              "    }\n",
              "</style>\n",
              "<table border=\"1\" class=\"dataframe\">\n",
              "  <thead>\n",
              "    <tr style=\"text-align: right;\">\n",
              "      <th></th>\n",
              "      <th>target</th>\n",
              "      <th>ids</th>\n",
              "      <th>date</th>\n",
              "      <th>flag</th>\n",
              "      <th>user</th>\n",
              "      <th>text</th>\n",
              "    </tr>\n",
              "  </thead>\n",
              "  <tbody>\n",
              "    <tr>\n",
              "      <th>348994</th>\n",
              "      <td>0</td>\n",
              "      <td>2016987112</td>\n",
              "      <td>Wed Jun 03 07:40:47 PDT 2009</td>\n",
              "      <td>NO_QUERY</td>\n",
              "      <td>dylanwrankmore</td>\n",
              "      <td>I am trying to recover a weekend's worth of wo...</td>\n",
              "    </tr>\n",
              "    <tr>\n",
              "      <th>1174122</th>\n",
              "      <td>4</td>\n",
              "      <td>1980898902</td>\n",
              "      <td>Sun May 31 07:57:03 PDT 2009</td>\n",
              "      <td>NO_QUERY</td>\n",
              "      <td>WoNoJo</td>\n",
              "      <td>@chempaka sila2... jemput makan.... ops sowie,...</td>\n",
              "    </tr>\n",
              "    <tr>\n",
              "      <th>1091294</th>\n",
              "      <td>4</td>\n",
              "      <td>1969874201</td>\n",
              "      <td>Sat May 30 01:33:21 PDT 2009</td>\n",
              "      <td>NO_QUERY</td>\n",
              "      <td>hanekomu</td>\n",
              "      <td>@Danisidhe Yes, it's one of the endearing qual...</td>\n",
              "    </tr>\n",
              "    <tr>\n",
              "      <th>314760</th>\n",
              "      <td>0</td>\n",
              "      <td>2002044843</td>\n",
              "      <td>Tue Jun 02 02:57:39 PDT 2009</td>\n",
              "      <td>NO_QUERY</td>\n",
              "      <td>watp</td>\n",
              "      <td>Oh god sake shoppin 2day</td>\n",
              "    </tr>\n",
              "    <tr>\n",
              "      <th>1453604</th>\n",
              "      <td>4</td>\n",
              "      <td>2063250870</td>\n",
              "      <td>Sun Jun 07 01:55:31 PDT 2009</td>\n",
              "      <td>NO_QUERY</td>\n",
              "      <td>KatsManDEW</td>\n",
              "      <td>@jordanknight Wow..that was hard...especially ...</td>\n",
              "    </tr>\n",
              "    <tr>\n",
              "      <th>148878</th>\n",
              "      <td>0</td>\n",
              "      <td>1883262101</td>\n",
              "      <td>Fri May 22 08:16:09 PDT 2009</td>\n",
              "      <td>NO_QUERY</td>\n",
              "      <td>MusicalCarmz4</td>\n",
              "      <td>dudes.. i feel so alone now.....</td>\n",
              "    </tr>\n",
              "    <tr>\n",
              "      <th>465992</th>\n",
              "      <td>0</td>\n",
              "      <td>2175467206</td>\n",
              "      <td>Mon Jun 15 01:04:05 PDT 2009</td>\n",
              "      <td>NO_QUERY</td>\n",
              "      <td>alexhanrahan</td>\n",
              "      <td>@XLoubyX good luck honey! I don't finish till ...</td>\n",
              "    </tr>\n",
              "    <tr>\n",
              "      <th>804316</th>\n",
              "      <td>4</td>\n",
              "      <td>1468502040</td>\n",
              "      <td>Tue Apr 07 02:03:41 PDT 2009</td>\n",
              "      <td>NO_QUERY</td>\n",
              "      <td>McFLYBelgium</td>\n",
              "      <td>@dougiemcfly @tommcfly good morning guys, how ...</td>\n",
              "    </tr>\n",
              "    <tr>\n",
              "      <th>986660</th>\n",
              "      <td>4</td>\n",
              "      <td>1834589189</td>\n",
              "      <td>Mon May 18 03:30:32 PDT 2009</td>\n",
              "      <td>NO_QUERY</td>\n",
              "      <td>chrisbrogan</td>\n",
              "      <td>@blfarris - and you just proved you're on an i...</td>\n",
              "    </tr>\n",
              "    <tr>\n",
              "      <th>243984</th>\n",
              "      <td>0</td>\n",
              "      <td>1981669639</td>\n",
              "      <td>Sun May 31 09:38:44 PDT 2009</td>\n",
              "      <td>NO_QUERY</td>\n",
              "      <td>deve</td>\n",
              "      <td>The play is over. No more Hoggsmart.  That was...</td>\n",
              "    </tr>\n",
              "    <tr>\n",
              "      <th>1136277</th>\n",
              "      <td>4</td>\n",
              "      <td>1976585460</td>\n",
              "      <td>Sat May 30 18:30:42 PDT 2009</td>\n",
              "      <td>NO_QUERY</td>\n",
              "      <td>zaca</td>\n",
              "      <td>http://twitpic.com/6ayv3 - Old Macbook Air box...</td>\n",
              "    </tr>\n",
              "    <tr>\n",
              "      <th>659594</th>\n",
              "      <td>0</td>\n",
              "      <td>2242208946</td>\n",
              "      <td>Fri Jun 19 11:54:25 PDT 2009</td>\n",
              "      <td>NO_QUERY</td>\n",
              "      <td>wita</td>\n",
              "      <td>@Zakupilot256 It's honestly that bad?  I feel ...</td>\n",
              "    </tr>\n",
              "    <tr>\n",
              "      <th>1310932</th>\n",
              "      <td>4</td>\n",
              "      <td>2013388349</td>\n",
              "      <td>Tue Jun 02 22:33:22 PDT 2009</td>\n",
              "      <td>NO_QUERY</td>\n",
              "      <td>FoOie</td>\n",
              "      <td>@jaczie me2 me2! Happily strolled out to pack ...</td>\n",
              "    </tr>\n",
              "    <tr>\n",
              "      <th>694065</th>\n",
              "      <td>0</td>\n",
              "      <td>2252896251</td>\n",
              "      <td>Sat Jun 20 07:12:15 PDT 2009</td>\n",
              "      <td>NO_QUERY</td>\n",
              "      <td>Ben_Monaghan</td>\n",
              "      <td>Back from work and now going into town with hi...</td>\n",
              "    </tr>\n",
              "    <tr>\n",
              "      <th>1314893</th>\n",
              "      <td>4</td>\n",
              "      <td>2013962918</td>\n",
              "      <td>Wed Jun 03 00:04:00 PDT 2009</td>\n",
              "      <td>NO_QUERY</td>\n",
              "      <td>ivividity</td>\n",
              "      <td>You know something...I got my Sims 3 today...I...</td>\n",
              "    </tr>\n",
              "    <tr>\n",
              "      <th>495119</th>\n",
              "      <td>0</td>\n",
              "      <td>2185135629</td>\n",
              "      <td>Mon Jun 15 16:56:23 PDT 2009</td>\n",
              "      <td>NO_QUERY</td>\n",
              "      <td>Caiteee</td>\n",
              "      <td>@staceyelliott3 we should pure get like brothe...</td>\n",
              "    </tr>\n",
              "    <tr>\n",
              "      <th>1503027</th>\n",
              "      <td>4</td>\n",
              "      <td>2071867071</td>\n",
              "      <td>Sun Jun 07 20:02:32 PDT 2009</td>\n",
              "      <td>NO_QUERY</td>\n",
              "      <td>djdavebernstein</td>\n",
              "      <td>Back from Chicago, after a late-night, plane-d...</td>\n",
              "    </tr>\n",
              "    <tr>\n",
              "      <th>160947</th>\n",
              "      <td>0</td>\n",
              "      <td>1957181945</td>\n",
              "      <td>Thu May 28 23:45:00 PDT 2009</td>\n",
              "      <td>NO_QUERY</td>\n",
              "      <td>andybutterworth</td>\n",
              "      <td>@djcoombs not at my workplace.   but a short-s...</td>\n",
              "    </tr>\n",
              "    <tr>\n",
              "      <th>2875</th>\n",
              "      <td>0</td>\n",
              "      <td>1468469726</td>\n",
              "      <td>Tue Apr 07 01:51:49 PDT 2009</td>\n",
              "      <td>NO_QUERY</td>\n",
              "      <td>vsaripal</td>\n",
              "      <td>windows mobile doesnt allow me to write the st...</td>\n",
              "    </tr>\n",
              "    <tr>\n",
              "      <th>449942</th>\n",
              "      <td>0</td>\n",
              "      <td>2069374680</td>\n",
              "      <td>Sun Jun 07 15:45:40 PDT 2009</td>\n",
              "      <td>NO_QUERY</td>\n",
              "      <td>Draeconis</td>\n",
              "      <td>I can't believe the BNP won York, I'm actually...</td>\n",
              "    </tr>\n",
              "    <tr>\n",
              "      <th>799221</th>\n",
              "      <td>0</td>\n",
              "      <td>2328905882</td>\n",
              "      <td>Thu Jun 25 10:07:27 PDT 2009</td>\n",
              "      <td>NO_QUERY</td>\n",
              "      <td>maricue</td>\n",
              "      <td>....goodbye farraw</td>\n",
              "    </tr>\n",
              "    <tr>\n",
              "      <th>305401</th>\n",
              "      <td>0</td>\n",
              "      <td>1999981466</td>\n",
              "      <td>Mon Jun 01 21:10:50 PDT 2009</td>\n",
              "      <td>NO_QUERY</td>\n",
              "      <td>DonniesGirl69</td>\n",
              "      <td>@JonathanRKnight Oh.....you're gonna make us c...</td>\n",
              "    </tr>\n",
              "    <tr>\n",
              "      <th>1286150</th>\n",
              "      <td>4</td>\n",
              "      <td>2002223506</td>\n",
              "      <td>Tue Jun 02 03:33:21 PDT 2009</td>\n",
              "      <td>NO_QUERY</td>\n",
              "      <td>CdeGuzman</td>\n",
              "      <td>wore pants today. Awesome.</td>\n",
              "    </tr>\n",
              "    <tr>\n",
              "      <th>813137</th>\n",
              "      <td>4</td>\n",
              "      <td>1548702145</td>\n",
              "      <td>Fri Apr 17 21:42:38 PDT 2009</td>\n",
              "      <td>NO_QUERY</td>\n",
              "      <td>petehillhouse</td>\n",
              "      <td>Video: kelseyroxanne: Dude, have you seen the ...</td>\n",
              "    </tr>\n",
              "    <tr>\n",
              "      <th>318642</th>\n",
              "      <td>0</td>\n",
              "      <td>2002868827</td>\n",
              "      <td>Tue Jun 02 05:21:34 PDT 2009</td>\n",
              "      <td>NO_QUERY</td>\n",
              "      <td>OhnoZo</td>\n",
              "      <td>I just tried to save a bumble bee on the brink...</td>\n",
              "    </tr>\n",
              "    <tr>\n",
              "      <th>279371</th>\n",
              "      <td>0</td>\n",
              "      <td>1991771132</td>\n",
              "      <td>Mon Jun 01 07:38:07 PDT 2009</td>\n",
              "      <td>NO_QUERY</td>\n",
              "      <td>Dalis856</td>\n",
              "      <td>Damn gotta go for oral surgery next week..</td>\n",
              "    </tr>\n",
              "    <tr>\n",
              "      <th>333231</th>\n",
              "      <td>0</td>\n",
              "      <td>2013275636</td>\n",
              "      <td>Tue Jun 02 22:17:42 PDT 2009</td>\n",
              "      <td>NO_QUERY</td>\n",
              "      <td>Monicarrrr</td>\n",
              "      <td>Aaah up to early I have a history and french e...</td>\n",
              "    </tr>\n",
              "    <tr>\n",
              "      <th>1510248</th>\n",
              "      <td>4</td>\n",
              "      <td>2174930409</td>\n",
              "      <td>Sun Jun 14 23:39:35 PDT 2009</td>\n",
              "      <td>NO_QUERY</td>\n",
              "      <td>velmadaria</td>\n",
              "      <td>#iremember driving down Sunset on a Saturday n...</td>\n",
              "    </tr>\n",
              "    <tr>\n",
              "      <th>1275778</th>\n",
              "      <td>4</td>\n",
              "      <td>2001130463</td>\n",
              "      <td>Mon Jun 01 23:56:00 PDT 2009</td>\n",
              "      <td>NO_QUERY</td>\n",
              "      <td>DamienCripps</td>\n",
              "      <td>@Amazing_Grace13 i am well - now all assignmen...</td>\n",
              "    </tr>\n",
              "    <tr>\n",
              "      <th>422914</th>\n",
              "      <td>0</td>\n",
              "      <td>2062759872</td>\n",
              "      <td>Sun Jun 07 00:12:26 PDT 2009</td>\n",
              "      <td>NO_QUERY</td>\n",
              "      <td>delytron</td>\n",
              "      <td>also almost straight left to go back home to s...</td>\n",
              "    </tr>\n",
              "    <tr>\n",
              "      <th>1398054</th>\n",
              "      <td>4</td>\n",
              "      <td>2054047267</td>\n",
              "      <td>Sat Jun 06 06:25:15 PDT 2009</td>\n",
              "      <td>NO_QUERY</td>\n",
              "      <td>Brazii_Phresh</td>\n",
              "      <td>Rise &amp;amp; Shine</td>\n",
              "    </tr>\n",
              "    <tr>\n",
              "      <th>1182244</th>\n",
              "      <td>4</td>\n",
              "      <td>1982216627</td>\n",
              "      <td>Sun May 31 10:45:47 PDT 2009</td>\n",
              "      <td>NO_QUERY</td>\n",
              "      <td>hcroww</td>\n",
              "      <td>Bubble tea sunday</td>\n",
              "    </tr>\n",
              "    <tr>\n",
              "      <th>373594</th>\n",
              "      <td>0</td>\n",
              "      <td>2051044802</td>\n",
              "      <td>Fri Jun 05 19:45:39 PDT 2009</td>\n",
              "      <td>NO_QUERY</td>\n",
              "      <td>Mickie_1</td>\n",
              "      <td>@Streyeder We got to crow where we can.  My sc...</td>\n",
              "    </tr>\n",
              "    <tr>\n",
              "      <th>1038466</th>\n",
              "      <td>4</td>\n",
              "      <td>1956674904</td>\n",
              "      <td>Thu May 28 22:24:52 PDT 2009</td>\n",
              "      <td>NO_QUERY</td>\n",
              "      <td>atlcutii</td>\n",
              "      <td>#liesboystell she &amp;amp;&amp;amp; i onlyyy talk on ...</td>\n",
              "    </tr>\n",
              "    <tr>\n",
              "      <th>936889</th>\n",
              "      <td>4</td>\n",
              "      <td>1793097914</td>\n",
              "      <td>Thu May 14 01:21:54 PDT 2009</td>\n",
              "      <td>NO_QUERY</td>\n",
              "      <td>rogeroldham</td>\n",
              "      <td>@RobBarham cheers Rob, i'll check them out</td>\n",
              "    </tr>\n",
              "    <tr>\n",
              "      <th>1131654</th>\n",
              "      <td>4</td>\n",
              "      <td>1975894793</td>\n",
              "      <td>Sat May 30 16:08:02 PDT 2009</td>\n",
              "      <td>NO_QUERY</td>\n",
              "      <td>vivschwarz</td>\n",
              "      <td>@fergis Hurrah! That cheered me up</td>\n",
              "    </tr>\n",
              "    <tr>\n",
              "      <th>997531</th>\n",
              "      <td>4</td>\n",
              "      <td>1836097300</td>\n",
              "      <td>Mon May 18 07:21:54 PDT 2009</td>\n",
              "      <td>NO_QUERY</td>\n",
              "      <td>cindylou3</td>\n",
              "      <td>So yesterday turned out to be a really great d...</td>\n",
              "    </tr>\n",
              "    <tr>\n",
              "      <th>890029</th>\n",
              "      <td>4</td>\n",
              "      <td>1687901383</td>\n",
              "      <td>Sun May 03 09:52:09 PDT 2009</td>\n",
              "      <td>NO_QUERY</td>\n",
              "      <td>bionic_creative</td>\n",
              "      <td>@ctham @Wilsurn Trying to get a wider range of...</td>\n",
              "    </tr>\n",
              "    <tr>\n",
              "      <th>1006443</th>\n",
              "      <td>4</td>\n",
              "      <td>1880609104</td>\n",
              "      <td>Fri May 22 01:51:13 PDT 2009</td>\n",
              "      <td>NO_QUERY</td>\n",
              "      <td>lennel</td>\n",
              "      <td>@sgbrands i'd love to but i can't make it toni...</td>\n",
              "    </tr>\n",
              "    <tr>\n",
              "      <th>807809</th>\n",
              "      <td>4</td>\n",
              "      <td>1469069448</td>\n",
              "      <td>Tue Apr 07 05:04:40 PDT 2009</td>\n",
              "      <td>NO_QUERY</td>\n",
              "      <td>xobritbabeox</td>\n",
              "      <td>I didn't have to scrape much today!  I really ...</td>\n",
              "    </tr>\n",
              "    <tr>\n",
              "      <th>1265859</th>\n",
              "      <td>4</td>\n",
              "      <td>1999532383</td>\n",
              "      <td>Mon Jun 01 20:22:59 PDT 2009</td>\n",
              "      <td>NO_QUERY</td>\n",
              "      <td>notation9</td>\n",
              "      <td>Cheez-Its may be one of the greatest snack cra...</td>\n",
              "    </tr>\n",
              "    <tr>\n",
              "      <th>277873</th>\n",
              "      <td>0</td>\n",
              "      <td>1991384412</td>\n",
              "      <td>Mon Jun 01 06:56:34 PDT 2009</td>\n",
              "      <td>NO_QUERY</td>\n",
              "      <td>msfour</td>\n",
              "      <td>@kslovesbooks i would welcome more opportuniti...</td>\n",
              "    </tr>\n",
              "    <tr>\n",
              "      <th>959920</th>\n",
              "      <td>4</td>\n",
              "      <td>1826209270</td>\n",
              "      <td>Sun May 17 07:57:37 PDT 2009</td>\n",
              "      <td>NO_QUERY</td>\n",
              "      <td>MsMai1</td>\n",
              "      <td>writing my first tweet</td>\n",
              "    </tr>\n",
              "    <tr>\n",
              "      <th>1448051</th>\n",
              "      <td>4</td>\n",
              "      <td>2062688429</td>\n",
              "      <td>Sat Jun 06 23:59:31 PDT 2009</td>\n",
              "      <td>NO_QUERY</td>\n",
              "      <td>ALESHAMONIQUE</td>\n",
              "      <td>bout 2 get up in da bed!!!  sweetdreamz all!</td>\n",
              "    </tr>\n",
              "    <tr>\n",
              "      <th>868529</th>\n",
              "      <td>4</td>\n",
              "      <td>1677958563</td>\n",
              "      <td>Sat May 02 04:52:03 PDT 2009</td>\n",
              "      <td>NO_QUERY</td>\n",
              "      <td>maleehaa</td>\n",
              "      <td>Don't miss this blog post by Zak:  http://tiny...</td>\n",
              "    </tr>\n",
              "    <tr>\n",
              "      <th>1490806</th>\n",
              "      <td>4</td>\n",
              "      <td>2068967409</td>\n",
              "      <td>Sun Jun 07 15:01:34 PDT 2009</td>\n",
              "      <td>NO_QUERY</td>\n",
              "      <td>margaretveale</td>\n",
              "      <td>Just got back from golfing  yet another attemp...</td>\n",
              "    </tr>\n",
              "    <tr>\n",
              "      <th>1598716</th>\n",
              "      <td>4</td>\n",
              "      <td>2193254100</td>\n",
              "      <td>Tue Jun 16 08:12:22 PDT 2009</td>\n",
              "      <td>NO_QUERY</td>\n",
              "      <td>SoozieCurlz</td>\n",
              "      <td>Morning! Yeeessssssss new Mimi in Aug</td>\n",
              "    </tr>\n",
              "    <tr>\n",
              "      <th>1165790</th>\n",
              "      <td>4</td>\n",
              "      <td>1979874692</td>\n",
              "      <td>Sun May 31 04:51:15 PDT 2009</td>\n",
              "      <td>NO_QUERY</td>\n",
              "      <td>inox1</td>\n",
              "      <td>GUESS - who's that &amp;quot;photographer&amp;quot;?  ...</td>\n",
              "    </tr>\n",
              "    <tr>\n",
              "      <th>1063727</th>\n",
              "      <td>4</td>\n",
              "      <td>1964525626</td>\n",
              "      <td>Fri May 29 14:22:32 PDT 2009</td>\n",
              "      <td>NO_QUERY</td>\n",
              "      <td>Kimmie757</td>\n",
              "      <td>Aint been out Va Beach in a minute.... But I'm...</td>\n",
              "    </tr>\n",
              "    <tr>\n",
              "      <th>1243797</th>\n",
              "      <td>4</td>\n",
              "      <td>1994672487</td>\n",
              "      <td>Mon Jun 01 12:16:51 PDT 2009</td>\n",
              "      <td>NO_QUERY</td>\n",
              "      <td>VinayNagaraju</td>\n",
              "      <td>@HDevatha Learning to tweet  eh ?</td>\n",
              "    </tr>\n",
              "  </tbody>\n",
              "</table>\n",
              "</div>\n",
              "    <div class=\"colab-df-buttons\">\n",
              "\n",
              "  <div class=\"colab-df-container\">\n",
              "    <button class=\"colab-df-convert\" onclick=\"convertToInteractive('df-c4d5bca6-e090-447d-9062-a2f5e8ce13b2')\"\n",
              "            title=\"Convert this dataframe to an interactive table.\"\n",
              "            style=\"display:none;\">\n",
              "\n",
              "  <svg xmlns=\"http://www.w3.org/2000/svg\" height=\"24px\" viewBox=\"0 -960 960 960\">\n",
              "    <path d=\"M120-120v-720h720v720H120Zm60-500h600v-160H180v160Zm220 220h160v-160H400v160Zm0 220h160v-160H400v160ZM180-400h160v-160H180v160Zm440 0h160v-160H620v160ZM180-180h160v-160H180v160Zm440 0h160v-160H620v160Z\"/>\n",
              "  </svg>\n",
              "    </button>\n",
              "\n",
              "  <style>\n",
              "    .colab-df-container {\n",
              "      display:flex;\n",
              "      gap: 12px;\n",
              "    }\n",
              "\n",
              "    .colab-df-convert {\n",
              "      background-color: #E8F0FE;\n",
              "      border: none;\n",
              "      border-radius: 50%;\n",
              "      cursor: pointer;\n",
              "      display: none;\n",
              "      fill: #1967D2;\n",
              "      height: 32px;\n",
              "      padding: 0 0 0 0;\n",
              "      width: 32px;\n",
              "    }\n",
              "\n",
              "    .colab-df-convert:hover {\n",
              "      background-color: #E2EBFA;\n",
              "      box-shadow: 0px 1px 2px rgba(60, 64, 67, 0.3), 0px 1px 3px 1px rgba(60, 64, 67, 0.15);\n",
              "      fill: #174EA6;\n",
              "    }\n",
              "\n",
              "    .colab-df-buttons div {\n",
              "      margin-bottom: 4px;\n",
              "    }\n",
              "\n",
              "    [theme=dark] .colab-df-convert {\n",
              "      background-color: #3B4455;\n",
              "      fill: #D2E3FC;\n",
              "    }\n",
              "\n",
              "    [theme=dark] .colab-df-convert:hover {\n",
              "      background-color: #434B5C;\n",
              "      box-shadow: 0px 1px 3px 1px rgba(0, 0, 0, 0.15);\n",
              "      filter: drop-shadow(0px 1px 2px rgba(0, 0, 0, 0.3));\n",
              "      fill: #FFFFFF;\n",
              "    }\n",
              "  </style>\n",
              "\n",
              "    <script>\n",
              "      const buttonEl =\n",
              "        document.querySelector('#df-c4d5bca6-e090-447d-9062-a2f5e8ce13b2 button.colab-df-convert');\n",
              "      buttonEl.style.display =\n",
              "        google.colab.kernel.accessAllowed ? 'block' : 'none';\n",
              "\n",
              "      async function convertToInteractive(key) {\n",
              "        const element = document.querySelector('#df-c4d5bca6-e090-447d-9062-a2f5e8ce13b2');\n",
              "        const dataTable =\n",
              "          await google.colab.kernel.invokeFunction('convertToInteractive',\n",
              "                                                    [key], {});\n",
              "        if (!dataTable) return;\n",
              "\n",
              "        const docLinkHtml = 'Like what you see? Visit the ' +\n",
              "          '<a target=\"_blank\" href=https://colab.research.google.com/notebooks/data_table.ipynb>data table notebook</a>'\n",
              "          + ' to learn more about interactive tables.';\n",
              "        element.innerHTML = '';\n",
              "        dataTable['output_type'] = 'display_data';\n",
              "        await google.colab.output.renderOutput(dataTable, element);\n",
              "        const docLink = document.createElement('div');\n",
              "        docLink.innerHTML = docLinkHtml;\n",
              "        element.appendChild(docLink);\n",
              "      }\n",
              "    </script>\n",
              "  </div>\n",
              "\n",
              "\n",
              "<div id=\"df-15f7880c-44fd-4611-8756-90612132199a\">\n",
              "  <button class=\"colab-df-quickchart\" onclick=\"quickchart('df-15f7880c-44fd-4611-8756-90612132199a')\"\n",
              "            title=\"Suggest charts.\"\n",
              "            style=\"display:none;\">\n",
              "\n",
              "<svg xmlns=\"http://www.w3.org/2000/svg\" height=\"24px\"viewBox=\"0 0 24 24\"\n",
              "     width=\"24px\">\n",
              "    <g>\n",
              "        <path d=\"M19 3H5c-1.1 0-2 .9-2 2v14c0 1.1.9 2 2 2h14c1.1 0 2-.9 2-2V5c0-1.1-.9-2-2-2zM9 17H7v-7h2v7zm4 0h-2V7h2v10zm4 0h-2v-4h2v4z\"/>\n",
              "    </g>\n",
              "</svg>\n",
              "  </button>\n",
              "\n",
              "<style>\n",
              "  .colab-df-quickchart {\n",
              "      --bg-color: #E8F0FE;\n",
              "      --fill-color: #1967D2;\n",
              "      --hover-bg-color: #E2EBFA;\n",
              "      --hover-fill-color: #174EA6;\n",
              "      --disabled-fill-color: #AAA;\n",
              "      --disabled-bg-color: #DDD;\n",
              "  }\n",
              "\n",
              "  [theme=dark] .colab-df-quickchart {\n",
              "      --bg-color: #3B4455;\n",
              "      --fill-color: #D2E3FC;\n",
              "      --hover-bg-color: #434B5C;\n",
              "      --hover-fill-color: #FFFFFF;\n",
              "      --disabled-bg-color: #3B4455;\n",
              "      --disabled-fill-color: #666;\n",
              "  }\n",
              "\n",
              "  .colab-df-quickchart {\n",
              "    background-color: var(--bg-color);\n",
              "    border: none;\n",
              "    border-radius: 50%;\n",
              "    cursor: pointer;\n",
              "    display: none;\n",
              "    fill: var(--fill-color);\n",
              "    height: 32px;\n",
              "    padding: 0;\n",
              "    width: 32px;\n",
              "  }\n",
              "\n",
              "  .colab-df-quickchart:hover {\n",
              "    background-color: var(--hover-bg-color);\n",
              "    box-shadow: 0 1px 2px rgba(60, 64, 67, 0.3), 0 1px 3px 1px rgba(60, 64, 67, 0.15);\n",
              "    fill: var(--button-hover-fill-color);\n",
              "  }\n",
              "\n",
              "  .colab-df-quickchart-complete:disabled,\n",
              "  .colab-df-quickchart-complete:disabled:hover {\n",
              "    background-color: var(--disabled-bg-color);\n",
              "    fill: var(--disabled-fill-color);\n",
              "    box-shadow: none;\n",
              "  }\n",
              "\n",
              "  .colab-df-spinner {\n",
              "    border: 2px solid var(--fill-color);\n",
              "    border-color: transparent;\n",
              "    border-bottom-color: var(--fill-color);\n",
              "    animation:\n",
              "      spin 1s steps(1) infinite;\n",
              "  }\n",
              "\n",
              "  @keyframes spin {\n",
              "    0% {\n",
              "      border-color: transparent;\n",
              "      border-bottom-color: var(--fill-color);\n",
              "      border-left-color: var(--fill-color);\n",
              "    }\n",
              "    20% {\n",
              "      border-color: transparent;\n",
              "      border-left-color: var(--fill-color);\n",
              "      border-top-color: var(--fill-color);\n",
              "    }\n",
              "    30% {\n",
              "      border-color: transparent;\n",
              "      border-left-color: var(--fill-color);\n",
              "      border-top-color: var(--fill-color);\n",
              "      border-right-color: var(--fill-color);\n",
              "    }\n",
              "    40% {\n",
              "      border-color: transparent;\n",
              "      border-right-color: var(--fill-color);\n",
              "      border-top-color: var(--fill-color);\n",
              "    }\n",
              "    60% {\n",
              "      border-color: transparent;\n",
              "      border-right-color: var(--fill-color);\n",
              "    }\n",
              "    80% {\n",
              "      border-color: transparent;\n",
              "      border-right-color: var(--fill-color);\n",
              "      border-bottom-color: var(--fill-color);\n",
              "    }\n",
              "    90% {\n",
              "      border-color: transparent;\n",
              "      border-bottom-color: var(--fill-color);\n",
              "    }\n",
              "  }\n",
              "</style>\n",
              "\n",
              "  <script>\n",
              "    async function quickchart(key) {\n",
              "      const quickchartButtonEl =\n",
              "        document.querySelector('#' + key + ' button');\n",
              "      quickchartButtonEl.disabled = true;  // To prevent multiple clicks.\n",
              "      quickchartButtonEl.classList.add('colab-df-spinner');\n",
              "      try {\n",
              "        const charts = await google.colab.kernel.invokeFunction(\n",
              "            'suggestCharts', [key], {});\n",
              "      } catch (error) {\n",
              "        console.error('Error during call to suggestCharts:', error);\n",
              "      }\n",
              "      quickchartButtonEl.classList.remove('colab-df-spinner');\n",
              "      quickchartButtonEl.classList.add('colab-df-quickchart-complete');\n",
              "    }\n",
              "    (() => {\n",
              "      let quickchartButtonEl =\n",
              "        document.querySelector('#df-15f7880c-44fd-4611-8756-90612132199a button');\n",
              "      quickchartButtonEl.style.display =\n",
              "        google.colab.kernel.accessAllowed ? 'block' : 'none';\n",
              "    })();\n",
              "  </script>\n",
              "</div>\n",
              "    </div>\n",
              "  </div>\n"
            ]
          },
          "metadata": {},
          "execution_count": 25
        }
      ]
    },
    {
      "cell_type": "code",
      "source": [
        "print(\"Dataset size:\", len(df))"
      ],
      "metadata": {
        "colab": {
          "base_uri": "https://localhost:8080/"
        },
        "id": "mvXC0EZieMpz",
        "outputId": "199349cd-1050-4a4e-95ef-22d48c2af900"
      },
      "execution_count": null,
      "outputs": [
        {
          "output_type": "stream",
          "name": "stdout",
          "text": [
            "Dataset size: 1600000\n"
          ]
        }
      ]
    },
    {
      "cell_type": "code",
      "source": [
        "decode_map = {0: \"NEGATIVE\", 2: \"NEUTRAL\", 4: \"POSITIVE\"}\n",
        "def decode_sentiment(label):\n",
        "    return decode_map[int(label)]"
      ],
      "metadata": {
        "id": "cPHijdrFeQ-F"
      },
      "execution_count": null,
      "outputs": []
    },
    {
      "cell_type": "code",
      "source": [
        "%%time\n",
        "df.target = df.target.apply(lambda x: decode_sentiment(x))"
      ],
      "metadata": {
        "colab": {
          "base_uri": "https://localhost:8080/"
        },
        "id": "2dSclB4neWip",
        "outputId": "d2bbf719-f841-4aa8-890a-1f50ba836d32"
      },
      "execution_count": null,
      "outputs": [
        {
          "output_type": "stream",
          "name": "stdout",
          "text": [
            "CPU times: user 385 ms, sys: 18 ms, total: 403 ms\n",
            "Wall time: 399 ms\n"
          ]
        }
      ]
    },
    {
      "cell_type": "code",
      "source": [
        "target_cnt = Counter(df.target)\n",
        "\n",
        "plt.figure(figsize=(16,8))\n",
        "plt.bar(target_cnt.keys(), target_cnt.values())\n",
        "plt.title(\"Dataset labels distribuition\")"
      ],
      "metadata": {
        "colab": {
          "base_uri": "https://localhost:8080/",
          "height": 609
        },
        "id": "oAqsXl_oeZ88",
        "outputId": "4bf6af18-80b7-4215-cc68-485d360eaa91"
      },
      "execution_count": null,
      "outputs": [
        {
          "output_type": "execute_result",
          "data": {
            "text/plain": [
              "Text(0.5, 1.0, 'Dataset labels distribuition')"
            ]
          },
          "metadata": {},
          "execution_count": 29
        },
        {
          "output_type": "display_data",
          "data": {
            "text/plain": [
              "<Figure size 1600x800 with 1 Axes>"
            ],
            "image/png": "[encoded data removed]"
          },
          "metadata": {}
        }
      ]
    },
    {
      "cell_type": "code",
      "source": [
        "stop_words = stopwords.words(\"english\")\n",
        "stemmer = SnowballStemmer(\"english\")"
      ],
      "metadata": {
        "id": "HkywlnkEedNg"
      },
      "execution_count": null,
      "outputs": []
    },
    {
      "cell_type": "code",
      "source": [
        "def preprocess(text, stem=False):\n",
        "    # Remove link,user and special characters\n",
        "    text = re.sub(TEXT_CLEANING_RE, ' ', str(text).lower()).strip()\n",
        "    tokens = []\n",
        "    for token in text.split():\n",
        "        if token not in stop_words:\n",
        "            if stem:\n",
        "                tokens.append(stemmer.stem(token))\n",
        "            else:\n",
        "                tokens.append(token)\n",
        "    return \" \".join(tokens)"
      ],
      "metadata": {
        "id": "VjcAiZLfeiUF"
      },
      "execution_count": null,
      "outputs": []
    },
    {
      "cell_type": "code",
      "source": [
        "%%time\n",
        "df.text = df.text.apply(lambda x: preprocess(x))"
      ],
      "metadata": {
        "colab": {
          "base_uri": "https://localhost:8080/"
        },
        "id": "6iEIy6i_emZa",
        "outputId": "b72e4309-4d2e-4f7c-a79e-274c94bc8122"
      },
      "execution_count": null,
      "outputs": [
        {
          "output_type": "stream",
          "name": "stdout",
          "text": [
            "CPU times: user 51.8 s, sys: 194 ms, total: 52 s\n",
            "Wall time: 55.4 s\n"
          ]
        }
      ]
    },
    {
      "cell_type": "code",
      "source": [
        "df_train, df_test = train_test_split(df, test_size=1-TRAIN_SIZE, random_state=42)\n",
        "print(\"TRAIN size:\", len(df_train))\n",
        "print(\"TEST size:\", len(df_test))"
      ],
      "metadata": {
        "colab": {
          "base_uri": "https://localhost:8080/"
        },
        "id": "60S12nwPepcH",
        "outputId": "cd17c70c-3b12-4083-fee9-93930e6e759c"
      },
      "execution_count": null,
      "outputs": [
        {
          "output_type": "stream",
          "name": "stdout",
          "text": [
            "TRAIN size: 1280000\n",
            "TEST size: 320000\n"
          ]
        }
      ]
    },
    {
      "cell_type": "code",
      "source": [
        "%%time\n",
        "documents = [_text.split() for _text in df_train.text]"
      ],
      "metadata": {
        "colab": {
          "base_uri": "https://localhost:8080/"
        },
        "id": "wKTTBeLKe5EE",
        "outputId": "0f869adf-ec74-41ff-e59d-a2cdb6a2c219"
      },
      "execution_count": null,
      "outputs": [
        {
          "output_type": "stream",
          "name": "stdout",
          "text": [
            "CPU times: user 3.82 s, sys: 350 ms, total: 4.17 s\n",
            "Wall time: 4.91 s\n"
          ]
        }
      ]
    },
    {
      "cell_type": "code",
      "source": [
        "w2v_model = gensim.models.word2vec.Word2Vec(vector_size=W2V_SIZE,\n",
        "                                            window=W2V_WINDOW,\n",
        "                                            min_count=W2V_MIN_COUNT,\n",
        "                                            workers=8)"
      ],
      "metadata": {
        "id": "VP80FrOvglSs"
      },
      "execution_count": null,
      "outputs": []
    },
    {
      "cell_type": "code",
      "source": [
        "w2v_model.build_vocab(documents)"
      ],
      "metadata": {
        "id": "7Py8bvQrgozH"
      },
      "execution_count": null,
      "outputs": []
    },
    {
      "cell_type": "code",
      "source": [
        "%%time\n",
        "tokenizer = Tokenizer()\n",
        "tokenizer.fit_on_texts(df_train.text)\n",
        "\n",
        "vocab_size = len(tokenizer.word_index) + 1\n",
        "print(\"Total words\", vocab_size)"
      ],
      "metadata": {
        "colab": {
          "base_uri": "https://localhost:8080/"
        },
        "id": "ReznkVVahK4M",
        "outputId": "de7e7ccf-c8be-4e76-f67e-cc4f06ce8445"
      },
      "execution_count": null,
      "outputs": [
        {
          "output_type": "stream",
          "name": "stdout",
          "text": [
            "Total words 290775\n",
            "CPU times: user 17.4 s, sys: 91.5 ms, total: 17.5 s\n",
            "Wall time: 17.8 s\n"
          ]
        }
      ]
    },
    {
      "cell_type": "code",
      "source": [
        "%%time\n",
        "x_train = pad_sequences(tokenizer.texts_to_sequences(df_train.text), maxlen=SEQUENCE_LENGTH)\n",
        "x_test = pad_sequences(tokenizer.texts_to_sequences(df_test.text), maxlen=SEQUENCE_LENGTH)"
      ],
      "metadata": {
        "colab": {
          "base_uri": "https://localhost:8080/"
        },
        "id": "Bs-c4KoZhURr",
        "outputId": "5b4d3a4e-98a7-44bb-d8bc-3b4d4b40a3aa"
      },
      "execution_count": null,
      "outputs": [
        {
          "output_type": "stream",
          "name": "stdout",
          "text": [
            "CPU times: user 24.2 s, sys: 494 ms, total: 24.7 s\n",
            "Wall time: 26.3 s\n"
          ]
        }
      ]
    },
    {
      "cell_type": "code",
      "source": [
        "labels = df_train.target.unique().tolist()\n",
        "labels.append(NEUTRAL)\n",
        "labels"
      ],
      "metadata": {
        "colab": {
          "base_uri": "https://localhost:8080/"
        },
        "id": "jY5_4nfoiOEf",
        "outputId": "4e14bbb3-9bfb-439a-ae46-517b2b42f8ee"
      },
      "execution_count": null,
      "outputs": [
        {
          "output_type": "execute_result",
          "data": {
            "text/plain": [
              "['NEGATIVE', 'POSITIVE', 'NEUTRAL']"
            ]
          },
          "metadata": {},
          "execution_count": 43
        }
      ]
    },
    {
      "cell_type": "code",
      "source": [
        "encoder = LabelEncoder()\n",
        "encoder.fit(df_train.target.tolist())\n",
        "\n",
        "y_train = encoder.transform(df_train.target.tolist())\n",
        "y_test = encoder.transform(df_test.target.tolist())\n",
        "\n",
        "y_train = y_train.reshape(-1,1)\n",
        "y_test = y_test.reshape(-1,1)\n",
        "\n",
        "print(\"y_train\",y_train.shape)\n",
        "print(\"y_test\",y_test.shape)"
      ],
      "metadata": {
        "colab": {
          "base_uri": "https://localhost:8080/"
        },
        "id": "r0B2Fx8JiV8g",
        "outputId": "d3d317ce-ec0e-4bf8-e29c-50110734df33"
      },
      "execution_count": null,
      "outputs": [
        {
          "output_type": "stream",
          "name": "stdout",
          "text": [
            "y_train (1280000, 1)\n",
            "y_test (320000, 1)\n"
          ]
        }
      ]
    },
    {
      "cell_type": "code",
      "source": [
        "print(\"x_train\", x_train.shape)\n",
        "print(\"y_train\", y_train.shape)\n",
        "print()\n",
        "print(\"x_test\", x_test.shape)\n",
        "print(\"y_test\", y_test.shape)"
      ],
      "metadata": {
        "colab": {
          "base_uri": "https://localhost:8080/"
        },
        "id": "kBYit9CaiXFi",
        "outputId": "3a186a00-4215-496e-9c22-746f133e90fc"
      },
      "execution_count": null,
      "outputs": [
        {
          "output_type": "stream",
          "name": "stdout",
          "text": [
            "x_train (1280000, 300)\n",
            "y_train (1280000, 1)\n",
            "\n",
            "x_test (320000, 300)\n",
            "y_test (320000, 1)\n"
          ]
        }
      ]
    },
    {
      "cell_type": "code",
      "source": [
        "y_train[:10]"
      ],
      "metadata": {
        "colab": {
          "base_uri": "https://localhost:8080/"
        },
        "id": "IDlGT5xEiatx",
        "outputId": "f4298d06-01c2-45cc-db23-a22ad5ed379a"
      },
      "execution_count": null,
      "outputs": [
        {
          "output_type": "execute_result",
          "data": {
            "text/plain": [
              "array([[0],\n",
              "       [1],\n",
              "       [0],\n",
              "       [0],\n",
              "       [0],\n",
              "       [1],\n",
              "       [0],\n",
              "       [1],\n",
              "       [0],\n",
              "       [0]])"
            ]
          },
          "metadata": {},
          "execution_count": 46
        }
      ]
    },
    {
      "cell_type": "code",
      "source": [
        "embedding_matrix = np.zeros((vocab_size, W2V_SIZE))\n",
        "for word, i in tokenizer.word_index.items():\n",
        "  if word in w2v_model.wv:\n",
        "    embedding_matrix[i] = w2v_model.wv[word]\n",
        "print(embedding_matrix.shape)"
      ],
      "metadata": {
        "colab": {
          "base_uri": "https://localhost:8080/"
        },
        "id": "9PkhegvPid9K",
        "outputId": "4375bc59-f39e-4758-aa16-d60ee1678df5"
      },
      "execution_count": null,
      "outputs": [
        {
          "output_type": "stream",
          "name": "stdout",
          "text": [
            "(290775, 300)\n"
          ]
        }
      ]
    },
    {
      "cell_type": "code",
      "source": [
        "embedding_layer = Embedding(vocab_size, W2V_SIZE, weights=[embedding_matrix], input_length=SEQUENCE_LENGTH, trainable=False)"
      ],
      "metadata": {
        "id": "x3lXoT97igrO"
      },
      "execution_count": null,
      "outputs": []
    },
    {
      "cell_type": "code",
      "source": [
        "model = Sequential()\n",
        "model.add(embedding_layer)\n",
        "model.add(Dropout(0.5))\n",
        "model.add(LSTM(100, dropout=0.2, recurrent_dropout=0.2))\n",
        "model.add(Dense(1, activation='sigmoid'))\n",
        "\n",
        "model.summary()"
      ],
      "metadata": {
        "colab": {
          "base_uri": "https://localhost:8080/"
        },
        "id": "P9RY5Uboijog",
        "outputId": "6c1596b9-6608-4fe6-ecbb-4f2194e985b0"
      },
      "execution_count": null,
      "outputs": [
        {
          "output_type": "stream",
          "name": "stderr",
          "text": [
            "WARNING:tensorflow:Layer lstm will not use cuDNN kernels since it doesn't meet the criteria. It will use a generic GPU kernel as fallback when running on GPU.\n"
          ]
        },
        {
          "output_type": "stream",
          "name": "stdout",
          "text": [
            "Model: \"sequential\"\n",
            "_________________________________________________________________\n",
            " Layer (type)                Output Shape              Param #   \n",
            "=================================================================\n",
            " embedding (Embedding)       (None, 300, 300)          87232500  \n",
            "                                                                 \n",
            " dropout (Dropout)           (None, 300, 300)          0         \n",
            "                                                                 \n",
            " lstm (LSTM)                 (None, 100)               160400    \n",
            "                                                                 \n",
            " dense (Dense)               (None, 1)                 101       \n",
            "                                                                 \n",
            "=================================================================\n",
            "Total params: 87,393,001\n",
            "Trainable params: 160,501\n",
            "Non-trainable params: 87,232,500\n",
            "_________________________________________________________________\n"
          ]
        }
      ]
    },
    {
      "cell_type": "code",
      "source": [
        "model.compile(loss='binary_crossentropy',\n",
        "              optimizer=\"adam\",\n",
        "              metrics=['accuracy'])"
      ],
      "metadata": {
        "id": "SqiLfAd7imAU"
      },
      "execution_count": null,
      "outputs": []
    },
    {
      "cell_type": "code",
      "source": [
        "callbacks = [ ReduceLROnPlateau(monitor='val_loss', patience=5, cooldown=0),\n",
        "              EarlyStopping(monitor='val_acc', min_delta=1e-4, patience=5)]"
      ],
      "metadata": {
        "id": "1lgGayZpiqA4"
      },
      "execution_count": null,
      "outputs": []
    },
    {
      "cell_type": "code",
      "source": [
        "%%time\n",
        "history = model.fit(x_train, y_train,\n",
        "                    batch_size=BATCH_SIZE,\n",
        "                    epochs=EPOCHS,\n",
        "                    validation_split=0.1,\n",
        "                    verbose=1,\n",
        "                    callbacks=callbacks)"
      ],
      "metadata": {
        "colab": {
          "base_uri": "https://localhost:8080/"
        },
        "id": "_jPPESwQiuVh",
        "outputId": "8bb14c29-68a1-4d9c-f66f-c00277a6c490"
      },
      "execution_count": null,
      "outputs": [
        {
          "output_type": "stream",
          "name": "stdout",
          "text": [
            "Epoch 1/8\n",
            "1125/1125 [==============================] - ETA: 0s - loss: 0.6733 - accuracy: 0.5816"
          ]
        },
        {
          "output_type": "stream",
          "name": "stderr",
          "text": [
            "WARNING:tensorflow:Early stopping conditioned on metric `val_acc` which is not available. Available metrics are: loss,accuracy,val_loss,val_accuracy,lr\n"
          ]
        },
        {
          "output_type": "stream",
          "name": "stdout",
          "text": [
            "\b\b\b\b\b\b\b\b\b\b\b\b\b\b\b\b\b\b\b\b\b\b\b\b\b\b\b\b\b\b\b\b\b\b\b\b\b\b\b\b\b\b\b\b\b\b\b\b\b\b\b\b\b\b\b\b\b\b\b\b\b\b\b\b\b\b\b\b\b\b\b\b\b\b\b\b\b\b\b\b\b\b\b\b\b\b\r1125/1125 [==============================] - 585s 514ms/step - loss: 0.6733 - accuracy: 0.5816 - val_loss: 0.6486 - val_accuracy: 0.6356 - lr: 0.0010\n",
            "Epoch 2/8\n",
            "1125/1125 [==============================] - ETA: 0s - loss: 0.6605 - accuracy: 0.6027"
          ]
        },
        {
          "output_type": "stream",
          "name": "stderr",
          "text": [
            "WARNING:tensorflow:Early stopping conditioned on metric `val_acc` which is not available. Available metrics are: loss,accuracy,val_loss,val_accuracy,lr\n"
          ]
        },
        {
          "output_type": "stream",
          "name": "stdout",
          "text": [
            "\b\b\b\b\b\b\b\b\b\b\b\b\b\b\b\b\b\b\b\b\b\b\b\b\b\b\b\b\b\b\b\b\b\b\b\b\b\b\b\b\b\b\b\b\b\b\b\b\b\b\b\b\b\b\b\b\b\b\b\b\b\b\b\b\b\b\b\b\b\b\b\b\b\b\b\b\b\b\b\b\b\b\b\b\b\b\r1125/1125 [==============================] - 579s 514ms/step - loss: 0.6605 - accuracy: 0.6027 - val_loss: 0.6440 - val_accuracy: 0.6375 - lr: 0.0010\n",
            "Epoch 3/8\n",
            "1125/1125 [==============================] - ETA: 0s - loss: 0.6591 - accuracy: 0.6036"
          ]
        },
        {
          "output_type": "stream",
          "name": "stderr",
          "text": [
            "WARNING:tensorflow:Early stopping conditioned on metric `val_acc` which is not available. Available metrics are: loss,accuracy,val_loss,val_accuracy,lr\n"
          ]
        },
        {
          "output_type": "stream",
          "name": "stdout",
          "text": [
            "\b\b\b\b\b\b\b\b\b\b\b\b\b\b\b\b\b\b\b\b\b\b\b\b\b\b\b\b\b\b\b\b\b\b\b\b\b\b\b\b\b\b\b\b\b\b\b\b\b\b\b\b\b\b\b\b\b\b\b\b\b\b\b\b\b\b\b\b\b\b\b\b\b\b\b\b\b\b\b\b\b\b\b\b\b\b\r1125/1125 [==============================] - 572s 508ms/step - loss: 0.6591 - accuracy: 0.6036 - val_loss: 0.6425 - val_accuracy: 0.6398 - lr: 0.0010\n",
            "Epoch 4/8\n",
            "1125/1125 [==============================] - ETA: 0s - loss: 0.6557 - accuracy: 0.6076"
          ]
        },
        {
          "output_type": "stream",
          "name": "stderr",
          "text": [
            "WARNING:tensorflow:Early stopping conditioned on metric `val_acc` which is not available. Available metrics are: loss,accuracy,val_loss,val_accuracy,lr\n"
          ]
        },
        {
          "output_type": "stream",
          "name": "stdout",
          "text": [
            "\b\b\b\b\b\b\b\b\b\b\b\b\b\b\b\b\b\b\b\b\b\b\b\b\b\b\b\b\b\b\b\b\b\b\b\b\b\b\b\b\b\b\b\b\b\b\b\b\b\b\b\b\b\b\b\b\b\b\b\b\b\b\b\b\b\b\b\b\b\b\b\b\b\b\b\b\b\b\b\b\b\b\b\b\b\b\r1125/1125 [==============================] - 595s 529ms/step - loss: 0.6557 - accuracy: 0.6076 - val_loss: 0.6341 - val_accuracy: 0.6470 - lr: 0.0010\n",
            "Epoch 5/8\n",
            "1125/1125 [==============================] - ETA: 0s - loss: 0.6527 - accuracy: 0.6101"
          ]
        },
        {
          "output_type": "stream",
          "name": "stderr",
          "text": [
            "WARNING:tensorflow:Early stopping conditioned on metric `val_acc` which is not available. Available metrics are: loss,accuracy,val_loss,val_accuracy,lr\n"
          ]
        },
        {
          "output_type": "stream",
          "name": "stdout",
          "text": [
            "\b\b\b\b\b\b\b\b\b\b\b\b\b\b\b\b\b\b\b\b\b\b\b\b\b\b\b\b\b\b\b\b\b\b\b\b\b\b\b\b\b\b\b\b\b\b\b\b\b\b\b\b\b\b\b\b\b\b\b\b\b\b\b\b\b\b\b\b\b\b\b\b\b\b\b\b\b\b\b\b\b\b\b\b\b\b\r1125/1125 [==============================] - 599s 532ms/step - loss: 0.6527 - accuracy: 0.6101 - val_loss: 0.6317 - val_accuracy: 0.6497 - lr: 0.0010\n",
            "Epoch 6/8\n",
            "1125/1125 [==============================] - ETA: 0s - loss: 0.6470 - accuracy: 0.6156"
          ]
        },
        {
          "output_type": "stream",
          "name": "stderr",
          "text": [
            "WARNING:tensorflow:Early stopping conditioned on metric `val_acc` which is not available. Available metrics are: loss,accuracy,val_loss,val_accuracy,lr\n"
          ]
        },
        {
          "output_type": "stream",
          "name": "stdout",
          "text": [
            "\b\b\b\b\b\b\b\b\b\b\b\b\b\b\b\b\b\b\b\b\b\b\b\b\b\b\b\b\b\b\b\b\b\b\b\b\b\b\b\b\b\b\b\b\b\b\b\b\b\b\b\b\b\b\b\b\b\b\b\b\b\b\b\b\b\b\b\b\b\b\b\b\b\b\b\b\b\b\b\b\b\b\b\b\b\b\r1125/1125 [==============================] - 583s 518ms/step - loss: 0.6470 - accuracy: 0.6156 - val_loss: 0.6265 - val_accuracy: 0.6508 - lr: 0.0010\n",
            "Epoch 7/8\n",
            "1125/1125 [==============================] - ETA: 0s - loss: 0.6424 - accuracy: 0.6208"
          ]
        },
        {
          "output_type": "stream",
          "name": "stderr",
          "text": [
            "WARNING:tensorflow:Early stopping conditioned on metric `val_acc` which is not available. Available metrics are: loss,accuracy,val_loss,val_accuracy,lr\n"
          ]
        },
        {
          "output_type": "stream",
          "name": "stdout",
          "text": [
            "\b\b\b\b\b\b\b\b\b\b\b\b\b\b\b\b\b\b\b\b\b\b\b\b\b\b\b\b\b\b\b\b\b\b\b\b\b\b\b\b\b\b\b\b\b\b\b\b\b\b\b\b\b\b\b\b\b\b\b\b\b\b\b\b\b\b\b\b\b\b\b\b\b\b\b\b\b\b\b\b\b\b\b\b\b\b\r1125/1125 [==============================] - 580s 516ms/step - loss: 0.6424 - accuracy: 0.6208 - val_loss: 0.6214 - val_accuracy: 0.6555 - lr: 0.0010\n",
            "Epoch 8/8\n",
            "1125/1125 [==============================] - ETA: 0s - loss: 0.6377 - accuracy: 0.6258"
          ]
        },
        {
          "output_type": "stream",
          "name": "stderr",
          "text": [
            "WARNING:tensorflow:Early stopping conditioned on metric `val_acc` which is not available. Available metrics are: loss,accuracy,val_loss,val_accuracy,lr\n"
          ]
        },
        {
          "output_type": "stream",
          "name": "stdout",
          "text": [
            "\b\b\b\b\b\b\b\b\b\b\b\b\b\b\b\b\b\b\b\b\b\b\b\b\b\b\b\b\b\b\b\b\b\b\b\b\b\b\b\b\b\b\b\b\b\b\b\b\b\b\b\b\b\b\b\b\b\b\b\b\b\b\b\b\b\b\b\b\b\b\b\b\b\b\b\b\b\b\b\b\b\b\b\b\b\b\r1125/1125 [==============================] - 580s 515ms/step - loss: 0.6377 - accuracy: 0.6258 - val_loss: 0.6161 - val_accuracy: 0.6627 - lr: 0.0010\n",
            "CPU times: user 1h 26min 15s, sys: 3min 8s, total: 1h 29min 23s\n",
            "Wall time: 1h 18min 25s\n"
          ]
        }
      ]
    },
    {
      "cell_type": "code",
      "source": [
        "%%time\n",
        "score = model.evaluate(x_test, y_test, batch_size=BATCH_SIZE)\n",
        "print()\n",
        "print(\"ACCURACY:\",score[1])\n",
        "print(\"LOSS:\",score[0])"
      ],
      "metadata": {
        "colab": {
          "base_uri": "https://localhost:8080/"
        },
        "id": "5fbGv2a0ixHN",
        "outputId": "684f1007-9228-440e-e0eb-bb671692e617"
      },
      "execution_count": null,
      "outputs": [
        {
          "output_type": "stream",
          "name": "stdout",
          "text": [
            "313/313 [==============================] - 34s 108ms/step - loss: 0.6159 - accuracy: 0.6612\n",
            "\n",
            "ACCURACY: 0.6611937284469604\n",
            "LOSS: 0.6158887147903442\n",
            "CPU times: user 30.2 s, sys: 2.09 s, total: 32.3 s\n",
            "Wall time: 41.5 s\n"
          ]
        }
      ]
    },
    {
      "cell_type": "code",
      "source": [
        "def plot_acc_loss(history):\n",
        "\n",
        "    acc = history.history['accuracy']\n",
        "    val_acc = history.history['val_accuracy']\n",
        "    loss = history.history['loss']\n",
        "    val_loss = history.history['val_loss']\n",
        "    epochs = range(1, len(acc) + 1)\n",
        "\n",
        "    plt.plot(epochs, acc, 'bo', label = 'Training Accuracy')\n",
        "    plt.plot(epochs, val_acc, 'r', label = 'Validation Accuracy')\n",
        "    plt.title('Training and Validation Accuracy')\n",
        "    plt.xlabel('Epochs')\n",
        "    plt.ylabel('Loss')\n",
        "    plt.legend()\n",
        "\n",
        "    plt.figure()\n",
        "    plt.plot(epochs, loss, 'bo', label = 'Training Loss')\n",
        "    plt.plot(epochs, val_loss, 'r', label = 'Validation Loss')\n",
        "    plt.title('Training and Validation Loss')\n",
        "    plt.xlabel('Epochs')\n",
        "    plt.ylabel('Loss')\n",
        "    plt.legend()\n",
        "    plt.show()"
      ],
      "metadata": {
        "id": "rI_4_1eF19QL"
      },
      "execution_count": null,
      "outputs": []
    },
    {
      "cell_type": "code",
      "source": [
        "acc = history.history['accuracy']\n",
        "val_acc = history.history['val_accuracy']\n",
        "loss = history.history['loss']\n",
        "val_loss = history.history['val_loss']\n",
        "\n",
        "epochs = range(len(acc))\n",
        "\n",
        "plt.plot(epochs, acc, 'b', label='Training acc')\n",
        "plt.plot(epochs, val_acc, 'r', label='Validation acc')\n",
        "plt.title('Training and validation accuracy')\n",
        "plt.legend()\n",
        "\n",
        "plt.figure()\n",
        "\n",
        "plt.plot(epochs, loss, 'b', label='Training loss')\n",
        "plt.plot(epochs, val_loss, 'r', label='Validation loss')\n",
        "plt.title('Training and validation loss')\n",
        "plt.legend()\n",
        "\n",
        "plt.show()"
      ],
      "metadata": {
        "colab": {
          "base_uri": "https://localhost:8080/",
          "height": 887
        },
        "id": "j9kPlv9BrKDk",
        "outputId": "bbe4d665-b5ae-4f8b-f36f-02862bf91603"
      },
      "execution_count": null,
      "outputs": [
        {
          "output_type": "display_data",
          "data": {
            "text/plain": [
              "<Figure size 640x480 with 1 Axes>"
            ],
            "image/png": "[encoded data removed]"
          },
          "metadata": {}
        },
        {
          "output_type": "display_data",
          "data": {
            "text/plain": [
              "<Figure size 640x480 with 1 Axes>"
            ],
            "image/png": "[encoded data removed]"
          },
          "metadata": {}
        }
      ]
    },
    {
      "cell_type": "code",
      "source": [
        "def decode_sentiment(score, include_neutral=True):\n",
        "    if include_neutral:\n",
        "        label = NEUTRAL\n",
        "        if score <= SENTIMENT_THRESHOLDS[0]:\n",
        "            label = NEGATIVE\n",
        "        elif score >= SENTIMENT_THRESHOLDS[1]:\n",
        "            label = POSITIVE\n",
        "\n",
        "        return label\n",
        "    else:\n",
        "        return NEGATIVE if score < 0.5 else POSITIVE"
      ],
      "metadata": {
        "id": "JcN-dCSJrSHV"
      },
      "execution_count": null,
      "outputs": []
    },
    {
      "cell_type": "code",
      "source": [
        "def predict(text, include_neutral=True):\n",
        "    start_at = time.time()\n",
        "    # Tokenize text\n",
        "    x_test = pad_sequences(tokenizer.texts_to_sequences([text]), maxlen=SEQUENCE_LENGTH)\n",
        "    # Predict\n",
        "    score = model.predict([x_test])[0]\n",
        "    # Decode sentiment\n",
        "    label = decode_sentiment(score, include_neutral=include_neutral)\n",
        "\n",
        "    return {\"label\": label, \"score\": float(score),\n",
        "       \"elapsed_time\": time.time()-start_at}"
      ],
      "metadata": {
        "id": "evr43qttraIU"
      },
      "execution_count": null,
      "outputs": []
    },
    {
      "cell_type": "code",
      "source": [
        "predict(\"Shit happens today\")"
      ],
      "metadata": {
        "colab": {
          "base_uri": "https://localhost:8080/",
          "height": 175
        },
        "id": "FJftWkQnrdjN",
        "outputId": "f026fc30-0b66-41ff-9e4d-510417bf9c34"
      },
      "execution_count": null,
      "outputs": [
        {
          "output_type": "error",
          "ename": "NameError",
          "evalue": "ignored",
          "traceback": [
            "\u001b[0;31m---------------------------------------------------------------------------\u001b[0m",
            "\u001b[0;31mNameError\u001b[0m                                 Traceback (most recent call last)",
            "\u001b[0;32m<ipython-input-1-f18f625c65fd>\u001b[0m in \u001b[0;36m<cell line: 1>\u001b[0;34m()\u001b[0m\n\u001b[0;32m----> 1\u001b[0;31m \u001b[0mpredict\u001b[0m\u001b[0;34m(\u001b[0m\u001b[0;34m\"Shit happens today\"\u001b[0m\u001b[0;34m)\u001b[0m\u001b[0;34m\u001b[0m\u001b[0;34m\u001b[0m\u001b[0m\n\u001b[0m",
            "\u001b[0;31mNameError\u001b[0m: name 'predict' is not defined"
          ]
        }
      ]
    },
    {
      "cell_type": "code",
      "source": [
        "predict(\"I hate the rain\")"
      ],
      "metadata": {
        "colab": {
          "base_uri": "https://localhost:8080/"
        },
        "id": "PFI39TTNrgYD",
        "outputId": "7b3da882-3170-4e3d-8318-e9ced609b514"
      },
      "execution_count": null,
      "outputs": [
        {
          "output_type": "stream",
          "name": "stdout",
          "text": [
            "1/1 [==============================] - 0s 139ms/step\n"
          ]
        },
        {
          "output_type": "execute_result",
          "data": {
            "text/plain": [
              "{'label': 'NEGATIVE',\n",
              " 'score': 0.21698057651519775,\n",
              " 'elapsed_time': 0.19388270378112793}"
            ]
          },
          "metadata": {},
          "execution_count": 61
        }
      ]
    },
    {
      "cell_type": "code",
      "source": [
        "predict(\"i don't know what i'm doing\")"
      ],
      "metadata": {
        "colab": {
          "base_uri": "https://localhost:8080/"
        },
        "id": "1U-7R-mWrjMV",
        "outputId": "318c22b4-1b2a-4d54-833a-98e2366189da"
      },
      "execution_count": null,
      "outputs": [
        {
          "output_type": "stream",
          "name": "stdout",
          "text": [
            "1/1 [==============================] - 0s 93ms/step\n"
          ]
        },
        {
          "output_type": "execute_result",
          "data": {
            "text/plain": [
              "{'label': 'NEUTRAL',\n",
              " 'score': 0.532162070274353,\n",
              " 'elapsed_time': 0.13381719589233398}"
            ]
          },
          "metadata": {},
          "execution_count": 62
        }
      ]
    },
    {
      "cell_type": "code",
      "source": [
        "%%time\n",
        "y_pred_1d = []\n",
        "y_test_1d = list(df_test.target)\n",
        "scores = model.predict(x_test, verbose=1, batch_size=8000)\n",
        "y_pred_1d = [decode_sentiment(score, include_neutral=False) for score in scores]"
      ],
      "metadata": {
        "colab": {
          "base_uri": "https://localhost:8080/"
        },
        "id": "DgPVBAFBrmh9",
        "outputId": "c112d4a8-aa48-418d-b71e-4da51114aba2"
      },
      "execution_count": null,
      "outputs": [
        {
          "output_type": "stream",
          "name": "stdout",
          "text": [
            "40/40 [==============================] - 22s 535ms/step\n",
            "CPU times: user 14.2 s, sys: 8.46 s, total: 22.7 s\n",
            "Wall time: 42.1 s\n"
          ]
        }
      ]
    },
    {
      "cell_type": "code",
      "source": [
        "def plot_confusion_matrix(cm, classes,\n",
        "                          title='Confusion matrix',\n",
        "                          cmap=plt.cm.Blues):\n",
        "    \"\"\"\n",
        "    This function prints and plots the confusion matrix.\n",
        "    Normalization can be applied by setting `normalize=True`.\n",
        "    \"\"\"\n",
        "\n",
        "    cm = cm.astype('float') / cm.sum(axis=1)[:, np.newaxis]\n",
        "\n",
        "    plt.imshow(cm, interpolation='nearest', cmap=cmap)\n",
        "    plt.title(title, fontsize=30)\n",
        "    plt.colorbar()\n",
        "    tick_marks = np.arange(len(classes))\n",
        "    plt.xticks(tick_marks, classes, rotation=90, fontsize=22)\n",
        "    plt.yticks(tick_marks, classes, fontsize=22)\n",
        "\n",
        "    fmt = '.2f'\n",
        "    thresh = cm.max() / 2.\n",
        "    for i, j in itertools.product(range(cm.shape[0]), range(cm.shape[1])):\n",
        "        plt.text(j, i, format(cm[i, j], fmt),\n",
        "                 horizontalalignment=\"center\",\n",
        "                 color=\"white\" if cm[i, j] > thresh else \"black\")\n",
        "\n",
        "    plt.ylabel('True label', fontsize=25)\n",
        "    plt.xlabel('Predicted label', fontsize=25)"
      ],
      "metadata": {
        "id": "8haPIs0grqI5"
      },
      "execution_count": null,
      "outputs": []
    },
    {
      "cell_type": "code",
      "source": [
        "%%time\n",
        "\n",
        "cnf_matrix = confusion_matrix(y_test_1d, y_pred_1d)\n",
        "plt.figure(figsize=(12,12))\n",
        "plot_confusion_matrix(cnf_matrix, classes=df_train.target.unique(), title=\"Confusion matrix\")\n",
        "plt.show()"
      ],
      "metadata": {
        "colab": {
          "base_uri": "https://localhost:8080/",
          "height": 1000
        },
        "id": "K2iYzJTArw4s",
        "outputId": "85935cda-011f-4ddc-c5ba-95ee40db2c75"
      },
      "execution_count": null,
      "outputs": [
        {
          "output_type": "display_data",
          "data": {
            "text/plain": [
              "<Figure size 1200x1200 with 2 Axes>"
            ],
            "image/png": "[encoded data removed]"
          },
          "metadata": {}
        },
        {
          "output_type": "stream",
          "name": "stdout",
          "text": [
            "CPU times: user 1.36 s, sys: 288 ms, total: 1.65 s\n",
            "Wall time: 1.4 s\n"
          ]
        }
      ]
    },
    {
      "cell_type": "code",
      "source": [
        "print(classification_report(y_test_1d, y_pred_1d))"
      ],
      "metadata": {
        "colab": {
          "base_uri": "https://localhost:8080/"
        },
        "id": "4cZ-11pXr0H2",
        "outputId": "a797a7b3-e73b-43d1-d443-aad480f0136e"
      },
      "execution_count": null,
      "outputs": [
        {
          "output_type": "stream",
          "name": "stdout",
          "text": [
            "              precision    recall  f1-score   support\n",
            "\n",
            "    NEGATIVE       0.68      0.60      0.64    159790\n",
            "    POSITIVE       0.64      0.72      0.68    160210\n",
            "\n",
            "    accuracy                           0.66    320000\n",
            "   macro avg       0.66      0.66      0.66    320000\n",
            "weighted avg       0.66      0.66      0.66    320000\n",
            "\n"
          ]
        }
      ]
    },
    {
      "cell_type": "code",
      "source": [
        "accuracy_score(y_test_1d, y_pred_1d)"
      ],
      "metadata": {
        "colab": {
          "base_uri": "https://localhost:8080/"
        },
        "id": "LZ3bWWU3r6HO",
        "outputId": "b5455e36-06b7-424c-cdc0-263a90acb74e"
      },
      "execution_count": null,
      "outputs": [
        {
          "output_type": "execute_result",
          "data": {
            "text/plain": [
              "0.66119375"
            ]
          },
          "metadata": {},
          "execution_count": 67
        }
      ]
    },
    {
      "cell_type": "code",
      "source": [
        "model.save(KERAS_MODEL)\n",
        "w2v_model.save(WORD2VEC_MODEL)\n",
        "pickle.dump(tokenizer, open(TOKENIZER_MODEL, \"wb\"), protocol=0)\n",
        "pickle.dump(encoder, open(ENCODER_MODEL, \"wb\"), protocol=0)"
      ],
      "metadata": {
        "id": "iMzTmLKsr9DU"
      },
      "execution_count": null,
      "outputs": []
    },
    {
      "cell_type": "code",
      "source": [],
      "metadata": {
        "id": "23PHcwul2kus"
      },
      "execution_count": null,
      "outputs": []
    }
  ]
}